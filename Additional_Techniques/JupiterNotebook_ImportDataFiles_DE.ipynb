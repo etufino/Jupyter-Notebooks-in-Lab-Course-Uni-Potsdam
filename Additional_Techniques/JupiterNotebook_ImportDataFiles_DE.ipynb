{
  "cells": [
    {
      "cell_type": "markdown",
      "metadata": {
        "id": "iR28myzcgLjA"
      },
      "source": [
        "# Introduction to Jupiter Notebook  Lesson 2 Part 3\n",
        "designed and developed by Eugenio Tufino and Micol Alemani\n",
        "\n",
        "\n",
        "In diesem Notebook lernen wir kennen wie man Daten aus Dateien (.txt, .csv, .xlsx) in Jupyter Notebooks importiert.\n",
        "\n",
        "Im folgenden betrachten wir verschiedene Fälle für jeweils Google Colab bzw. JupyterLab. Wir werden auch den Fall betrachten, dass Daten aus einem lokalen Ordner, aus dem Internet oder aus einem Google Drive importiert werden. "
      ]
    },
    {
      "cell_type": "markdown",
      "metadata": {
        "id": "n9hftZeJyevF"
      },
      "source": [
        "Wie gewöhnlich beginnen wir damit die Pakete zu importieren (aus einem anderen Notebook kopiert):"
      ]
    },
    {
      "cell_type": "code",
      "execution_count": 3,
      "metadata": {
        "id": "MbTcJM84yumH"
      },
      "outputs": [],
      "source": [
        "# importiere alle Pakete die wir benoetigen\n",
        "import numpy as np\n",
        "import matplotlib.pyplot as plt\n",
        "import pandas as pd"
      ]
    },
    {
      "cell_type": "markdown",
      "metadata": {
        "id": "wgg4Ers0Ppp8"
      },
      "source": [
        "# Wie man Daten aus Datein (.txt, .csv, .xlsx (Excel)) mit der Pandas-Bibliothek importiert\n",
        "\n",
        "Wir werden die **pandas-Bibliothek** benutzen um die Daten zu Importieren und zu verwalten. Das Importieren von Dateien ist immer eine heikle Angelegenheit, also haben Sie Geduld, und mit der Zeit werden Sie lernen, wie Sie die Probleme selbst lösen können.\n",
        "\n",
        ".csv- und .txt-Datein sind übliche Text-Dateien. In .txt oder .csv Datein ist es üblich die Datenspalten durch Kommas \",\" zu trennen. Andere beliebte Trennsymbole sind Tabulatoren (\"\\t\") oder Semikolons (\";\"). \\\n",
        "Die Dateiendung .xlsx bezieht sich auf Excel-Datein.\n",
        "\n",
        "Im Allgemeinen kann man mit der Funktino **pd.read_csv** .csv und .txt Datein importieren. Der Standard-Trenner (engl. seperator oder delimiter) der read-csv Funktion ist das Komma. Wenn Sie den Seperator ändern möchten kann man das über das Argument **sep** ändern.\n",
        "\n",
        "Beispiel:\n",
        "Angenommen die Daten sind in der .csv-Datei \"data.csv\" und die Daten werden durch Semikolons (;) getrennt, dann würde man schreiben:\n",
        "\n",
        "```python\n",
        " df = pd.read_csv(\"data.csv\", sep = ';')\n",
        "\n",
        "```\n",
        "\n"
      ]
    },
    {
      "cell_type": "code",
      "execution_count": null,
      "metadata": {
        "id": "2PYZHmbbQItZ"
      },
      "outputs": [],
      "source": [
        "# als erstes importieren wir Pandas\n",
        "import pandas as pd"
      ]
    },
    {
      "cell_type": "markdown",
      "metadata": {
        "id": "YSzXfMUvWaIF"
      },
      "source": [
        "## Wie man Daten aus einem Ordner (auf dem eigenen Computer) importiert wenn man Jupyter Notebook mit Anaconda nutzt"
      ]
    },
    {
      "cell_type": "markdown",
      "metadata": {
        "id": "Frj5EElr8MQ_"
      },
      "source": [
        "Als erstes müssen wir herrausfinden in welchem Verzeichnis wir aktuell arbeiten. Um dies zu überprüfen bzw. ausgeben zu lassen benutzt man folgenden Befehl:"
      ]
    },
    {
      "cell_type": "code",
      "execution_count": null,
      "metadata": {
        "colab": {
          "base_uri": "https://localhost:8080/"
        },
        "id": "oVo2_LaF8I_A",
        "outputId": "34d45042-bf51-49cb-ce97-128258bc4571"
      },
      "outputs": [
        {
          "name": "stdout",
          "output_type": "stream",
          "text": [
            "C:\\Users\\richa\\laborbuch\\GrundpraktikumArbeit\\translation\\dritteubersetzung\n"
          ]
        }
      ],
      "source": [
        "import os    # importiere die os-Bibliothe um mit dem Betriebssystem zu interagieren\n",
        "print(os.getcwd()) # gebe das Arbeitsverzeichnis aus"
      ]
    },
    {
      "cell_type": "markdown",
      "metadata": {
        "id": "XUxVnRK888P8"
      },
      "source": [
        "Im folgenden betrachten wir den Fall, dass das Arbeitsverzeichniss 'C:/Users/eugen/' ist.\n",
        "\n",
        "Vorsicht falls Sie Mac nutzen, Dateipfade bei Mac beginnen nicht mit \"C:\\\", also kopieren Sie das was der Befehl oben ausgegeben hat."
      ]
    },
    {
      "cell_type": "markdown",
      "metadata": {
        "id": "6L1jfY3U8kMk"
      },
      "source": [
        "Nun sollten Sie in Ihrem Arbeitsverzeichnis einen Unterordner mit dem Namen 'data_folder_name' erstellen, in dem Sie die Daten ablegen, die Sie in unser Jupyter Notebook importieren möchten. Sie können z.B. die .csv-Datei auf Moodle mit dem Namen 'datafile_temperature.csv' verwenden, um es zu versuchen. \n",
        "\n",
        "Laden Sie in 'data_folder_name' die Datei, welche auf Moodle 'datafile_temperature.csv' heißt, hoch. Nun können Sie das Arbeitsverzeichnis mit dem folgenden Befehl ändern:\n",
        "\n",
        "```python\n",
        " os.chdir(\"C:/Users/eugen/data_folder_name/\")   # for WINDOWS USER\n",
        "```"
      ]
    },
    {
      "cell_type": "code",
      "execution_count": null,
      "metadata": {
        "id": "cyRb5_yo8-Lo",
        "outputId": "1c47c556-0d3f-4357-ffe9-7e01849dafcb"
      },
      "outputs": [
        {
          "ename": "FileNotFoundError",
          "evalue": "[WinError 3] Das System kann den angegebenen Pfad nicht finden: 'C:/Users/eugen/Desktop/potsdam notebook'",
          "output_type": "error",
          "traceback": [
            "\u001b[1;31m---------------------------------------------------------------------------\u001b[0m",
            "\u001b[1;31mFileNotFoundError\u001b[0m                         Traceback (most recent call last)",
            "Cell \u001b[1;32mIn[4], line 2\u001b[0m\n\u001b[0;32m      1\u001b[0m \u001b[38;5;66;03m#Solution (I called my  folder 'potsdam notebook')\u001b[39;00m\n\u001b[1;32m----> 2\u001b[0m \u001b[43mos\u001b[49m\u001b[38;5;241;43m.\u001b[39;49m\u001b[43mchdir\u001b[49m\u001b[43m(\u001b[49m\u001b[38;5;124;43m\"\u001b[39;49m\u001b[38;5;124;43mC:/Users/eugen/Desktop/potsdam notebook\u001b[39;49m\u001b[38;5;124;43m\"\u001b[39;49m\u001b[43m)\u001b[49m\n",
            "\u001b[1;31mFileNotFoundError\u001b[0m: [WinError 3] Das System kann den angegebenen Pfad nicht finden: 'C:/Users/eugen/Desktop/potsdam notebook'"
          ]
        }
      ],
      "source": [
        "#Solution (I called my  folder 'potsdam notebook')\n",
        "os.chdir(\"C:/Users/eugen/Desktop/potsdam notebook\")"
      ]
    },
    {
      "cell_type": "markdown",
      "metadata": {
        "id": "GWmgg_li9CEL"
      },
      "source": [
        "Jetzt können wir die Daten im Ordner data_folder_name in Jupyter-Notebook folgendermaßen importieren:\n",
        "\n",
        "```python\n",
        " pd.read_csv(\"datafile_temperature.csv\")   # das ist ein relativer Pfad\n",
        "```\n",
        "\n",
        "Beachten Sie dass der Trenner der Datei TAB ist. Also muss dieser mit **sep=\"\\t\"** spezifiziziert werden."
      ]
    },
    {
      "cell_type": "code",
      "execution_count": null,
      "metadata": {
        "id": "-Z829bXV8-Lp"
      },
      "outputs": [],
      "source": [
        "pd.read_csv(\"datafile_temperature.csv\", sep=\"\\t\") "
      ]
    },
    {
      "cell_type": "markdown",
      "metadata": {
        "id": "psZgzjPj9lpg"
      },
      "source": [
        "Wenn Sie es bevorzugen können Sie auch mit **absoluten Pfaden** die Datei spezifizieren:\n",
        "\n",
        "Für Windows-Nutzer:\n",
        "\n",
        "```python\n",
        "filepath=r'C:\\Users\\eugen\\Desktop\\potsdam notebook\\datafile_temperature.csv'\n",
        "pd.read_csv(filepath)\n",
        "```\n",
        "\n",
        "ANMERKUNG: Der Paramete  'r' vor den Anführungsstrichen bedeutet, dass es sich um einen \"rohen String\" (engl. \"raw string\") handelt, dort werden Backslashes buchstäblich und nicht als Escape-Symbol interpertiert.\n",
        "\n",
        "Für Mac-Nutzer:\n",
        "\n",
        "Da Sie Slashes (/) und nicht die Backslashes (\\) im Dateipfad nutzen, wird das 'r' am Anfang nicht benötigt:\n",
        "\n",
        "```python\n",
        "filepath=Users/eugen/Desktop/potsdam notebook/datafile_temperature.csv'\n",
        "```\n"
      ]
    },
    {
      "cell_type": "code",
      "execution_count": null,
      "metadata": {
        "id": "FSZ8pOUZ8-Lr"
      },
      "outputs": [],
      "source": [
        "#Solution C:\\Users\\eugen\\Desktop\\potsdam notebook\n",
        "#filepath=r'C:\\Users\\eugen\\Desktop\\potsdam notebook\\datafile_temperature.csv'   # Windows user\n",
        "filepath = \"datafile_temperature.csv\"\n",
        "#filepath=Users/eugen/Desktop/potsdam notebook/datafile_temperature.csv'  #Mac USer\n",
        "pd.read_csv(filepath, sep=\"\\t\")"
      ]
    },
    {
      "cell_type": "markdown",
      "metadata": {
        "id": "tokY5wxZNWpj"
      },
      "source": [
        "## Excel Datei importieren (auf dem eigenen Computer) wenn Sie Jupyter Notebook mit Anaconda nutzen"
      ]
    },
    {
      "cell_type": "markdown",
      "metadata": {
        "id": "LniN0UG6H2VO"
      },
      "source": [
        "Um Excel-Datein (.xlsx) in ein Pandas DataFrame zu importieren nutzt man die Methode [read_excel()](https://https://pandas.pydata.org/pandas-docs/stable/reference/api/pandas.read_excel.html)\n",
        "\n",
        "```python\n",
        "pd.read_excel(filepath)\n",
        "```\n",
        "Wenn die Excel-Datei aus mehreren Blättern (engl. sheets) besteht, kann das Blatt mit dem Argument 'sheet_name' auswählen. Zum Beispiel um 'sheet_1' aus der Datei welche unter filepath liegt zu importieren schreibt man:\n",
        "\n",
        "```python\n",
        "pd.read_excel(filepath, sheet_name='sheet_1')\n",
        "```\n",
        "\n",
        "Wenn das 'sheet_1' fünf Spalten enthält, kann man mit dem Argument `usecols='A:E'` bestimmen, dass nur die Spalten von A bis E gelesen werden, die Daten in anderen Spalten werden ignoriert.\n",
        "\n",
        "```python\n",
        "pd.read_excel(filepath, sheet_name='sheet_1', usecols='A:E')\n",
        "```\n"
      ]
    },
    {
      "cell_type": "code",
      "execution_count": null,
      "metadata": {
        "id": "7JwnE0378-Ls"
      },
      "outputs": [],
      "source": [
        "#Solution\n",
        "#filepath='/Users/micolalemani/TestFolder/ImportDataFile.xlsx'\n",
        "#filepath=r'C:\\Users\\eugen\\Desktop\\potsdam notebook\\datafile_temperature.xlsx'\n",
        "filepath = \"datafile_temperature.xlsx\"\n",
        "pd.read_excel(filepath)"
      ]
    },
    {
      "cell_type": "markdown",
      "metadata": {
        "id": "yqcaf5ZmcEQU"
      },
      "source": [
        "## Daten aus dem Internet importieren (Freiwillig: Sie sollten diese Aufgabe zuhause erledigen, wenn Sie es möchten)\n",
        "\n",
        "Wir behandeln nun den Fall, dass die Daten über einen Link über das Internet zu Verfügung gestellt wird.\n",
        "\n",
        "Wir betrachten im Folgenden die Datei von: https://gml.noaa.gov/ccgg/trends/data.html "
      ]
    },
    {
      "cell_type": "code",
      "execution_count": null,
      "metadata": {
        "id": "AJY1qmnObJNb"
      },
      "outputs": [],
      "source": [
        "dataCO2 = pd.read_csv('https://gml.noaa.gov/webdata/ccgg/trends/co2/co2_mm_mlo.csv',skiprows = 52)   # mit skiprows sagen wir, dass wie die ersten 52 Zeilen nicht betrachten"
      ]
    },
    {
      "cell_type": "code",
      "execution_count": null,
      "metadata": {
        "colab": {
          "base_uri": "https://localhost:8080/",
          "height": 206
        },
        "id": "LT1sYzyxb0ZI",
        "outputId": "fd595249-c692-4186-eedc-e697be6d241a"
      },
      "outputs": [
        {
          "data": {
            "text/html": [
              "\n",
              "  <div id=\"df-c8227e52-ee44-47e1-9e09-1df7db96b28c\">\n",
              "    <div class=\"colab-df-container\">\n",
              "      <div>\n",
              "<style scoped>\n",
              "    .dataframe tbody tr th:only-of-type {\n",
              "        vertical-align: middle;\n",
              "    }\n",
              "\n",
              "    .dataframe tbody tr th {\n",
              "        vertical-align: top;\n",
              "    }\n",
              "\n",
              "    .dataframe thead th {\n",
              "        text-align: right;\n",
              "    }\n",
              "</style>\n",
              "<table border=\"1\" class=\"dataframe\">\n",
              "  <thead>\n",
              "    <tr style=\"text-align: right;\">\n",
              "      <th></th>\n",
              "      <th>year</th>\n",
              "      <th>month</th>\n",
              "      <th>decimal date</th>\n",
              "      <th>average</th>\n",
              "      <th>deseasonalized</th>\n",
              "      <th>ndays</th>\n",
              "      <th>sdev</th>\n",
              "      <th>unc</th>\n",
              "    </tr>\n",
              "  </thead>\n",
              "  <tbody>\n",
              "    <tr>\n",
              "      <th>0</th>\n",
              "      <td>1958</td>\n",
              "      <td>3</td>\n",
              "      <td>1958.2027</td>\n",
              "      <td>315.70</td>\n",
              "      <td>314.43</td>\n",
              "      <td>-1</td>\n",
              "      <td>-9.99</td>\n",
              "      <td>-0.99</td>\n",
              "    </tr>\n",
              "    <tr>\n",
              "      <th>1</th>\n",
              "      <td>1958</td>\n",
              "      <td>4</td>\n",
              "      <td>1958.2877</td>\n",
              "      <td>317.45</td>\n",
              "      <td>315.16</td>\n",
              "      <td>-1</td>\n",
              "      <td>-9.99</td>\n",
              "      <td>-0.99</td>\n",
              "    </tr>\n",
              "    <tr>\n",
              "      <th>2</th>\n",
              "      <td>1958</td>\n",
              "      <td>5</td>\n",
              "      <td>1958.3699</td>\n",
              "      <td>317.51</td>\n",
              "      <td>314.71</td>\n",
              "      <td>-1</td>\n",
              "      <td>-9.99</td>\n",
              "      <td>-0.99</td>\n",
              "    </tr>\n",
              "    <tr>\n",
              "      <th>3</th>\n",
              "      <td>1958</td>\n",
              "      <td>6</td>\n",
              "      <td>1958.4548</td>\n",
              "      <td>317.24</td>\n",
              "      <td>315.14</td>\n",
              "      <td>-1</td>\n",
              "      <td>-9.99</td>\n",
              "      <td>-0.99</td>\n",
              "    </tr>\n",
              "    <tr>\n",
              "      <th>4</th>\n",
              "      <td>1958</td>\n",
              "      <td>7</td>\n",
              "      <td>1958.5370</td>\n",
              "      <td>315.86</td>\n",
              "      <td>315.18</td>\n",
              "      <td>-1</td>\n",
              "      <td>-9.99</td>\n",
              "      <td>-0.99</td>\n",
              "    </tr>\n",
              "  </tbody>\n",
              "</table>\n",
              "</div>\n",
              "      <button class=\"colab-df-convert\" onclick=\"convertToInteractive('df-c8227e52-ee44-47e1-9e09-1df7db96b28c')\"\n",
              "              title=\"Convert this dataframe to an interactive table.\"\n",
              "              style=\"display:none;\">\n",
              "        \n",
              "  <svg xmlns=\"http://www.w3.org/2000/svg\" height=\"24px\"viewBox=\"0 0 24 24\"\n",
              "       width=\"24px\">\n",
              "    <path d=\"M0 0h24v24H0V0z\" fill=\"none\"/>\n",
              "    <path d=\"M18.56 5.44l.94 2.06.94-2.06 2.06-.94-2.06-.94-.94-2.06-.94 2.06-2.06.94zm-11 1L8.5 8.5l.94-2.06 2.06-.94-2.06-.94L8.5 2.5l-.94 2.06-2.06.94zm10 10l.94 2.06.94-2.06 2.06-.94-2.06-.94-.94-2.06-.94 2.06-2.06.94z\"/><path d=\"M17.41 7.96l-1.37-1.37c-.4-.4-.92-.59-1.43-.59-.52 0-1.04.2-1.43.59L10.3 9.45l-7.72 7.72c-.78.78-.78 2.05 0 2.83L4 21.41c.39.39.9.59 1.41.59.51 0 1.02-.2 1.41-.59l7.78-7.78 2.81-2.81c.8-.78.8-2.07 0-2.86zM5.41 20L4 18.59l7.72-7.72 1.47 1.35L5.41 20z\"/>\n",
              "  </svg>\n",
              "      </button>\n",
              "      \n",
              "  <style>\n",
              "    .colab-df-container {\n",
              "      display:flex;\n",
              "      flex-wrap:wrap;\n",
              "      gap: 12px;\n",
              "    }\n",
              "\n",
              "    .colab-df-convert {\n",
              "      background-color: #E8F0FE;\n",
              "      border: none;\n",
              "      border-radius: 50%;\n",
              "      cursor: pointer;\n",
              "      display: none;\n",
              "      fill: #1967D2;\n",
              "      height: 32px;\n",
              "      padding: 0 0 0 0;\n",
              "      width: 32px;\n",
              "    }\n",
              "\n",
              "    .colab-df-convert:hover {\n",
              "      background-color: #E2EBFA;\n",
              "      box-shadow: 0px 1px 2px rgba(60, 64, 67, 0.3), 0px 1px 3px 1px rgba(60, 64, 67, 0.15);\n",
              "      fill: #174EA6;\n",
              "    }\n",
              "\n",
              "    [theme=dark] .colab-df-convert {\n",
              "      background-color: #3B4455;\n",
              "      fill: #D2E3FC;\n",
              "    }\n",
              "\n",
              "    [theme=dark] .colab-df-convert:hover {\n",
              "      background-color: #434B5C;\n",
              "      box-shadow: 0px 1px 3px 1px rgba(0, 0, 0, 0.15);\n",
              "      filter: drop-shadow(0px 1px 2px rgba(0, 0, 0, 0.3));\n",
              "      fill: #FFFFFF;\n",
              "    }\n",
              "  </style>\n",
              "\n",
              "      <script>\n",
              "        const buttonEl =\n",
              "          document.querySelector('#df-c8227e52-ee44-47e1-9e09-1df7db96b28c button.colab-df-convert');\n",
              "        buttonEl.style.display =\n",
              "          google.colab.kernel.accessAllowed ? 'block' : 'none';\n",
              "\n",
              "        async function convertToInteractive(key) {\n",
              "          const element = document.querySelector('#df-c8227e52-ee44-47e1-9e09-1df7db96b28c');\n",
              "          const dataTable =\n",
              "            await google.colab.kernel.invokeFunction('convertToInteractive',\n",
              "                                                     [key], {});\n",
              "          if (!dataTable) return;\n",
              "\n",
              "          const docLinkHtml = 'Like what you see? Visit the ' +\n",
              "            '<a target=\"_blank\" href=https://colab.research.google.com/notebooks/data_table.ipynb>data table notebook</a>'\n",
              "            + ' to learn more about interactive tables.';\n",
              "          element.innerHTML = '';\n",
              "          dataTable['output_type'] = 'display_data';\n",
              "          await google.colab.output.renderOutput(dataTable, element);\n",
              "          const docLink = document.createElement('div');\n",
              "          docLink.innerHTML = docLinkHtml;\n",
              "          element.appendChild(docLink);\n",
              "        }\n",
              "      </script>\n",
              "    </div>\n",
              "  </div>\n",
              "  "
            ],
            "text/plain": [
              "   year  month  decimal date  average  deseasonalized  ndays  sdev   unc\n",
              "0  1958      3     1958.2027   315.70          314.43     -1 -9.99 -0.99\n",
              "1  1958      4     1958.2877   317.45          315.16     -1 -9.99 -0.99\n",
              "2  1958      5     1958.3699   317.51          314.71     -1 -9.99 -0.99\n",
              "3  1958      6     1958.4548   317.24          315.14     -1 -9.99 -0.99\n",
              "4  1958      7     1958.5370   315.86          315.18     -1 -9.99 -0.99"
            ]
          },
          "execution_count": 4,
          "metadata": {},
          "output_type": "execute_result"
        }
      ],
      "source": [
        "dataCO2.head()"
      ]
    },
    {
      "cell_type": "markdown",
      "metadata": {
        "id": "Sqj9hLAeVg_y"
      },
      "source": [
        "## Daten importieren, wenn Sie Google Colab nutzen (optional, Sie sollten diese Aufgabe zuhause erledigen wenn Sie es tun möchten)"
      ]
    },
    {
      "cell_type": "markdown",
      "metadata": {
        "id": "L0RNZj304JcJ"
      },
      "source": [
        "Wenn Sie Google-Colab nurten und die Daten in einem Ordner in der Google Drive liegen, muss erst eine neue Bibliothek geladen werden um die Daten aus der Google Drive zu laden."
      ]
    },
    {
      "cell_type": "markdown",
      "metadata": {
        "id": "vJAeqX0eHHJp"
      },
      "source": [
        "### Fall A) Sie nutzen Google Colab und die Daten liegen in Google Drive"
      ]
    },
    {
      "cell_type": "code",
      "execution_count": 6,
      "metadata": {
        "colab": {
          "base_uri": "https://localhost:8080/"
        },
        "id": "slLL3sLhS3wi",
        "outputId": "f7791f9a-ff6d-451d-c710-f6322d403af1"
      },
      "outputs": [
        {
          "output_type": "stream",
          "name": "stdout",
          "text": [
            "Mounted at /content/drive/\n"
          ]
        }
      ],
      "source": [
        "from google.colab import drive    # Bibliothek um mit Google Drive zu interagieren\n",
        "\n",
        "drive.mount('/content/drive/', force_remount=True)"
      ]
    },
    {
      "cell_type": "markdown",
      "metadata": {
        "id": "4r80TIJcgmuj"
      },
      "source": [
        "Auf Moodle befindet sich eine Datei \"datafile_temperature.csv\". Diese Datei enthält Temperaturdaten eines Raumes als Funktion der Zeit gemessen mit einem Sensor.\n",
        "\n",
        "In dieser Datei werden die Spalten durch Tag (\"\\t\") getrennt.\n",
        "Laden Sie die Datei in Ihr Google Drive hoch. Dazu können Sie die Datei in den Ordner 'Colab Notebooks' hochladen und dann folgendermaßen auf die Datei zugreifen:"
      ]
    },
    {
      "cell_type": "code",
      "execution_count": 4,
      "metadata": {
        "id": "_XW2SMUbTUbH"
      },
      "outputs": [],
      "source": [
        "filelocation = '/content/drive/My Drive/Colab Notebooks/datafile_temperature.csv' "
      ]
    },
    {
      "cell_type": "markdown",
      "metadata": {
        "id": "ACu9d6ZhhHYP"
      },
      "source": [
        "Wir können die Datei mit der Funktion **pd.read_csv** auslesen"
      ]
    },
    {
      "cell_type": "code",
      "execution_count": 7,
      "metadata": {
        "id": "yeqFopHlPvOi"
      },
      "outputs": [],
      "source": [
        "data=pd.read_csv(filelocation, sep = '\\t') # pandas read_csv function reads the data file "
      ]
    },
    {
      "cell_type": "code",
      "execution_count": null,
      "metadata": {
        "colab": {
          "base_uri": "https://localhost:8080/",
          "height": 206
        },
        "id": "ABxxWjRxPvWM",
        "outputId": "e21476c7-6a83-4d01-fd61-206abae60811"
      },
      "outputs": [
        {
          "data": {
            "text/html": [
              "\n",
              "  <div id=\"df-5f347792-cfb9-49f6-9843-37d9764c5307\">\n",
              "    <div class=\"colab-df-container\">\n",
              "      <div>\n",
              "<style scoped>\n",
              "    .dataframe tbody tr th:only-of-type {\n",
              "        vertical-align: middle;\n",
              "    }\n",
              "\n",
              "    .dataframe tbody tr th {\n",
              "        vertical-align: top;\n",
              "    }\n",
              "\n",
              "    .dataframe thead th {\n",
              "        text-align: right;\n",
              "    }\n",
              "</style>\n",
              "<table border=\"1\" class=\"dataframe\">\n",
              "  <thead>\n",
              "    <tr style=\"text-align: right;\">\n",
              "      <th></th>\n",
              "      <th>Time(s)</th>\n",
              "      <th>Temperature (°C)</th>\n",
              "    </tr>\n",
              "  </thead>\n",
              "  <tbody>\n",
              "    <tr>\n",
              "      <th>0</th>\n",
              "      <td>0.019796</td>\n",
              "      <td>22.5907</td>\n",
              "    </tr>\n",
              "    <tr>\n",
              "      <th>1</th>\n",
              "      <td>0.039591</td>\n",
              "      <td>22.5907</td>\n",
              "    </tr>\n",
              "    <tr>\n",
              "      <th>2</th>\n",
              "      <td>0.059387</td>\n",
              "      <td>22.0563</td>\n",
              "    </tr>\n",
              "    <tr>\n",
              "      <th>3</th>\n",
              "      <td>0.079182</td>\n",
              "      <td>22.8935</td>\n",
              "    </tr>\n",
              "    <tr>\n",
              "      <th>4</th>\n",
              "      <td>0.098977</td>\n",
              "      <td>22.5016</td>\n",
              "    </tr>\n",
              "  </tbody>\n",
              "</table>\n",
              "</div>\n",
              "      <button class=\"colab-df-convert\" onclick=\"convertToInteractive('df-5f347792-cfb9-49f6-9843-37d9764c5307')\"\n",
              "              title=\"Convert this dataframe to an interactive table.\"\n",
              "              style=\"display:none;\">\n",
              "        \n",
              "  <svg xmlns=\"http://www.w3.org/2000/svg\" height=\"24px\"viewBox=\"0 0 24 24\"\n",
              "       width=\"24px\">\n",
              "    <path d=\"M0 0h24v24H0V0z\" fill=\"none\"/>\n",
              "    <path d=\"M18.56 5.44l.94 2.06.94-2.06 2.06-.94-2.06-.94-.94-2.06-.94 2.06-2.06.94zm-11 1L8.5 8.5l.94-2.06 2.06-.94-2.06-.94L8.5 2.5l-.94 2.06-2.06.94zm10 10l.94 2.06.94-2.06 2.06-.94-2.06-.94-.94-2.06-.94 2.06-2.06.94z\"/><path d=\"M17.41 7.96l-1.37-1.37c-.4-.4-.92-.59-1.43-.59-.52 0-1.04.2-1.43.59L10.3 9.45l-7.72 7.72c-.78.78-.78 2.05 0 2.83L4 21.41c.39.39.9.59 1.41.59.51 0 1.02-.2 1.41-.59l7.78-7.78 2.81-2.81c.8-.78.8-2.07 0-2.86zM5.41 20L4 18.59l7.72-7.72 1.47 1.35L5.41 20z\"/>\n",
              "  </svg>\n",
              "      </button>\n",
              "      \n",
              "  <style>\n",
              "    .colab-df-container {\n",
              "      display:flex;\n",
              "      flex-wrap:wrap;\n",
              "      gap: 12px;\n",
              "    }\n",
              "\n",
              "    .colab-df-convert {\n",
              "      background-color: #E8F0FE;\n",
              "      border: none;\n",
              "      border-radius: 50%;\n",
              "      cursor: pointer;\n",
              "      display: none;\n",
              "      fill: #1967D2;\n",
              "      height: 32px;\n",
              "      padding: 0 0 0 0;\n",
              "      width: 32px;\n",
              "    }\n",
              "\n",
              "    .colab-df-convert:hover {\n",
              "      background-color: #E2EBFA;\n",
              "      box-shadow: 0px 1px 2px rgba(60, 64, 67, 0.3), 0px 1px 3px 1px rgba(60, 64, 67, 0.15);\n",
              "      fill: #174EA6;\n",
              "    }\n",
              "\n",
              "    [theme=dark] .colab-df-convert {\n",
              "      background-color: #3B4455;\n",
              "      fill: #D2E3FC;\n",
              "    }\n",
              "\n",
              "    [theme=dark] .colab-df-convert:hover {\n",
              "      background-color: #434B5C;\n",
              "      box-shadow: 0px 1px 3px 1px rgba(0, 0, 0, 0.15);\n",
              "      filter: drop-shadow(0px 1px 2px rgba(0, 0, 0, 0.3));\n",
              "      fill: #FFFFFF;\n",
              "    }\n",
              "  </style>\n",
              "\n",
              "      <script>\n",
              "        const buttonEl =\n",
              "          document.querySelector('#df-5f347792-cfb9-49f6-9843-37d9764c5307 button.colab-df-convert');\n",
              "        buttonEl.style.display =\n",
              "          google.colab.kernel.accessAllowed ? 'block' : 'none';\n",
              "\n",
              "        async function convertToInteractive(key) {\n",
              "          const element = document.querySelector('#df-5f347792-cfb9-49f6-9843-37d9764c5307');\n",
              "          const dataTable =\n",
              "            await google.colab.kernel.invokeFunction('convertToInteractive',\n",
              "                                                     [key], {});\n",
              "          if (!dataTable) return;\n",
              "\n",
              "          const docLinkHtml = 'Like what you see? Visit the ' +\n",
              "            '<a target=\"_blank\" href=https://colab.research.google.com/notebooks/data_table.ipynb>data table notebook</a>'\n",
              "            + ' to learn more about interactive tables.';\n",
              "          element.innerHTML = '';\n",
              "          dataTable['output_type'] = 'display_data';\n",
              "          await google.colab.output.renderOutput(dataTable, element);\n",
              "          const docLink = document.createElement('div');\n",
              "          docLink.innerHTML = docLinkHtml;\n",
              "          element.appendChild(docLink);\n",
              "        }\n",
              "      </script>\n",
              "    </div>\n",
              "  </div>\n",
              "  "
            ],
            "text/plain": [
              "    Time(s)  Temperature (°C)\n",
              "0  0.019796           22.5907\n",
              "1  0.039591           22.5907\n",
              "2  0.059387           22.0563\n",
              "3  0.079182           22.8935\n",
              "4  0.098977           22.5016"
            ]
          },
          "execution_count": 17,
          "metadata": {},
          "output_type": "execute_result"
        }
      ],
      "source": [
        "data.head()    # with the command head we can see, by default, the first 5 rows of the dataframe, you can choose the numbers of rows, for example: data.head(10) will show the first 10 rows"
      ]
    },
    {
      "cell_type": "code",
      "execution_count": 8,
      "metadata": {
        "colab": {
          "base_uri": "https://localhost:8080/"
        },
        "id": "l5gfI8oFm1Nw",
        "outputId": "e302136a-5cc9-43be-dd6f-6d3ddaa52b99"
      },
      "outputs": [
        {
          "output_type": "execute_result",
          "data": {
            "text/plain": [
              "Index(['Time(s)', 'Temperature (°C)'], dtype='object')"
            ]
          },
          "metadata": {},
          "execution_count": 8
        }
      ],
      "source": [
        "data.columns"
      ]
    },
    {
      "cell_type": "code",
      "execution_count": 9,
      "metadata": {
        "colab": {
          "base_uri": "https://localhost:8080/",
          "height": 475
        },
        "id": "xByxabXUx1cn",
        "outputId": "bf6a1da9-8ab4-4b44-f313-e9eeb37cdfd0"
      },
      "outputs": [
        {
          "output_type": "display_data",
          "data": {
            "text/plain": [
              "<Figure size 1080x504 with 1 Axes>"
            ],
            "image/png": "[encoded data removed]"
          },
          "metadata": {
            "needs_background": "light"
          }
        }
      ],
      "source": [
        "plt.figure(figsize=(15,7))\n",
        "time = data['Time(s)'] # variable time assigned to the desired column of the dataframe\n",
        "temperature = data['Temperature (°C)']  # variable temperature assigned to the desired column of the dataframe\n",
        "plt.plot(time , temperature,'r', label='Sensor-Daten')\n",
        "plt.xlabel('Zeit (s)', fontsize=18)\n",
        "plt.ylabel('Temperatur (°C)',fontsize=18)\n",
        "plt.xlim(0, 10)\n",
        "plt.ylim(20, 25)\n",
        "plt.legend(fontsize=18)\n",
        "plt.grid()\n",
        "plt.title(\"Temperatur des Raumes\", fontsize=24)\n",
        "plt.show()"
      ]
    },
    {
      "cell_type": "markdown",
      "metadata": {
        "id": "VA_DMpoHmwse"
      },
      "source": [
        "### Fall B) Sie nutzen Google Colab und die Datei liegt auf Ihrem localen Computer\n",
        "Wenn sich die Datei mit dem Namen 'datafile_temperature.csv' auf Ihrem lokalen Laufwerk befindet, kann sie mit der Funktion **files.upload()** direkt in Google Colab importiert werden (ohne vorher in das Google Drive hochzuladen). \n",
        "\n",
        "Sie können versuchen, den Zellcode unten auszuführen und Ihre Datei hochzuladen, indem Sie das Kommentarsymbol '#' entfernen. Achten Sie darauf, den richtigen Dateinamen zu verwenden (anstelle von \"MyData\"), da Groß- und Kleinschreibung unterschieden werden."
      ]
    },
    {
      "cell_type": "code",
      "execution_count": 11,
      "metadata": {
        "colab": {
          "base_uri": "https://localhost:8080/",
          "height": 74
        },
        "id": "XA8o_8u-11dz",
        "outputId": "0d0b0b1b-c501-47f0-8825-68bc3f4cde2c"
      },
      "outputs": [
        {
          "output_type": "display_data",
          "data": {
            "text/plain": [
              "<IPython.core.display.HTML object>"
            ],
            "text/html": [
              "\n",
              "     <input type=\"file\" id=\"files-80a541bd-a4ca-44ce-8f80-6b07aafa8bde\" name=\"files[]\" multiple disabled\n",
              "        style=\"border:none\" />\n",
              "     <output id=\"result-80a541bd-a4ca-44ce-8f80-6b07aafa8bde\">\n",
              "      Upload widget is only available when the cell has been executed in the\n",
              "      current browser session. Please rerun this cell to enable.\n",
              "      </output>\n",
              "      <script>// Copyright 2017 Google LLC\n",
              "//\n",
              "// Licensed under the Apache License, Version 2.0 (the \"License\");\n",
              "// you may not use this file except in compliance with the License.\n",
              "// You may obtain a copy of the License at\n",
              "//\n",
              "//      http://www.apache.org/licenses/LICENSE-2.0\n",
              "//\n",
              "// Unless required by applicable law or agreed to in writing, software\n",
              "// distributed under the License is distributed on an \"AS IS\" BASIS,\n",
              "// WITHOUT WARRANTIES OR CONDITIONS OF ANY KIND, either express or implied.\n",
              "// See the License for the specific language governing permissions and\n",
              "// limitations under the License.\n",
              "\n",
              "/**\n",
              " * @fileoverview Helpers for google.colab Python module.\n",
              " */\n",
              "(function(scope) {\n",
              "function span(text, styleAttributes = {}) {\n",
              "  const element = document.createElement('span');\n",
              "  element.textContent = text;\n",
              "  for (const key of Object.keys(styleAttributes)) {\n",
              "    element.style[key] = styleAttributes[key];\n",
              "  }\n",
              "  return element;\n",
              "}\n",
              "\n",
              "// Max number of bytes which will be uploaded at a time.\n",
              "const MAX_PAYLOAD_SIZE = 100 * 1024;\n",
              "\n",
              "function _uploadFiles(inputId, outputId) {\n",
              "  const steps = uploadFilesStep(inputId, outputId);\n",
              "  const outputElement = document.getElementById(outputId);\n",
              "  // Cache steps on the outputElement to make it available for the next call\n",
              "  // to uploadFilesContinue from Python.\n",
              "  outputElement.steps = steps;\n",
              "\n",
              "  return _uploadFilesContinue(outputId);\n",
              "}\n",
              "\n",
              "// This is roughly an async generator (not supported in the browser yet),\n",
              "// where there are multiple asynchronous steps and the Python side is going\n",
              "// to poll for completion of each step.\n",
              "// This uses a Promise to block the python side on completion of each step,\n",
              "// then passes the result of the previous step as the input to the next step.\n",
              "function _uploadFilesContinue(outputId) {\n",
              "  const outputElement = document.getElementById(outputId);\n",
              "  const steps = outputElement.steps;\n",
              "\n",
              "  const next = steps.next(outputElement.lastPromiseValue);\n",
              "  return Promise.resolve(next.value.promise).then((value) => {\n",
              "    // Cache the last promise value to make it available to the next\n",
              "    // step of the generator.\n",
              "    outputElement.lastPromiseValue = value;\n",
              "    return next.value.response;\n",
              "  });\n",
              "}\n",
              "\n",
              "/**\n",
              " * Generator function which is called between each async step of the upload\n",
              " * process.\n",
              " * @param {string} inputId Element ID of the input file picker element.\n",
              " * @param {string} outputId Element ID of the output display.\n",
              " * @return {!Iterable<!Object>} Iterable of next steps.\n",
              " */\n",
              "function* uploadFilesStep(inputId, outputId) {\n",
              "  const inputElement = document.getElementById(inputId);\n",
              "  inputElement.disabled = false;\n",
              "\n",
              "  const outputElement = document.getElementById(outputId);\n",
              "  outputElement.innerHTML = '';\n",
              "\n",
              "  const pickedPromise = new Promise((resolve) => {\n",
              "    inputElement.addEventListener('change', (e) => {\n",
              "      resolve(e.target.files);\n",
              "    });\n",
              "  });\n",
              "\n",
              "  const cancel = document.createElement('button');\n",
              "  inputElement.parentElement.appendChild(cancel);\n",
              "  cancel.textContent = 'Cancel upload';\n",
              "  const cancelPromise = new Promise((resolve) => {\n",
              "    cancel.onclick = () => {\n",
              "      resolve(null);\n",
              "    };\n",
              "  });\n",
              "\n",
              "  // Wait for the user to pick the files.\n",
              "  const files = yield {\n",
              "    promise: Promise.race([pickedPromise, cancelPromise]),\n",
              "    response: {\n",
              "      action: 'starting',\n",
              "    }\n",
              "  };\n",
              "\n",
              "  cancel.remove();\n",
              "\n",
              "  // Disable the input element since further picks are not allowed.\n",
              "  inputElement.disabled = true;\n",
              "\n",
              "  if (!files) {\n",
              "    return {\n",
              "      response: {\n",
              "        action: 'complete',\n",
              "      }\n",
              "    };\n",
              "  }\n",
              "\n",
              "  for (const file of files) {\n",
              "    const li = document.createElement('li');\n",
              "    li.append(span(file.name, {fontWeight: 'bold'}));\n",
              "    li.append(span(\n",
              "        `(${file.type || 'n/a'}) - ${file.size} bytes, ` +\n",
              "        `last modified: ${\n",
              "            file.lastModifiedDate ? file.lastModifiedDate.toLocaleDateString() :\n",
              "                                    'n/a'} - `));\n",
              "    const percent = span('0% done');\n",
              "    li.appendChild(percent);\n",
              "\n",
              "    outputElement.appendChild(li);\n",
              "\n",
              "    const fileDataPromise = new Promise((resolve) => {\n",
              "      const reader = new FileReader();\n",
              "      reader.onload = (e) => {\n",
              "        resolve(e.target.result);\n",
              "      };\n",
              "      reader.readAsArrayBuffer(file);\n",
              "    });\n",
              "    // Wait for the data to be ready.\n",
              "    let fileData = yield {\n",
              "      promise: fileDataPromise,\n",
              "      response: {\n",
              "        action: 'continue',\n",
              "      }\n",
              "    };\n",
              "\n",
              "    // Use a chunked sending to avoid message size limits. See b/62115660.\n",
              "    let position = 0;\n",
              "    do {\n",
              "      const length = Math.min(fileData.byteLength - position, MAX_PAYLOAD_SIZE);\n",
              "      const chunk = new Uint8Array(fileData, position, length);\n",
              "      position += length;\n",
              "\n",
              "      const base64 = btoa(String.fromCharCode.apply(null, chunk));\n",
              "      yield {\n",
              "        response: {\n",
              "          action: 'append',\n",
              "          file: file.name,\n",
              "          data: base64,\n",
              "        },\n",
              "      };\n",
              "\n",
              "      let percentDone = fileData.byteLength === 0 ?\n",
              "          100 :\n",
              "          Math.round((position / fileData.byteLength) * 100);\n",
              "      percent.textContent = `${percentDone}% done`;\n",
              "\n",
              "    } while (position < fileData.byteLength);\n",
              "  }\n",
              "\n",
              "  // All done.\n",
              "  yield {\n",
              "    response: {\n",
              "      action: 'complete',\n",
              "    }\n",
              "  };\n",
              "}\n",
              "\n",
              "scope.google = scope.google || {};\n",
              "scope.google.colab = scope.google.colab || {};\n",
              "scope.google.colab._files = {\n",
              "  _uploadFiles,\n",
              "  _uploadFilesContinue,\n",
              "};\n",
              "})(self);\n",
              "</script> "
            ]
          },
          "metadata": {}
        },
        {
          "output_type": "stream",
          "name": "stdout",
          "text": [
            "Saving datafile_temperature.csv to datafile_temperature.csv\n"
          ]
        }
      ],
      "source": [
        "from google.colab import files\n",
        "import io\n",
        "uploaded = files.upload()\n",
        "dataframe2 = pd.read_csv(io.BytesIO(uploaded['datafile_temperature.csv']), sep=\"\\t\")\n"
      ]
    },
    {
      "cell_type": "code",
      "execution_count": 12,
      "metadata": {
        "colab": {
          "base_uri": "https://localhost:8080/",
          "height": 217
        },
        "id": "8ctpI_27oB7j",
        "outputId": "cee46c6c-f1ab-4588-cc27-bb7915119d4d"
      },
      "outputs": [
        {
          "output_type": "execute_result",
          "data": {
            "text/plain": [
              "    Time(s)  Temperature (°C)\n",
              "0  0.019796           22.5907\n",
              "1  0.039591           22.5907\n",
              "2  0.059387           22.0563\n",
              "3  0.079182           22.8935\n",
              "4  0.098977           22.5016"
            ],
            "text/html": [
              "\n",
              "  <div id=\"df-e37ba505-2f4a-4cbc-a9f6-ea7c9dad0cd8\">\n",
              "    <div class=\"colab-df-container\">\n",
              "      <div>\n",
              "<style scoped>\n",
              "    .dataframe tbody tr th:only-of-type {\n",
              "        vertical-align: middle;\n",
              "    }\n",
              "\n",
              "    .dataframe tbody tr th {\n",
              "        vertical-align: top;\n",
              "    }\n",
              "\n",
              "    .dataframe thead th {\n",
              "        text-align: right;\n",
              "    }\n",
              "</style>\n",
              "<table border=\"1\" class=\"dataframe\">\n",
              "  <thead>\n",
              "    <tr style=\"text-align: right;\">\n",
              "      <th></th>\n",
              "      <th>Time(s)</th>\n",
              "      <th>Temperature (°C)</th>\n",
              "    </tr>\n",
              "  </thead>\n",
              "  <tbody>\n",
              "    <tr>\n",
              "      <th>0</th>\n",
              "      <td>0.019796</td>\n",
              "      <td>22.5907</td>\n",
              "    </tr>\n",
              "    <tr>\n",
              "      <th>1</th>\n",
              "      <td>0.039591</td>\n",
              "      <td>22.5907</td>\n",
              "    </tr>\n",
              "    <tr>\n",
              "      <th>2</th>\n",
              "      <td>0.059387</td>\n",
              "      <td>22.0563</td>\n",
              "    </tr>\n",
              "    <tr>\n",
              "      <th>3</th>\n",
              "      <td>0.079182</td>\n",
              "      <td>22.8935</td>\n",
              "    </tr>\n",
              "    <tr>\n",
              "      <th>4</th>\n",
              "      <td>0.098977</td>\n",
              "      <td>22.5016</td>\n",
              "    </tr>\n",
              "  </tbody>\n",
              "</table>\n",
              "</div>\n",
              "      <button class=\"colab-df-convert\" onclick=\"convertToInteractive('df-e37ba505-2f4a-4cbc-a9f6-ea7c9dad0cd8')\"\n",
              "              title=\"Convert this dataframe to an interactive table.\"\n",
              "              style=\"display:none;\">\n",
              "        \n",
              "  <svg xmlns=\"http://www.w3.org/2000/svg\" height=\"24px\"viewBox=\"0 0 24 24\"\n",
              "       width=\"24px\">\n",
              "    <path d=\"M0 0h24v24H0V0z\" fill=\"none\"/>\n",
              "    <path d=\"M18.56 5.44l.94 2.06.94-2.06 2.06-.94-2.06-.94-.94-2.06-.94 2.06-2.06.94zm-11 1L8.5 8.5l.94-2.06 2.06-.94-2.06-.94L8.5 2.5l-.94 2.06-2.06.94zm10 10l.94 2.06.94-2.06 2.06-.94-2.06-.94-.94-2.06-.94 2.06-2.06.94z\"/><path d=\"M17.41 7.96l-1.37-1.37c-.4-.4-.92-.59-1.43-.59-.52 0-1.04.2-1.43.59L10.3 9.45l-7.72 7.72c-.78.78-.78 2.05 0 2.83L4 21.41c.39.39.9.59 1.41.59.51 0 1.02-.2 1.41-.59l7.78-7.78 2.81-2.81c.8-.78.8-2.07 0-2.86zM5.41 20L4 18.59l7.72-7.72 1.47 1.35L5.41 20z\"/>\n",
              "  </svg>\n",
              "      </button>\n",
              "      \n",
              "  <style>\n",
              "    .colab-df-container {\n",
              "      display:flex;\n",
              "      flex-wrap:wrap;\n",
              "      gap: 12px;\n",
              "    }\n",
              "\n",
              "    .colab-df-convert {\n",
              "      background-color: #E8F0FE;\n",
              "      border: none;\n",
              "      border-radius: 50%;\n",
              "      cursor: pointer;\n",
              "      display: none;\n",
              "      fill: #1967D2;\n",
              "      height: 32px;\n",
              "      padding: 0 0 0 0;\n",
              "      width: 32px;\n",
              "    }\n",
              "\n",
              "    .colab-df-convert:hover {\n",
              "      background-color: #E2EBFA;\n",
              "      box-shadow: 0px 1px 2px rgba(60, 64, 67, 0.3), 0px 1px 3px 1px rgba(60, 64, 67, 0.15);\n",
              "      fill: #174EA6;\n",
              "    }\n",
              "\n",
              "    [theme=dark] .colab-df-convert {\n",
              "      background-color: #3B4455;\n",
              "      fill: #D2E3FC;\n",
              "    }\n",
              "\n",
              "    [theme=dark] .colab-df-convert:hover {\n",
              "      background-color: #434B5C;\n",
              "      box-shadow: 0px 1px 3px 1px rgba(0, 0, 0, 0.15);\n",
              "      filter: drop-shadow(0px 1px 2px rgba(0, 0, 0, 0.3));\n",
              "      fill: #FFFFFF;\n",
              "    }\n",
              "  </style>\n",
              "\n",
              "      <script>\n",
              "        const buttonEl =\n",
              "          document.querySelector('#df-e37ba505-2f4a-4cbc-a9f6-ea7c9dad0cd8 button.colab-df-convert');\n",
              "        buttonEl.style.display =\n",
              "          google.colab.kernel.accessAllowed ? 'block' : 'none';\n",
              "\n",
              "        async function convertToInteractive(key) {\n",
              "          const element = document.querySelector('#df-e37ba505-2f4a-4cbc-a9f6-ea7c9dad0cd8');\n",
              "          const dataTable =\n",
              "            await google.colab.kernel.invokeFunction('convertToInteractive',\n",
              "                                                     [key], {});\n",
              "          if (!dataTable) return;\n",
              "\n",
              "          const docLinkHtml = 'Like what you see? Visit the ' +\n",
              "            '<a target=\"_blank\" href=https://colab.research.google.com/notebooks/data_table.ipynb>data table notebook</a>'\n",
              "            + ' to learn more about interactive tables.';\n",
              "          element.innerHTML = '';\n",
              "          dataTable['output_type'] = 'display_data';\n",
              "          await google.colab.output.renderOutput(dataTable, element);\n",
              "          const docLink = document.createElement('div');\n",
              "          docLink.innerHTML = docLinkHtml;\n",
              "          element.appendChild(docLink);\n",
              "        }\n",
              "      </script>\n",
              "    </div>\n",
              "  </div>\n",
              "  "
            ]
          },
          "metadata": {},
          "execution_count": 12
        }
      ],
      "source": [
        "dataframe2.head()\n"
      ]
    },
    {
      "cell_type": "markdown",
      "metadata": {
        "id": "Osd9Wan5os63"
      },
      "source": [
        "# Sind Sie neugierig, wie man eine Daten-Datei mit Pandas bearbeitet? \n",
        "\n",
        "Sie können unser Notebook über das Bearbeiten von Datendateien mit Pandas lesen."
      ]
    },
    {
      "cell_type": "code",
      "execution_count": null,
      "metadata": {
        "id": "bU_oOEMPo3Q0"
      },
      "outputs": [],
      "source": []
    }
  ],
  "metadata": {
    "colab": {
      "provenance": []
    },
    "kernelspec": {
      "display_name": "Python 3 (ipykernel)",
      "language": "python",
      "name": "python3"
    },
    "language_info": {
      "codemirror_mode": {
        "name": "ipython",
        "version": 3
      },
      "file_extension": ".py",
      "mimetype": "text/x-python",
      "name": "python",
      "nbconvert_exporter": "python",
      "pygments_lexer": "ipython3",
      "version": "3.9.13"
    }
  },
  "nbformat": 4,
  "nbformat_minor": 0
}
