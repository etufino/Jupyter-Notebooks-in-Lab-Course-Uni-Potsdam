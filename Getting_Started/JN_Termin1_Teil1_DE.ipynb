{
  "cells": [
    {
      "cell_type": "markdown",
      "metadata": {
        "id": "iR28myzcgLjA"
      },
      "source": [
        "# Einführung in Python und Jupyter Notebooks Kapitel 1 Teil 1\n",
        "entwickelt und entworfen von Eugenio Tufino und Micol Alemani\n",
        "\n",
        "\n",
        "**Einleitung:**\n",
        "\n",
        "Dieses Jupyter Notebook wurde in der [Anaconda Umgebung](https://www.anaconda.com/products/distribution) geschrieben. Anaconda kann kostenlos heruntergeladen werden. Falls Sie bereits einen Google Account besitzen, können Sie alle Notebooks, ebenfalls mit [Google Colab](https://colab.research.google.com/) öffnen und ausführen. Colab ist in Ihrem Google Drive vorinstalliert. Wenn Sie Anaconda nicht installieren möchten und Sie keinen Google Account besitzen, gibt es die Option, die Notebooks mit einem Browser auszuführen. Gehen Sie dazu auf die Seite [Jupyter](https://jupyter.org), wählen Sie \"Try\" und auschließend \"Jupyter Notebook\" oder gehen Sie direkt auf [JupyterTry](https://jupyter.org/try).\n",
        "Im Folgenden beziehen wir uns auf **Jupyter Notebooks mit Anaconda** unter Nutzung von JupyterLab.\n",
        "\n",
        "**Literatur**:\n",
        "\n",
        "Am Ende dieses Notebooks befindet sich eine Liste nützlicher Literatur zur Programmierung mit Python und zur wissenschaftlichen Nutzung von Jupyter Notebooks.\n",
        "\n",
        "**Los gehts :-)...**\n",
        "\n",
        "Ein Notebook besteht aus verschiedenen Typen von Zellen (engl. cells, cell types). Zum Einen gibt es die Code-Zellen, in welche Programmcode geschrieben werden kann und zum Anderen Text-Zellen, welche dazu dienen Text, Formeln und Bildern einzufügen. Der Zell-Typ kann durch Auswählen der Zelle und Einstellen von **\"Markdown\"** für Text-Zellen oder **\"Code\"** für Code-Zellen in der Menüleiste gewechselt werden.\n",
        "\n",
        "Um eine Markdown-Zelle zu editieren, muss diese durch einen Doppelklick angewählt werden. Anschließend kann der Text eingefügt oder verändert und anschließend über die Kombination der SHIFT- und ENTER-Tasten bestätigt werden. Alternativ wird die Zelle nach der Editierung über den \"Run\"-Befehl in der Menüleiste ausgeführt werden."
      ]
    },
    {
      "cell_type": "markdown",
      "metadata": {
        "id": "M4e8zJd20GE1"
      },
      "source": [
        "### Mein erster Code im Jupyter Notebook\n",
        "Wir beginnen damit, den Satz \"Hello World\" durch Python ausgeben zu lassen.\n",
        "\n",
        "In Code-Zellen kann das Raute-Symbol `#` genutzt werden, um den Code zu kommentieren. Kommentare werden nicht mit ausgeführt und sind nützlich, um Ihre Arbeit für Sie und andere nachvollziehbar zu gestalten. Es ist daher sinnvoll, eigenen Code stets gut zu kommentieren."
      ]
    },
    {
      "cell_type": "code",
      "execution_count": null,
      "metadata": {
        "colab": {
          "base_uri": "https://localhost:8080/"
        },
        "id": "sYMB9MB20GE5",
        "outputId": "100c63da-abe2-4819-9381-3069eb6f795b"
      },
      "outputs": [
        {
          "name": "stdout",
          "output_type": "stream",
          "text": [
            "Hello World\n"
          ]
        }
      ],
      "source": [
        "print(\"Hello World\")    #druecke SHIFT + ENTER um die Zelle asuzufuehren"
      ]
    },
    {
      "cell_type": "markdown",
      "metadata": {
        "id": "0sp81rfEgqoM"
      },
      "source": [
        "### Python als Taschenrechner\n",
        "In diesem Abschnitt soll gezeigt werden, wie sich die Notebooks als wissenschaftlichen Taschenrechner verwenden lassen.\n",
        "\n",
        "\n",
        "Um einer Variable einen Wert zuzuweisen, wird in Python der Zuweisungsoperator '**=**' (engl. assigment operator) genutzt.\n",
        "\n",
        "Zum Beispiel:\n",
        "\n",
        "`a=10`\n",
        "\n",
        "Die Zahl 10 wird in der Variable `a` gespeichert.\n",
        "\n",
        "**Wichtiger Kommentar:**\n",
        "Python nutzt Zeilenumbrüche, um einen Befehl zu beenden. Daher muss jede Anweisung auf einer neuen Zeile beginnen.\n",
        "\n",
        "Die wichtigsten Symbole für arithmetische Operationen sind folgende:\n",
        "\n",
        "- $+$ zur Addition\n",
        "- \\- zur Subtraktion\n",
        "- $*$ zur Multiplikation\n",
        "- / zur Division\n",
        "- ** für Exponenten\n",
        "- // für Integer-Division (dividiert Zahlen, wobei das Ergebnis auf ganze Zahlen gerundet wird)\n",
        "- % für Modulo (gibt den Rest bei der Division zurück)\n"
      ]
    },
    {
      "cell_type": "code",
      "execution_count": null,
      "metadata": {
        "colab": {
          "base_uri": "https://localhost:8080/"
        },
        "id": "55TUDuq_gLjG",
        "outputId": "3549f026-b9a2-4a6b-d402-259bfb7686a7",
        "trusted": true
      },
      "outputs": [
        {
          "data": {
            "text/plain": [
              "18.200000000000003"
            ]
          },
          "execution_count": 1,
          "metadata": {},
          "output_type": "execute_result"
        }
      ],
      "source": [
        "# Beispiel einer einfachen Rechnung, drücken Sie SHIFT und ENTER um die Zelle auszufuehren\n",
        "3*5.4+2"
      ]
    },
    {
      "cell_type": "code",
      "execution_count": null,
      "metadata": {
        "colab": {
          "base_uri": "https://localhost:8080/"
        },
        "id": "56qUJjZugLjI",
        "outputId": "c0e9bebb-12bf-403d-b59d-d19b9e01bdae",
        "trusted": true
      },
      "outputs": [
        {
          "name": "stdout",
          "output_type": "stream",
          "text": [
            "30\n"
          ]
        }
      ],
      "source": [
        "x = 10\n",
        "y = 3 # Weist den Varibalen x und y Werte zu\n",
        "c=x*y # weist der Varibale c den Wert einer mathematischen Operation zu, z.B. den Wert einer Multiplikation\n",
        "print(c) # mit diesem Befehl geben Sie den Wert der Operation aus"
      ]
    },
    {
      "cell_type": "code",
      "execution_count": null,
      "metadata": {
        "colab": {
          "base_uri": "https://localhost:8080/"
        },
        "id": "49_pXPGwFvq-",
        "outputId": "632de52f-0379-4a7d-b1d6-3557b937b612"
      },
      "outputs": [
        {
          "name": "stdout",
          "output_type": "stream",
          "text": [
            "w= 1.464\n"
          ]
        }
      ],
      "source": [
        "z=3/4+5/7  # Sie koennen auch Brueche addieren\n",
        "w=round(z,3)  #  mit der Funktion 'round' koennen Sie die Zahl z auf z.B. 3 Dezimalstellen runden\n",
        "print(\"w=\",w) # mit diesem Befehl geben Sie das Ergebnis der Operation sowie den in Anfuehrungsstrichen festgelegten Text aus"
      ]
    },
    {
      "cell_type": "code",
      "execution_count": null,
      "metadata": {
        "colab": {
          "base_uri": "https://localhost:8080/"
        },
        "id": "AAWYjAqKLXLd",
        "outputId": "9b1043eb-8062-4aaa-9922-416ca2a617d2"
      },
      "outputs": [
        {
          "name": "stdout",
          "output_type": "stream",
          "text": [
            "Die Summe von x und y ist:  13\n"
          ]
        }
      ],
      "source": [
        "# Ein weiteres Beipsiel einer mathematischen Operation\n",
        "print(\"Die Summe von x und y ist: \",x+y)"
      ]
    },
    {
      "cell_type": "code",
      "execution_count": null,
      "metadata": {
        "colab": {
          "base_uri": "https://localhost:8080/"
        },
        "id": "T1MQunLIuEHF",
        "outputId": "cd913823-7c09-473c-ee0c-5c5c8d42c2ab",
        "trusted": true
      },
      "outputs": [
        {
          "name": "stdout",
          "output_type": "stream",
          "text": [
            "9\n"
          ]
        }
      ],
      "source": [
        "# Potenzen: Um das Quadrat einer Zahl a zu bestimmen, wird ein doppeltes Sternchen verwendet, z.B. a**2\n",
        "d=y**2  # Potenzieren\n",
        "print(d)  # Ergebnis wird ausgegeben"
      ]
    },
    {
      "cell_type": "code",
      "execution_count": null,
      "metadata": {
        "colab": {
          "base_uri": "https://localhost:8080/"
        },
        "id": "Gs3dV5JUm4nU",
        "outputId": "473551c9-7fd7-486d-9de9-baf97aeeafec",
        "trusted": true
      },
      "outputs": [
        {
          "name": "stdout",
          "output_type": "stream",
          "text": [
            "81\n"
          ]
        }
      ],
      "source": [
        "# Potenzen mit anderen Exponenten\n",
        "y=3**4 # dies zeigt die Operation 3 hoch 4 an\n",
        "print(y)"
      ]
    },
    {
      "cell_type": "markdown",
      "metadata": {
        "id": "katgCeJ8KJN0"
      },
      "source": [
        "### Wissenschaftliche Schreibweise (Kurzschreibweise)\n",
        "\n",
        "Angenommen, Sie haben die folgende Zahl: 2.51 x 10$^{-5}$.\n",
        "Diese kann geschrieben werden als:\n",
        "\n",
        "\n",
        "```\n",
        "# 2.51*10**-5\n",
        "```\n",
        "oder Sie nutzen die kompakte Syntax mit dem Buchstaben \"e\" gefolgt von dem Exponenten im Dezimalsystem als ganzen Zahl:\n",
        "\n",
        "\n",
        "\n",
        "```\n",
        "# 2.51e-05\n",
        "\n",
        "```\n",
        "\n",
        "\n"
      ]
    },
    {
      "cell_type": "markdown",
      "metadata": {
        "id": "CSHCej3LW0FJ"
      },
      "source": [
        "**Übung 1:**\n",
        "Schreiben Sie die Zahl 2,99x10$^8$ m/s in beiden Schreibweisen."
      ]
    },
    {
      "cell_type": "markdown",
      "metadata": {
        "id": "wu4EcZS4H3Q6"
      },
      "source": [
        "**Beispiel:**\n",
        "\n",
        "Bestimmen Sie den Betrag der Gravitationskraft zwischen der Erde und Ihnen. Nehmen Sie dazu an, dass Sie eine Masse von 60.0kg haben und nutzen Sie für die Erde eine Masse von $5.97×10^{24}$ kg und einen Radius von 6370 km."
      ]
    },
    {
      "cell_type": "code",
      "execution_count": null,
      "metadata": {
        "colab": {
          "base_uri": "https://localhost:8080/"
        },
        "id": "x0w5r6N3ISKB",
        "outputId": "9408409e-4c33-4596-ca23-cfd33db4c8d0",
        "trusted": true
      },
      "outputs": [
        {
          "name": "stdout",
          "output_type": "stream",
          "text": [
            "Gravitative Anziehungskraft in Newton= 588.8064391316242\n"
          ]
        }
      ],
      "source": [
        "G=6.67e-11 # Gravitationskonstante in N*m^2/kg^2\n",
        "m=60 #in kg\n",
        "M_E=5.97e24 #in kg\n",
        "r=6370*1000.  # in meter\n",
        "F=G*m*M_E/r**2\n",
        "print(\"Gravitative Anziehungskraft in Newton=\",F)"
      ]
    },
    {
      "cell_type": "markdown",
      "metadata": {
        "id": "ZlKzhauGJYQZ"
      },
      "source": [
        "Wir werden die signifikanten Stellen des Ergebnisses später betrachten."
      ]
    },
    {
      "cell_type": "markdown",
      "metadata": {
        "id": "In4rOsMOmRVD"
      },
      "source": [
        "**Übung 2:**\n",
        "\n",
        "Berechnen Sie die Gravitationskraft zwischen Erde und Sonne, gegeben ist die Masse der Erde mit $5.97×10^{24} kg$ und die der Sonne mit $1.99×10^{30} kg $. Der Durchschnittsabstand zwischen den beiden Objekten ist gegeben durch $1.5×10^{11} m$ und die Gravitationskonstante beträgt $6.674×10^{−11} N*m^2⋅kg^{−2}$."
      ]
    },
    {
      "cell_type": "markdown",
      "metadata": {
        "id": "7q557lB0uVLP"
      },
      "source": [
        "## Mathematik (math) und Numpy Module\n",
        "\n",
        "Es gibt mehrere Module in Python, welche vordefinierte Funktionen enthalten. Diese können je nnach Bedarf ausgewählt und genutzt werden. Das **math-Modul** enthält die meisten üblichen mathematischen Funktionen. Für die Dokumentationen siehe hier: [math module](https://docs.python.org/3/library/math.html). Des Weiteren gibt es das **Sympy-Modul**, welches symbolisches Rechnen ermöglicht, wie beispielsweise das Vereinfachung von Termen, Ableitungen, Matrixmultiplikation, etc. Für weiter Beispiele sehen Sie hier: [Sympy](https://docs.sympy.org/latest/index.html).\n",
        "\n",
        "In diesem Kurs wird **Sympy** nicht weiter verwendet.\n",
        "\n",
        "Stattdessen soll der Fokus auf den Modulen [**NumPy**](https://numpy.org/) (\"Numerical Python\") und **SciPy** liegen, wobei Sie SciPy erst später im Kurs kennenlernen werden.\n",
        "\n",
        "Um Funktionen aus einem spezifischen Modul nutzen zu können, muss dieses zunächst mit dem folgenden Befehl importiert werden:"
      ]
    },
    {
      "cell_type": "code",
      "execution_count": null,
      "metadata": {
        "colab": {
          "base_uri": "https://localhost:8080/"
        },
        "id": "7xOoa2ySuQ_U",
        "outputId": "a471a26e-74b4-49c6-b30c-017993dfe018",
        "trusted": true
      },
      "outputs": [
        {
          "data": {
            "text/plain": [
              "3.0"
            ]
          },
          "execution_count": 7,
          "metadata": {},
          "output_type": "execute_result"
        }
      ],
      "source": [
        "import math   # Importieren des math-Moduls\n",
        "math.sqrt(9)      # Nuzten der Wurzelfunktion aus dem math-Modul, auf Englisch 'square root'"
      ]
    },
    {
      "cell_type": "markdown",
      "metadata": {
        "id": "dAlFwkAW0GFk"
      },
      "source": [
        "**Kommentare:**\n",
        "\n",
        "Eine weitere Methode, Module zu importieren, ist Folgende:\n",
        "```python\n",
        "from numpy import *\n",
        "numpy.sqrt(2)\n",
        "```\n",
        "Mit dieser Methode ist es möglich, sowohl einzelne Funktionen als auch den gesamten Inhalt eines Moduls zu importieren. Mit Hilfe des Sternchens `*` wird der gesamte Inhalt ausgewählt.\n",
        "\n",
        "```python\n",
        "from numpy import sqrt\n",
        "sqrt(2)\n",
        "```\n",
        "Nun wurde nur eine ausgewählte Funktion importiert.\n",
        "\n",
        "Die Anweisung `sqrt`kann allerdings zu Problemen führen, wenn zeitgleich mehrere Module in einem Notebook genutzt werden, da teilweise Funktionen aus unterschiedlichen Modulen gleich bezeichnet sind. So kann die Funktion `sqrt` aus dem **math** oder **numpy**-Modul stammen und später bei der Benutzung nicht eindeutig zugeordnet werden.\n",
        "\n",
        "Daher ist es ratsam die Funktionen mit folgender Syntax aufzurufen: `modulname.funktionsname`.\n",
        "\n",
        "In unserem Beispiel hieße die Funktion dann `numpy.sqrt` statt `sqrt`."
      ]
    },
    {
      "cell_type": "markdown",
      "metadata": {
        "id": "-jzIg65Jk1zD"
      },
      "source": [
        "**Beispiel:**\n",
        "\n",
        "Berechnen Sie die Ableseunsicherheit einer Digitalwaage mit einer Auflösung von a=0,1g."
      ]
    },
    {
      "cell_type": "code",
      "execution_count": null,
      "metadata": {
        "colab": {
          "base_uri": "https://localhost:8080/"
        },
        "id": "Ci1t1il-k1zE",
        "outputId": "feffc657-b180-48bb-f21c-34839516560b",
        "trusted": true
      },
      "outputs": [
        {
          "name": "stdout",
          "output_type": "stream",
          "text": [
            "0.02886751345948129\n"
          ]
        }
      ],
      "source": [
        "import numpy\n",
        "u=(0.1)/(2* (numpy.sqrt(3))) #in g\n",
        "print (u) #in g"
      ]
    },
    {
      "cell_type": "markdown",
      "metadata": {
        "id": "kkRAPscwYIMS"
      },
      "source": [
        "**Wichtig:**\n",
        "\n",
        "Häufig wird das **numpy**-Modul durch **np** abgekürzt. Um diese Abkürzung verwenden zu können, muss sie beim Import mit angegeben werden.\n",
        "\n",
        "\n",
        "```python\n",
        "import numpy as np\n",
        "```\n",
        "\n"
      ]
    },
    {
      "cell_type": "markdown",
      "metadata": {
        "id": "G4sYbBgujO8F"
      },
      "source": [
        "Das vorherige Beispiel sieht nun wie folgt aus:"
      ]
    },
    {
      "cell_type": "code",
      "execution_count": null,
      "metadata": {
        "colab": {
          "base_uri": "https://localhost:8080/"
        },
        "id": "L__YEEwajSAX",
        "outputId": "cf62399a-eb14-4217-8c84-e54eb231dda5",
        "trusted": true
      },
      "outputs": [
        {
          "name": "stdout",
          "output_type": "stream",
          "text": [
            "0.02886751345948129\n"
          ]
        }
      ],
      "source": [
        "import numpy as np\n",
        "u=(0.1)/(2* (np.sqrt(3))) #in g\n",
        "print (u) #in g"
      ]
    },
    {
      "cell_type": "markdown",
      "metadata": {
        "id": "D6Qb1YNp0GFl"
      },
      "source": [
        "**Übung 3:**\n",
        "\n",
        "Berechnen Sie den Flächeninhalt eines Kreises mit dem Radius=3.0cm in m^2. <br>\n",
        "**Hinweis:** $\\pi$ kann mit `np.pi` aus dem numpy-Modul geladen werden."
      ]
    },
    {
      "cell_type": "markdown",
      "metadata": {
        "id": "eCY87u250GFp"
      },
      "source": [
        "## Hilfe\n",
        "\n",
        "Mit der Funktion **help** lassen sich zusätzliche Informationen, die sogenannten Dokumentationen, zu Modulen, Funktionen, Klassen, Schlüsselwörtern (Key-Words), etc. aufrufen.\n",
        "So können zum Beispiel mit `help(print)` Informationen zu der **print**-Funktion abgefragt werden.\n",
        "\n",
        "Um alle Funktionen im math- oder NumPy-Modul aufzurufen, verwendet man `help(math)` oder `help(np)`. Für Hilfe zu einer Funktion innerhalb eines Moduls wird folgende Formulierung genutzt:\n",
        "\n",
        "```\n",
        "# help(np.sin)\n",
        "```\n",
        "oder\n",
        "\n",
        "\n",
        "```\n",
        "# np.sin?   # in der Jupyter-Notebook-Umgebung\n",
        "```\n",
        "\n",
        "\n",
        "\n",
        "\n"
      ]
    },
    {
      "cell_type": "markdown",
      "metadata": {
        "id": "mHN0vQ8DUJ6n"
      },
      "source": [
        "**Übung 4:**\n",
        "\n",
        "Versuchen Sie die Dokumentation der cos-Funktion im np-Modul mithilfe der verschiedenen Methoden aufzurufen."
      ]
    },
    {
      "cell_type": "markdown",
      "metadata": {
        "id": "UqQXqcIQnTRv"
      },
      "source": [
        "**Übung 5:**\n",
        "\n",
        "In einem rechtwinklichen Dreieck sei y die Gegenkathete des Winkels $\\theta$ mit y=3.2cm und x=2.4cm die Ankathete. Berechnen Sie den Winkel $\\theta$ und geben Sie diesen in Radianten sowie Grad an. Nutzen Sie dafür das **math**-Modul."
      ]
    },
    {
      "cell_type": "markdown",
      "metadata": {
        "id": "16gkTAuKAIDr"
      },
      "source": [
        "**Von hier an sind alle Aufgaben 'Lesson1_part1' freiwillig. Wenn Sie diese Aufgaben erledigen wollen, sollten Sie diese außerhalb des Praktikums erledigen. Im Praktikum sollten Sie die Aufgaben 'Lesson1_part2' bearbeiten.**\n",
        "\n"
      ]
    },
    {
      "cell_type": "markdown",
      "metadata": {
        "id": "6lPQk0_qRD1C"
      },
      "source": [
        "## **Achtung:**\n",
        "\n",
        "Vergessen Sie nicht, ihr Notebook zu speichern, bevor Sie es schließen!!!\n",
        "\n",
        "Zum Konvertieren das Notebooks in eine PDF gibt es verschiedene Wege, welche sich je nach Umgebung unterscheiden. Wir stellen hier die drei Möglichkeiten für Anaconda/Jupyter-Notebooks, Google Colab sowie für die Browser-Anwendung von Jupyter.org/JupyterLab vor.\n",
        "\n",
        "**Anaconda/JupyterNotebooks:** Zum Speichern des Notebooks gehen Sie auf 'Files'/'Datei' und dort auf 'Download as Notebook (.ipynb)'/'Speichern als Notebook (.ipynb)'. Um das Notebook zu PDF zu konvertieren, wählen Sie 'Files'/'Datei' an, anschließend 'print preview' und drucken es als PDF.  \n",
        "\n",
        "**Google Colab:** Zum Herunterladen des Notebooks gehen Sie auf 'Files' und wählen 'download .ipynb' aus. Um das Notebook zu PDF zu konvertieren, wählen Sie 'Files'/'Datei', dann 'print preview' und drucken es anschließend als PDF.\n",
        "\n",
        "**Webbrowser Anwedung Jupyter.org (Hier sollten Sie JupyterLab verwenden!!!!)**: Zum Herunterladen des Notebooks wählen Sie 'Files' und anschließend 'download'. Um das Notebook zu PDF zu konvertieren, gehen Sie erst auf 'File', dort auf 'print' und weiter auf 'print pdf'.\n"
      ]
    },
    {
      "cell_type": "markdown",
      "metadata": {
        "id": "p4HlsPa3sKqR"
      },
      "source": [
        "# Markdown\n",
        "\n",
        "Markdown-Zellen können verwendet werden, um Text in Notebooks hinzuzufügen.\n",
        "Diese Zelle enthält sogenanntes \"Markdown\".\n",
        "\n",
        "Um bei der Nutzung von JupyterNotebook mehr über Textformatierung zu erfahren, wählen Sie 'Help' in der Menüleiste, gehen dort auf 'Markdown' und weiter auf 'Basic Writing and Formatting Text'. Hier finden Sie ein Tutorial, in dem Sie vertieft üben können, Text in den Markdown-Zellen von Jupyter Notebooks zu formatiert. Alternativ können Sie diesem Link folgen: [formatting the markdown text](https://help.github.com/articles/basic-writing-and-formatting-syntax/)\n",
        "\n",
        "Für Google Colab Notebooks können Sie diesen Link verwenden: [markdown text in Colab](https://colab.research.google.com/notebooks/markdown_guide.ipynb#scrollTo=w86a4I4fmkvD). Die Notebooks unterscheiden sich allerdings nur minimal.\n",
        "\n",
        "Innerhalb der Markdown-Zellen können Formeln durch Verwendung von $\\LaTeX$ geschrieben werden. Dafür muss zu Beginn und am Ende der Formel ein \"`$`\"-Symbol eingefügt werden:\n",
        "\n",
        "Beispiel: $\\sqrt{x}+x^2$  oder\n",
        "\n",
        "$\\cos (2\\theta) = \\cos^2 \\theta - \\sin^2 \\theta$  \n",
        "$\\sqrt{\\frac{a}{b}}$\n",
        "\n",
        "$\\int_1^5 \\frac{1}{x^n}\\,\\mathrm{d}x$\n",
        "\n",
        "Um Gleichungen in einer eigenen Zeile vom restlichen Text zu separieren, benötigt man zu Beginn und am Ende der Formel ein doppeltes Dollarzeichen `$$`:\n",
        "\n",
        "$$\n",
        "\\int_1^5 \\frac{1}{x^n}\\,\\mathrm{d}x\n",
        "$$\n",
        "\n",
        "Als Referenz zu Mathematik in $\\LaTeX$ können Sie folgenden Link benutzen [hier](https://en.wikibooks.org/wiki/LaTeX/Mathematics)."
      ]
    },
    {
      "cell_type": "markdown",
      "metadata": {
        "id": "uQctzZ5Z0GFy"
      },
      "source": [
        "**Beispiel:**\n",
        "\n",
        "Schreiben Sie den folgenden Satz sowohl **dick**- als auch **kursiv**-gedruckt: \"Ich lerne viel im Praktikum\""
      ]
    },
    {
      "cell_type": "markdown",
      "metadata": {
        "id": "GvRGbTDf0GFz"
      },
      "source": [
        "### Lösung\n",
        "**Ich lerne viel im Praktikum**"
      ]
    },
    {
      "cell_type": "markdown",
      "metadata": {
        "id": "vq7CtQAI0GF3"
      },
      "source": [
        "### Lösung\n",
        "*Ich lerne viel im Praktikum*"
      ]
    },
    {
      "cell_type": "markdown",
      "metadata": {
        "id": "ZbwnSjYR0GF0"
      },
      "source": [
        "Stimmen Sie nicht zu, können Sie die Durchstreich-Formatierung ~~ ~~ nutzen"
      ]
    },
    {
      "cell_type": "markdown",
      "metadata": {
        "id": "HgPQkmMe0GF2"
      },
      "source": [
        "~~Ich lerne viel in Praktikum~~"
      ]
    },
    {
      "cell_type": "markdown",
      "metadata": {
        "id": "7SmJ3-Zt0GF6"
      },
      "source": [
        "**Beispiel:**\n",
        "\n",
        "Schreiben Sie in Latex das Weg-Zeit-Gesetzt $s(t)$ für gleichmäßig beschleunigte Bewegung im allgemeinen Fall."
      ]
    },
    {
      "cell_type": "markdown",
      "metadata": {
        "id": "5eiTF_Yok1zK"
      },
      "source": [
        "Lösung\n",
        "\n",
        "\n",
        "```\n",
        "# $x=v_{0}+a*t$\n",
        "Der Text hier ist falsch\n",
        "$s(t) = \\frac{1}{2}at^2 + v_0 t + s_0$\n",
        "\n",
        "```\n",
        "\n",
        "\n",
        "$x=v_{0}+a*t$\n",
        "$s(t) = \\frac{1}{2}at^2 + v_0 t + s_0$"
      ]
    },
    {
      "cell_type": "markdown",
      "metadata": {
        "id": "m49oDTd4k1zL"
      },
      "source": [
        "## HyperLinks\n",
        "\n",
        "Um Links in das Notebook einzufügen, kann der folgende Code genutzt werden:\n",
        "\n",
        "```\n",
        "# [Wikipedia](https://www.wikipedia.org)\n",
        "```\n",
        "\n",
        "[Wikipedia](https://www.wikipedia.org)\n",
        "\n",
        "\n",
        "## Wie bindet man ein Bild ein?\n",
        "\n",
        "### (A) Bild aus File (.jpg Bildes befindet sich im gleichen Folder wie das Notebook)\n",
        "Dafür fürgen Sie in eine Markdown-Zelle den folgenden Befehl ein:\n",
        "````\n",
        "![](FileName.jpg)\n",
        "\n",
        "````\n",
        "\n",
        "\n",
        "### (B) Bild aus einem Link\n",
        "\n",
        "Das Einbinden eines Bildes ist ähnlich zu Hyperlinks, wobei vor die eckigen Klammern ein Ausrufezeichen `!` ergänzt wird.\n",
        "\n",
        "```\n",
        "# ![Uni logo picture](https://www.uni-potsdam.de/typo3conf/ext/up_template/Resources/Public/Images/logos/up_logo_university_2.png)\n",
        "```\n",
        "\n",
        "\n",
        "\n",
        "![Uni logo picture](https://www.uni-potsdam.de/typo3conf/ext/up_template/Resources/Public/Images/logos/up_logo_university_2.png)"
      ]
    },
    {
      "cell_type": "markdown",
      "metadata": {
        "id": "NSamu7NtVBld"
      },
      "source": [
        "**Beispiel:**\n",
        "\n",
        "Fügen Sie eine Markdown-Zelle ein, welche einen Link zum Wikipedia-Artikel von Albert Einstein enthält.\n"
      ]
    },
    {
      "cell_type": "markdown",
      "metadata": {
        "id": "xWKqqZs_VeRh"
      },
      "source": [
        "Lösung\n",
        "\n",
        "Link:\n",
        "[wikipedia link](https://en.wikipedia.org/wiki/Albert_Einstein#:~:text=Albert%20Einstein%20(%2F%CB%88a%C9%AAn,influential%20physicists%20of%20all%20time.)\n",
        "\n",
        "\n",
        "![wikipedia link](https://upload.wikimedia.org/wikipedia/commons/thumb/3/3e/Einstein_1921_by_F_Schmutzer_-_restoration.jpg/800px-Einstein_1921_by_F_Schmutzer_-_restoration.jpg)"
      ]
    },
    {
      "cell_type": "markdown",
      "metadata": {
        "id": "CpdOnb-b1H4X"
      },
      "source": [
        "## Referenzen\n",
        "\n",
        "- Die offizielle Python-Dokumentation [www.python.org/doc](https://www.python.org/doc)\n",
        "\n",
        "- Webseite mit Antworten zu Problemen [stackoverflow](https://www.stackoverflow.com)\n",
        "\n",
        "### Bücher über Physik mit Python:\n",
        "- Lew Classen, Mit Jupyter durchs Physikpraktikum, Springer Spektrum Wiesbaden\n",
        "[www.link.springer.com/book/10.1007/978-3-658-37723-6](https://link.springer.com/book/10.1007/978-3-658-37723-6)\n",
        "\n",
        "- Jesse Kinder, Philip Nelson, A Guide to Python for Physical Modeling, Princeton University Press\n",
        "\n",
        "- Svein Linge, Hans Petter Langtangen, Programming for Computations - Python. A Gentle Introduction to Numerical Simulations with Python 3.6\n",
        "\n",
        "- Anders Malthe-Sørenssen, Elementary Mechanics Using Python\n",
        "\n"
      ]
    },
    {
      "cell_type": "code",
      "execution_count": null,
      "metadata": {
        "id": "vnNn2u1bKl5o"
      },
      "outputs": [],
      "source": [
        "For Instructors only\n",
        "\n",
        "Thank you for your interest in our activities and publications. We hope these notebooks will be helpful. If you decide to use them, we would appreciate being informed. Please don't hesitate to reach out for any additional information or clarification."
      ]
    }
  ],
  "metadata": {
    "colab": {
      "provenance": []
    },
    "kernelspec": {
      "display_name": "Python (Pyodide)",
      "language": "python",
      "name": "python"
    },
    "language_info": {
      "codemirror_mode": {
        "name": "python",
        "version": 3
      },
      "file_extension": ".py",
      "mimetype": "text/x-python",
      "name": "python",
      "nbconvert_exporter": "python",
      "pygments_lexer": "ipython3",
      "version": "3.8"
    }
  },
  "nbformat": 4,
  "nbformat_minor": 0
}
