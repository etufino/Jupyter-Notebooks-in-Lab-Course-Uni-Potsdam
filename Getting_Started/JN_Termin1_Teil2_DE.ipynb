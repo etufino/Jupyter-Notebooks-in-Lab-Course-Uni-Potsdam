{
  "cells": [
    {
      "cell_type": "markdown",
      "metadata": {
        "id": "iR28myzcgLjA"
      },
      "source": [
        "# Einführung in Python und Jupyter Notebooks Kapitel 1 Teil 2\n",
        "entwickelt und entworfen von Eugenio Tufino und Micol Alemani\n",
        "\n",
        "\n",
        "\n",
        "\n"
      ]
    },
    {
      "cell_type": "markdown",
      "metadata": {
        "id": "tIZEe3hyuFFj"
      },
      "source": [
        "In diesem Notebook werden wir nur das Numpy-Modul nutzen und es unter dem Alias `np` referenzieren.\n",
        "\n",
        "Im Allgemeinen empfehlen wir alle benötigten Module am Anfang des Notebooks zu importieren."
      ]
    },
    {
      "cell_type": "code",
      "execution_count": null,
      "metadata": {
        "id": "zQ0DgRnfuCVl"
      },
      "outputs": [],
      "source": [
        " import numpy as np"
      ]
    },
    {
      "cell_type": "markdown",
      "metadata": {
        "id": "gW5axRGXICbH"
      },
      "source": [
        "### Datentypen\n",
        "Die Standard-Datentypen in Python sind Zahlen, Strings, Listen, Booleans, etc. Wir werden nur einige dieser Typen in diesem Notebook nutzen.\n",
        "\n",
        "\n",
        "\n"
      ]
    },
    {
      "cell_type": "markdown",
      "metadata": {
        "id": "FFhRwvWWZl_2"
      },
      "source": [
        "### Strings\n",
        "Strings sind Listen von Buchstaben (Datentyp char) und werden in Python durch einfache ' ' oder doppelte Anführungstriche \" \" gekennzeichnet. Mithilfe der print-Funktion kann der String ausgegeben werden.\n",
        "```python\n",
        "print(\"I like Python\")\n",
        "```\n"
      ]
    },
    {
      "cell_type": "markdown",
      "metadata": {
        "id": "nXZLUEyteLzl"
      },
      "source": [
        "**Beispiel**:\n",
        "\n",
        "Weisen Sie der Variablen x den String \"I like Python\" zu und nutzen Sie die **type**-Funktion, um zu verifizieren, dass es sich um einen String handelt."
      ]
    },
    {
      "cell_type": "code",
      "execution_count": null,
      "metadata": {
        "colab": {
          "base_uri": "https://localhost:8080/"
        },
        "id": "p6iGbNdNeFcv",
        "outputId": "ef3bf073-dc07-43f2-da2a-96b0e7a730da",
        "trusted": true
      },
      "outputs": [
        {
          "data": {
            "text/plain": [
              "str"
            ]
          },
          "execution_count": 2,
          "metadata": {},
          "output_type": "execute_result"
        }
      ],
      "source": [
        "x=\"I like Python\"\n",
        "type(x) # wir lassen uns hier den Datentyp der Variable x ausgeben\n",
        "\n"
      ]
    },
    {
      "cell_type": "markdown",
      "metadata": {
        "id": "n7a_79-BjzZB"
      },
      "source": [
        "Da jeder String aus einer Liste von Zeichen besteht, kann die Länge eines Strings mit der vordefinierten Funktion **len** abgerufen werden.\n",
        "\n",
        "**len(x)** gibt die Länge des Strings x zurück. Zu beachten ist, dass Leerzeichen ebenfalls als Zeichen gezählt werden."
      ]
    },
    {
      "cell_type": "code",
      "execution_count": null,
      "metadata": {
        "colab": {
          "base_uri": "https://localhost:8080/"
        },
        "id": "3AroIXdoeZfZ",
        "outputId": "1244dc6c-3e0a-4fd6-ee78-22a4d379d43d",
        "trusted": true
      },
      "outputs": [
        {
          "data": {
            "text/plain": [
              "13"
            ]
          },
          "execution_count": 3,
          "metadata": {},
          "output_type": "execute_result"
        }
      ],
      "source": [
        "len(x)"
      ]
    },
    {
      "cell_type": "markdown",
      "metadata": {
        "id": "zUuMG1_ed41H"
      },
      "source": [
        "### Zahlen\n",
        "\n",
        "Es gibt drei numerische Datentypen in Python ( https://docs.python.org/3/library/stdtypes.html#numeric-types-int-float-complex ):\n",
        "\n",
        "**integer** sind ganze Zahlen. Wird eine Zahl (bspw. `11`) ohne (Dezimal)punkt geschrieben, interpretiert Python diese als Integer.\n",
        "Soll die eingegebene Zahl allerdings als rationale Zahl (float, Gleitkommazahl -siehe unten-) behandelt werden, muss nach der Zahl ein Dezimalpunkt angefügt werden, z.B. `11.`\n",
        "\n",
        "**float** representieren Gleitkommazahlen, also rationale Zahlen, z.B. `5.786543`, `3.4, 2\\**0.5`, etc.\n",
        "\n",
        "**complex** sind komplexe Zahlen, geschrieben als Summe von Real- und Imaginärteil. In Python wird die imaginäre Einheit durch `j` dargestellt, z.B. `3+4j`"
      ]
    },
    {
      "cell_type": "code",
      "execution_count": null,
      "metadata": {
        "colab": {
          "base_uri": "https://localhost:8080/"
        },
        "id": "NCuZBwIjJPLH",
        "outputId": "b7a36c3c-0fda-42b9-a7e5-42d21bb883ee",
        "trusted": true
      },
      "outputs": [
        {
          "name": "stdout",
          "output_type": "stream",
          "text": [
            "Die Zahlen x,y,z sind:  3 3.0 (2+5j)\n"
          ]
        }
      ],
      "source": [
        "x = 3   # dies ist eine ganze Zahl/Integer\n",
        "y = 3.  # dies ist eine rationale Zahl/Float\n",
        "z = 2+5j # dies ist eine komplexe Zahl, wobei j die imaginaere Einheit ist\n",
        "print(\"Die Zahlen x,y,z sind: \",x,y,z)"
      ]
    },
    {
      "cell_type": "markdown",
      "metadata": {
        "id": "yyqor6YpJt8g"
      },
      "source": [
        "Manchmal ist es nützlich, den Typ einer Variable zu prüfen. Dies kann mithilfe der **type()**-Funktion erfolgen:"
      ]
    },
    {
      "cell_type": "code",
      "execution_count": null,
      "metadata": {
        "colab": {
          "base_uri": "https://localhost:8080/"
        },
        "id": "j5H5ctNiJbKq",
        "outputId": "fafc1d01-0c88-4298-c9c6-21119e382176",
        "trusted": true
      },
      "outputs": [
        {
          "name": "stdout",
          "output_type": "stream",
          "text": [
            "<class 'int'>\n"
          ]
        },
        {
          "data": {
            "text/plain": [
              "complex"
            ]
          },
          "execution_count": 5,
          "metadata": {},
          "output_type": "execute_result"
        }
      ],
      "source": [
        "# Beispiel zur Nutzung der Type-Funktion\n",
        "type(x)\n",
        "print(type(x))\n",
        "type(z)"
      ]
    },
    {
      "cell_type": "markdown",
      "metadata": {
        "id": "35AJKbrcvMnu"
      },
      "source": [
        "**Übung 1:**\n",
        "Weisen Sie der Variablen x den Wert von $\\pi$ zu (verwenden Sie 3 signifikante Stellen) und finden Sie heraus, zu welchem Datentyp x gehört."
      ]
    },
    {
      "cell_type": "markdown",
      "metadata": {
        "id": "FkXSCmVggVz1"
      },
      "source": [
        "### Lists/Listen\n",
        "Eine andere Art der Datenstruktur in Python ist die **Liste**/**list**. Eine Liste kann mithilfe von eckigen Klammern `[ ]` definiert werden, wobei die Elemente der Liste mithilfe von Kommas zu trennen sind. Listen können alle Datentypen enthalten: Zahlen, strings, etc. Sie können daher beispielsweise genutzt werden, um mehrere Datentypen darzustellen.\n"
      ]
    },
    {
      "cell_type": "code",
      "execution_count": null,
      "metadata": {
        "id": "h1Fgip_kgVz1",
        "trusted": true
      },
      "outputs": [],
      "source": [
        "# Beispiel der Definition von list_1 mit 4 Zahlen:\n",
        "list_1= [1, 2, 3, 4]"
      ]
    },
    {
      "cell_type": "code",
      "execution_count": null,
      "metadata": {
        "id": "Z7nr31aghaYY",
        "trusted": true
      },
      "outputs": [],
      "source": [
        "# Beispiel der Definition von einer gemischten list_2 mit Zahlen und Strings:\n",
        "list_2 = [1, 2, \"car\", \"boat\"]"
      ]
    },
    {
      "cell_type": "markdown",
      "metadata": {
        "id": "UdG5ZNDnK7Yw"
      },
      "source": [
        "**Kommentar**:\n",
        "\n",
        "Auf jedes Element einer Liste kann mithilfe eines Index zugegriffen werden. Zu beachten ist, dass Python bei der Zählung von Indizes bei 0 statt bei 1 beginnt."
      ]
    },
    {
      "cell_type": "markdown",
      "metadata": {
        "id": "vrJkEKcJgVz2"
      },
      "source": [
        "**Übung 2:**\n",
        "Mithilfe der Syntax `x[i]` kann das i-te element der Liste x aufgerufen werden. Finden Sie heraus, wie man auf die erste der beiden oben erstellten Listen zugreift. Versuchen Sie Elemente mit negativen Indizes aufzurufen, z.B. `x[-1]`. Beschreiben Sie mit eigenen Worten was passiert ist."
      ]
    },
    {
      "cell_type": "markdown",
      "metadata": {
        "id": "MpXza3QEll0V"
      },
      "source": [
        "Wir werden nun zwei Funktionen verwenden, **sum** und **len**. Die sum-Funktion addiert alle Elemente eines 'Iterablen' (das kann beispielsweise eine Liste von Zahlen sein) und gibt die Summe zurück. Bei der Eingabe von **help(sum)**, erhält man Folgendes:\n",
        "```\n",
        "sum(iterable, /, start=0)\n",
        "    Return the sum of a 'start' value (default: 0) plus an iterable of numbers\n",
        "```"
      ]
    },
    {
      "cell_type": "markdown",
      "metadata": {
        "id": "tB2Lg1t4M78s"
      },
      "source": [
        "**Beispiel**:\n",
        "Berechnen Sie die Summe einer Liste von Schulnoten und ordnen Sie das Ergebnis einer Variablen 'total' zu."
      ]
    },
    {
      "cell_type": "code",
      "execution_count": null,
      "metadata": {
        "id": "y0P4c2w0gVz2",
        "trusted": true
      },
      "outputs": [],
      "source": [
        "# Beispiel: gegeben ist ein Liste an Benotungen, berechne die Summe und weise das Ergebnis der Variable `total` zu\n",
        "grades=[69,85,56,91]"
      ]
    },
    {
      "cell_type": "code",
      "execution_count": null,
      "metadata": {
        "colab": {
          "base_uri": "https://localhost:8080/"
        },
        "id": "PMlJSCpbENS4",
        "outputId": "764c053d-9706-4155-e5f5-5d1d34789283",
        "trusted": true
      },
      "outputs": [
        {
          "name": "stdout",
          "output_type": "stream",
          "text": [
            "301\n"
          ]
        }
      ],
      "source": [
        "# Loesung\n",
        "total=sum(grades)\n",
        "print(total)"
      ]
    },
    {
      "cell_type": "markdown",
      "metadata": {
        "id": "v5aMvHFJEepd"
      },
      "source": [
        "Durch die Eingabe von **help(len)** erhält man die Beschreibung des Befehls **len**.\n",
        "```\n",
        "len(obj, /)\n",
        "    Return the number of items in a container.\n",
        "```\n"
      ]
    },
    {
      "cell_type": "markdown",
      "metadata": {
        "id": "qM_b8NS7NGBM"
      },
      "source": [
        "**Beispiel**:\n",
        "\n",
        "Berechnen Sie den Durchschnitt der Noten in der Liste mit den vordefinierten Funktionen **sum** und **len**."
      ]
    },
    {
      "cell_type": "code",
      "execution_count": null,
      "metadata": {
        "colab": {
          "base_uri": "https://localhost:8080/"
        },
        "id": "ik0iSkcegVz2",
        "outputId": "26e4cd62-80cf-46e3-990d-f4e9bac16261"
      },
      "outputs": [
        {
          "name": "stdout",
          "output_type": "stream",
          "text": [
            "75.25\n"
          ]
        }
      ],
      "source": [
        "# Beispiel: Berechne den Durchschnitt der Noten in der Liste mit den vordefinierten Funktionen sum und len\n",
        "\n",
        "mean=sum(grades)/len(grades)\n",
        "print(mean)"
      ]
    },
    {
      "cell_type": "markdown",
      "metadata": {
        "id": "vf-S00oGrOr6"
      },
      "source": [
        "## Bedingungen und Schleifen\n",
        "Um sich wiederholende Aufgaben zu erledigen, verwendet man die Befehle **while** und **for**. Für bedingte Aussagen nutzt man den **if**-Befehl.\n",
        "Durch Einrückungen mit Leerzeichen (Space oder Tab) wird der Geltungsbereich (engl. Scope) von logischen Anweisungen, Schleifen, Funktionen und Klassen definiert. Dies ist notwendig, damit Python den Codeblock korrekt interpretiert."
      ]
    },
    {
      "cell_type": "code",
      "execution_count": null,
      "metadata": {
        "colab": {
          "base_uri": "https://localhost:8080/"
        },
        "id": "JeEe5NblHv_U",
        "outputId": "698eea47-8fce-4a82-d2f5-d608e9d0b982"
      },
      "outputs": [
        {
          "name": "stdout",
          "output_type": "stream",
          "text": [
            "Operation ist korrekt\n"
          ]
        }
      ],
      "source": [
        "# Beispiel mit einer if-Bedingung\n",
        "if 5 > 2: # zu beachten sind der Doppelpunk `:` und die Einrueckung\n",
        "    print(\"Operation ist korrekt\")"
      ]
    },
    {
      "cell_type": "markdown",
      "metadata": {
        "id": "qUPU6HcSJYvl"
      },
      "source": [
        "Versuchen Sie den Code nun ohne Einrückung auszuführen (#-Symbole löschen)"
      ]
    },
    {
      "cell_type": "code",
      "execution_count": null,
      "metadata": {
        "id": "qAk6RCKuJXj_"
      },
      "outputs": [],
      "source": [
        "#if 5 > 2:\n",
        "#print(\"Operation ist korrekt\")"
      ]
    },
    {
      "cell_type": "markdown",
      "metadata": {
        "id": "_xxCBB2Ay1Ml"
      },
      "source": [
        "### **If**-Befehl\n",
        "Beispiel-Code für die Nutzung eines **If**-Befehls:"
      ]
    },
    {
      "cell_type": "code",
      "execution_count": null,
      "metadata": {
        "colab": {
          "base_uri": "https://localhost:8080/"
        },
        "id": "ewN5l90crTJL",
        "outputId": "acb3baed-56f0-4f65-b4b8-883d276cc828",
        "trusted": true
      },
      "outputs": [
        {
          "name": "stdout",
          "output_type": "stream",
          "text": [
            "x > 10\n"
          ]
        }
      ],
      "source": [
        "# if\n",
        "x = 10\n",
        "if x > 1: # zu beachten sind der Doppelpunk `:` und die Einrueckungen\n",
        "\n",
        "    print(\"x > 10\")"
      ]
    },
    {
      "cell_type": "markdown",
      "metadata": {
        "id": "DxcDnX_1JrjE"
      },
      "source": [
        "Beispiel-Code für die Nutzung der Strukturen **if**, **elif**, **else**:"
      ]
    },
    {
      "cell_type": "code",
      "execution_count": null,
      "metadata": {
        "colab": {
          "base_uri": "https://localhost:8080/"
        },
        "id": "o_vE_I6zrxE4",
        "outputId": "02bc5d34-f59f-49cd-e8ae-55eadd81d682",
        "trusted": true
      },
      "outputs": [
        {
          "name": "stdout",
          "output_type": "stream",
          "text": [
            "x > 10\n"
          ]
        }
      ],
      "source": [
        "# if und elif\n",
        "x = 11\n",
        "if x > 10:\n",
        "    print(\"x > 10\")\n",
        "elif x == 10:\n",
        "    print(\"x = 10\")\n",
        "else:\n",
        "    print(\"x < 10\")"
      ]
    },
    {
      "cell_type": "markdown",
      "metadata": {
        "id": "B-UVZgEwy3ul"
      },
      "source": [
        "### **While**-Befehl\n",
        "Beispiel-Code für die Nutzung eines **while**-Befehls:"
      ]
    },
    {
      "cell_type": "code",
      "execution_count": null,
      "metadata": {
        "colab": {
          "base_uri": "https://localhost:8080/"
        },
        "id": "C0e79JON2SiS",
        "outputId": "e44cfdf2-b859-41ec-8800-4c16d8bb605a",
        "trusted": true
      },
      "outputs": [
        {
          "name": "stdout",
          "output_type": "stream",
          "text": [
            "0\n",
            "1\n",
            "2\n",
            "3\n",
            "4\n",
            "5\n",
            "6\n",
            "7\n",
            "8\n",
            "9\n"
          ]
        }
      ],
      "source": [
        "i = 0\n",
        "while i <10:\n",
        "  print(i)\n",
        "  i += 1 # mit diesen Befehl wird der aktuelle Wert um eins erhoeht (i=i+1), solange die Bedingung i<10 wahr ist"
      ]
    },
    {
      "cell_type": "markdown",
      "metadata": {
        "id": "pMstVkSoY670"
      },
      "source": [
        "### **For**-Befehl\n",
        "Bevor wir die **for**-Schleife besprechen, betrachten wir die **range**-Funktion, welche sehr nützlich sein wird."
      ]
    },
    {
      "cell_type": "markdown",
      "metadata": {
        "id": "ObZA1kvCvMnw",
        "outputId": "5c4c19f6-3a17-4244-d2e8-0a9971b6af0d",
        "tags": []
      },
      "source": [
        "#### Die Funktion **Range**\n",
        "\n",
        "**Range** ist eine vordefinierte Funktion. Sie gibt ein Objekt zurück, welches aus einer Sequenz von Integern vom Startpunkt (inklusiv) bis zum Endpunk (exklusiv) mit vorgegebenen Schrittgröße besteht. Werden der Startpunkt und die Schrittweite nicht anders definiert, nutzt Python einen Standard-Startpunkt von null und eine Standard-Schrittweite von eins. In ihrer einfachsten Implementierung hat die Funktion nur ein Argument: den Endpunkt.\n"
      ]
    },
    {
      "cell_type": "code",
      "execution_count": null,
      "metadata": {
        "colab": {
          "base_uri": "https://localhost:8080/"
        },
        "id": "hogQ81psEX5p",
        "outputId": "21a6ddf4-3043-4a53-8ca0-0e861f467ec5",
        "trusted": true
      },
      "outputs": [
        {
          "name": "stdout",
          "output_type": "stream",
          "text": [
            "0\n",
            "1\n",
            "2\n",
            "3\n",
            "4\n",
            "5\n",
            "6\n",
            "7\n",
            "8\n",
            "9\n"
          ]
        }
      ],
      "source": [
        "x=range(10) # die range()-Funktion gibt eine Sequenz aus Zahlen zurueck, standardweise beginnend mit 0\n",
        "# und erhoeht um 1. Sie stoppt bei der spezifizierten Zahl - in diesem Fall 10-\n",
        "for i in x:\n",
        "  print(i)"
      ]
    },
    {
      "cell_type": "markdown",
      "metadata": {
        "id": "OscB382SNVh-"
      },
      "source": [
        "**Beispiele**:\n",
        "\n",
        "Hier sind einige Beispiele zur Anwendung der **range**-Funktion"
      ]
    },
    {
      "cell_type": "code",
      "execution_count": null,
      "metadata": {
        "colab": {
          "base_uri": "https://localhost:8080/"
        },
        "id": "mL_5iPgmQfVk",
        "outputId": "652f8c5f-6578-4170-ef21-dc9b1a0f4220",
        "trusted": true
      },
      "outputs": [
        {
          "data": {
            "text/plain": [
              "[0, 1, 2, 3, 4, 5, 6, 7, 8, 9, 10, 11, 12, 13, 14, 15, 16, 17, 18, 19]"
            ]
          },
          "execution_count": 17,
          "metadata": {},
          "output_type": "execute_result"
        }
      ],
      "source": [
        "# Beispiel von range\n",
        "list(range(20)) # so erstellt man eine Liste von 0 bis 19, mit increment step=1"
      ]
    },
    {
      "cell_type": "code",
      "execution_count": null,
      "metadata": {
        "colab": {
          "base_uri": "https://localhost:8080/"
        },
        "id": "4CS5kh3oQs39",
        "outputId": "dae93650-601c-48e6-c4e0-1a34a8ba81a9",
        "trusted": true
      },
      "outputs": [
        {
          "data": {
            "text/plain": [
              "[3, 5, 7, 9]"
            ]
          },
          "execution_count": 18,
          "metadata": {},
          "output_type": "execute_result"
        }
      ],
      "source": [
        "list(range(3,10,2)) # so erstellt man eine Liste von 3 bis 10, mit increment step=2"
      ]
    },
    {
      "cell_type": "markdown",
      "metadata": {
        "id": "qWvB-qEFQ5AI"
      },
      "source": [
        "Oben haben wir den **list**-Befehl zusammen mit der **range**-Funktion genutzt, denn die **range**-Funktion erstellt keine Liste. **Range** ist ein soganannter  **Iterator** und erzeugt eine Sammlung von Werten, welche nicht im Speicher gesichert, sondern während der Laufzeit berechnet werden."
      ]
    },
    {
      "cell_type": "code",
      "execution_count": null,
      "metadata": {
        "colab": {
          "base_uri": "https://localhost:8080/"
        },
        "id": "GTHeE_x9rLMR",
        "outputId": "f0e88f09-b9ba-4ce0-efbe-1c333693a034",
        "trusted": true
      },
      "outputs": [
        {
          "name": "stdout",
          "output_type": "stream",
          "text": [
            "3\n",
            "9\n",
            "27\n",
            "81\n",
            "243\n",
            "729\n",
            "2187\n",
            "6561\n",
            "19683\n",
            "59049\n"
          ]
        }
      ],
      "source": [
        "#Beispiel: Geben Sie die ersten zehn Potenzen von 3 aus\n",
        "for n in range(1,11):\n",
        "  print(3**n)"
      ]
    },
    {
      "cell_type": "markdown",
      "metadata": {
        "id": "SRJts_-0pVhR"
      },
      "source": [
        "**Beispiel**:\n",
        "\n",
        "Berechnen Sie folgende Summe mit einer **for**-Schleife und der **range**-Funktion:\n",
        "\n",
        "$$\n",
        "\\begin{align}\n",
        "\\sum_{k=1}^{100} (1/k)\n",
        "\\end{align}\n",
        "$$"
      ]
    },
    {
      "cell_type": "code",
      "execution_count": null,
      "metadata": {
        "colab": {
          "base_uri": "https://localhost:8080/"
        },
        "id": "i3dV7NYfqRV9",
        "outputId": "da8ed445-d54e-45c2-97e0-24c8d85b15b3",
        "trusted": true
      },
      "outputs": [
        {
          "name": "stdout",
          "output_type": "stream",
          "text": [
            "Die summe ist 1.0\n",
            "Die summe ist 1.5\n",
            "Die summe ist 1.8333333333333333\n",
            "Die summe ist 2.083333333333333\n",
            "Die summe ist 2.283333333333333\n",
            "Die summe ist 2.4499999999999997\n",
            "Die summe ist 2.5928571428571425\n",
            "Die summe ist 2.7178571428571425\n",
            "Die summe ist 2.8289682539682537\n",
            "Die summe ist 2.9289682539682538\n",
            "Die summe ist 3.0198773448773446\n",
            "Die summe ist 3.103210678210678\n",
            "Die summe ist 3.180133755133755\n",
            "Die summe ist 3.251562326562327\n",
            "Die summe ist 3.3182289932289937\n",
            "Die summe ist 3.3807289932289937\n",
            "Die summe ist 3.439552522640758\n",
            "Die summe ist 3.4951080781963135\n",
            "Die summe ist 3.547739657143682\n",
            "Die summe ist 3.597739657143682\n",
            "Die summe ist 3.6453587047627294\n",
            "Die summe ist 3.690813250217275\n",
            "Die summe ist 3.73429151108684\n",
            "Die summe ist 3.7759581777535067\n",
            "Die summe ist 3.8159581777535068\n",
            "Die summe ist 3.854419716215045\n",
            "Die summe ist 3.8914567532520823\n",
            "Die summe ist 3.927171038966368\n",
            "Die summe ist 3.9616537975870574\n",
            "Die summe ist 3.9949871309203906\n",
            "Die summe ist 4.02724519543652\n",
            "Die summe ist 4.05849519543652\n",
            "Die summe ist 4.08879822573955\n",
            "Die summe ist 4.118209990445433\n",
            "Die summe ist 4.146781419016861\n",
            "Die summe ist 4.174559196794639\n",
            "Die summe ist 4.201586223821666\n",
            "Die summe ist 4.22790201329535\n",
            "Die summe ist 4.2535430389363755\n",
            "Die summe ist 4.278543038936376\n",
            "Die summe ist 4.302933282838815\n",
            "Die summe ist 4.326742806648339\n",
            "Die summe ist 4.349998620601827\n",
            "Die summe ist 4.3727258933290996\n",
            "Die summe ist 4.394948115551322\n",
            "Die summe ist 4.416687245986104\n",
            "Die summe ist 4.4379638417307845\n",
            "Die summe ist 4.4587971750641175\n",
            "Die summe ist 4.4792053383294235\n",
            "Die summe ist 4.499205338329423\n",
            "Die summe ist 4.518813181466678\n",
            "Die summe ist 4.538043950697447\n",
            "Die summe ist 4.556911875225749\n",
            "Die summe ist 4.575430393744267\n",
            "Die summe ist 4.593612211926086\n",
            "Die summe ist 4.611469354783229\n",
            "Die summe ist 4.6290132144323515\n",
            "Die summe ist 4.646254593742697\n",
            "Die summe ist 4.6632037462850695\n",
            "Die summe ist 4.679870412951736\n",
            "Die summe ist 4.696263855574687\n",
            "Die summe ist 4.712392887832752\n",
            "Die summe ist 4.7282659037057675\n",
            "Die summe ist 4.7438909037057675\n",
            "Die summe ist 4.759275519090383\n",
            "Die summe ist 4.774427034241898\n",
            "Die summe ist 4.789352407376227\n",
            "Die summe ist 4.804058289729168\n",
            "Die summe ist 4.818551043352357\n",
            "Die summe ist 4.832836757638071\n",
            "Die summe ist 4.846921264680325\n",
            "Die summe ist 4.860810153569214\n",
            "Die summe ist 4.8745087837062\n",
            "Die summe ist 4.888022297219713\n",
            "Die summe ist 4.901355630553047\n",
            "Die summe ist 4.914513525289889\n",
            "Die summe ist 4.927500538276902\n",
            "Die summe ist 4.940321051097415\n",
            "Die summe ist 4.9529792789455165\n",
            "Die summe ist 4.965479278945517\n",
            "Die summe ist 4.977824957957862\n",
            "Die summe ist 4.9900200799090815\n",
            "Die summe ist 5.002068272680166\n",
            "Die summe ist 5.013973034584928\n",
            "Die summe ist 5.025737740467281\n",
            "Die summe ist 5.037365647444025\n",
            "Die summe ist 5.048859900317588\n",
            "Die summe ist 5.0602235366812245\n",
            "Die summe ist 5.0714594917374045\n",
            "Die summe ist 5.082570602848516\n",
            "Die summe ist 5.0935596138375265\n",
            "Die summe ist 5.104429179054918\n",
            "Die summe ist 5.115181867226961\n",
            "Die summe ist 5.125820165099301\n",
            "Die summe ist 5.136346480888775\n",
            "Die summe ist 5.146763147555442\n",
            "Die summe ist 5.157072425905957\n",
            "Die summe ist 5.1672765075386105\n",
            "Die summe ist 5.177377517639621\n",
            "Die summe ist 5.187377517639621\n"
          ]
        }
      ],
      "source": [
        "# Eine moegliche Loesung waere\n",
        "s=0.0\n",
        "for k in range(1,101):\n",
        "  s+=1/k  # das ist aequivalent zu: s=s+1/k\n",
        "  print(\"Die summe ist\" , s) # gibt das Ergebnis jeweils in der Schleife aus"
      ]
    },
    {
      "cell_type": "markdown",
      "metadata": {
        "id": "d9BSPCLLqnuR"
      },
      "source": [
        "**Übung 3:**\n",
        "\n",
        "Versuchen Sie den **print**-Befehl außerhalb des **for**-Blocks zu schreiben."
      ]
    },
    {
      "cell_type": "markdown",
      "metadata": {
        "id": "hlXoexVAvMny"
      },
      "source": [
        "**Beispiel:**\n",
        "\n",
        "Die **for**-Schleife kann verwendet werden, um einen **fließenden Mittelwert** zu implementieren. Dieser wird in einem anderen Notebook genauer erläutert und genutzt, um verrauschte Daten zu \"glätten\".\n"
      ]
    },
    {
      "cell_type": "markdown",
      "metadata": {
        "id": "J2wfIz4Q2zuN"
      },
      "source": [
        "## Definieren von Funktionen\n",
        "\n",
        "Eigene Funktionen lassen sich mithilfe des **def**-Befehls und einem **Doppelpunkt** definieren. Nach dem Doppelpunkt muss eine Einrückung folgen. Im Folgenenden ist ein Beispiel zu sehen:"
      ]
    },
    {
      "cell_type": "code",
      "execution_count": null,
      "metadata": {
        "id": "nbO4WhDM254V",
        "trusted": true
      },
      "outputs": [],
      "source": [
        "def square(x):  # der Doppelpunkt ist notwendig\n",
        "  return x**2   # die Einrückung ist notwendig"
      ]
    },
    {
      "cell_type": "code",
      "execution_count": null,
      "metadata": {
        "colab": {
          "base_uri": "https://localhost:8080/"
        },
        "id": "6LBOunPn3NIl",
        "outputId": "fb1c4d77-ab6f-4d78-e1a5-08159b0d2cef",
        "trusted": true
      },
      "outputs": [
        {
          "data": {
            "text/plain": [
              "1156"
            ]
          },
          "execution_count": 22,
          "metadata": {},
          "output_type": "execute_result"
        }
      ],
      "source": [
        "square(34)  # hier rufen wir die Funktion 'square' auf, welche wir zuvor bereits definiert haben"
      ]
    },
    {
      "cell_type": "markdown",
      "metadata": {
        "id": "yagTR4X5sT4D"
      },
      "source": [
        "**Beispiel**:\n",
        "\n",
        "Wir definieren eine Funktion, welche Polarkoordinaten (r, $\\theta$) in kartesische Koordinaten umrechnet.\n",
        "Dazu benutzen wir die **sin**- und **cos**-Funktionen des numpy Paketes (wir nehmen an, dass dieses bereits importiert wurden).\n"
      ]
    },
    {
      "cell_type": "code",
      "execution_count": null,
      "metadata": {
        "id": "MdlgIBZTs_iV",
        "trusted": true
      },
      "outputs": [],
      "source": [
        "import numpy as np\n",
        "\n",
        "def cartesian(r,theta):\n",
        "  \"\"\"Funktion, welche Polarkoordinaten in kartesische Koordinaten umrechnet\n",
        "  theta in rad\n",
        "  \"\"\"\n",
        "  x= r * np.cos(theta)\n",
        "  y= r * np.sin(theta)\n",
        "  return (x,y)"
      ]
    },
    {
      "cell_type": "code",
      "execution_count": null,
      "metadata": {
        "colab": {
          "base_uri": "https://localhost:8080/"
        },
        "id": "GhAwW4ljsRpn",
        "outputId": "3bfe87da-5b0d-462b-b3ed-bbaa8849bd35",
        "trusted": true
      },
      "outputs": [
        {
          "data": {
            "text/plain": [
              "(0.5403023058681398, 0.8414709848078965)"
            ]
          },
          "execution_count": 24,
          "metadata": {},
          "output_type": "execute_result"
        }
      ],
      "source": [
        "cartesian(1,1)  # Radius r=1 und Winkel $\\theta$=1 rad"
      ]
    },
    {
      "cell_type": "markdown",
      "metadata": {
        "id": "Z1muNVD_I5Vl"
      },
      "source": [
        "**Hinweis:**\n",
        "\n",
        "Der String in der Funktion ist für die Dokumentation wichtig. Diese kann mithilfe von help(cartesian) aufgerufen werden. (Versuchen Sie es!)"
      ]
    },
    {
      "cell_type": "markdown",
      "metadata": {
        "id": "bgktq33mvdyx"
      },
      "source": [
        "**Beispiel:**\n",
        "Definieren Sie eine Funktion, welche den Abstand zwischen Punkt A=$(x_A,y_A)$ und Punkt B=$(x_B,y_B)$ berechnet. <br>\n",
        "Hinweis: Nutzen Sie die Funktion **sqrt**, die im numpy Modul zufinden ist (wir nehmen an, dass dieses bereits importiert wurde)."
      ]
    },
    {
      "cell_type": "code",
      "execution_count": null,
      "metadata": {
        "colab": {
          "base_uri": "https://localhost:8080/"
        },
        "id": "aOZebBLlwJcE",
        "outputId": "49a2170c-206f-486f-8884-997507a0f262",
        "trusted": true
      },
      "outputs": [
        {
          "data": {
            "text/plain": [
              "3.606"
            ]
          },
          "execution_count": 25,
          "metadata": {},
          "output_type": "execute_result"
        }
      ],
      "source": [
        "#solution\n",
        "def distance(pointA, pointB):\n",
        "  \"\"\"Funktion, um die euklidische Distanz zwischen zwei Punkten in der Ebene zu berechnen\n",
        "   \"\"\"\n",
        "  d=np.sqrt((pointB[0]-pointA[0])**2+(pointB[1]-pointA[1])**2) # hier berechnen wir den Abstand\n",
        "  return round(d,3)  # mit der eingebauten Funktion round wird auf drei Stellen gerundet\n",
        "distance((1,2),(3,5))  # Beispiel zur Nutzung der Funktion 'distance', um den Abstand zweier Punkte zu berechnen"
      ]
    },
    {
      "cell_type": "markdown",
      "metadata": {
        "id": "T3NCWpyOvMn0"
      },
      "source": [
        "**Übung 4:**\n",
        "\n",
        "Definieren Sie eine Funktion, um den Durchschnitt von vier Zahlen zu bestimmen."
      ]
    },
    {
      "cell_type": "markdown",
      "metadata": {
        "id": "ihNeiOJAvMn1"
      },
      "source": [
        "**Übung 5:**\n",
        "\n",
        "Definieren Sie eine Funktion, welche die Standardabweichung der vier gewählten Zahlen berechnet.\n",
        "$$\n",
        " \\sigma = \\sqrt{\\frac{1}{N-1} \\sum_{i=1}^N (x_i - \\overline{x})^2}\n",
        "$$\n",
        "mit N als Anzahl und $\\overline{x}$ als Mittelwert der Daten.\n",
        "\n",
        "**Überprüfen Sie immer** die numerischen Resultate.\n"
      ]
    },
    {
      "cell_type": "markdown",
      "metadata": {
        "id": "9McNNEuVH87P"
      },
      "source": [
        "**Notiz:**\n",
        "\n",
        "Alles, was innerhalb einer Funktion definiert wurde, bleibt innerhalb der Funktion. Variablen,, die im Geltungsbereich der Funktion initialisiert wurden, sind daher unsichtbar für andere Teile des Programms."
      ]
    },
    {
      "cell_type": "markdown",
      "metadata": {
        "id": "vL0jJCnb2iU0"
      },
      "source": [
        "**Beispiel:**\n",
        "\n",
        "Definieren Sie eine Funktion, welche die ersten n natürlichen Zahlen mithilfe einer **while**-Schleife addiert.\n",
        "Wie Sie möglicherweise wissen, hat der Wissenschaftler Gauß das Problem (für n=100) in sehr jungen Jahren mit einem mathematischen Trick gelöst."
      ]
    },
    {
      "cell_type": "code",
      "execution_count": null,
      "metadata": {
        "id": "Up0vt9E23qP0",
        "trusted": true
      },
      "outputs": [],
      "source": [
        "def sum_of_n(n):\n",
        "  \"\"\"Summe der ersten n Zahlen, n muss positiv sein\n",
        "  \"\"\"\n",
        "  sum, i=0,1    # weise die Anfangswerte zu\n",
        "  while i<=n:\n",
        "    sum+=i   # kompakte Version von sum=sum+1\n",
        "    i +=1   # kompakte Version von i=i+1\n",
        "  print(\"Die Summe beträgt=\", sum)"
      ]
    },
    {
      "cell_type": "code",
      "execution_count": null,
      "metadata": {
        "colab": {
          "base_uri": "https://localhost:8080/"
        },
        "id": "BX5gdOdy3-9v",
        "outputId": "8510acd1-a16c-46a6-d966-dcbd191be321",
        "trusted": true
      },
      "outputs": [
        {
          "name": "stdout",
          "output_type": "stream",
          "text": [
            "Die Summe beträgt= 5050\n"
          ]
        }
      ],
      "source": [
        "sum_of_n(100)   # Aufrufen und Nutzung der Funktion sum_of_n"
      ]
    },
    {
      "cell_type": "markdown",
      "metadata": {
        "id": "dE8tqR4GFEe1"
      },
      "source": [
        "**Übung 6:**\n",
        "\n",
        "Definieren Sie eine Funktion, welche die Summe aus den Quadrate der ersten n natürlichen Zahlen zurückgibt.\n"
      ]
    },
    {
      "cell_type": "markdown",
      "metadata": {
        "id": "oPgzt3O7FNZz"
      },
      "source": [
        "**Beispiel:**\n",
        "\n",
        "Definieren Sie eine Funktion, welche von zwei Variablen (Radius und Höhe eines Zylinders) abhängt und aus diesen Werten das Volumen des Zylinders berechnet."
      ]
    },
    {
      "cell_type": "code",
      "execution_count": null,
      "metadata": {
        "colab": {
          "base_uri": "https://localhost:8080/"
        },
        "id": "bDJZNNJ1F94G",
        "outputId": "b73021c6-6692-4d5d-d4f5-53fa9c38a21e",
        "trusted": true
      },
      "outputs": [
        {
          "name": "stdout",
          "output_type": "stream",
          "text": [
            "Das Volumen des Zylinders bertägt = 62.832 m^3\n"
          ]
        }
      ],
      "source": [
        "# Loesung\n",
        "def volume(radius, height):\n",
        "    \"\"\" Radius in Meter, Height in Meter, die Funktion gibt das Volumen des Zylinders in m^3 zurück \"\"\"\n",
        "    vol = np.pi * radius**2 * height\n",
        "    return print(\"Das Volumen des Zylinders bertägt =\", round(vol,3),\"m^3\")\n",
        "\n",
        "volume(2, 5)"
      ]
    },
    {
      "cell_type": "markdown",
      "metadata": {
        "id": "LwpTPh46FHY4"
      },
      "source": [
        "## String-Formatierung\n",
        "\n",
        "Bis jetzt haben wir nur die **round()**-Funktion genutzt, um Zahlen mit einer bestimmten Präzision auszugeben. Anstelle der Rundungsfunktion, kann auch der Ausgabewert mithilfe der **format**-Funktion formatiert werden.\n",
        "Angenommen, die Ausgabe Ihrer Übung ist eine Geschwindigkeit von 25,43217896545 m/s, die in der Variablen *velocity* gespeichert ist, und\n",
        "Sie möchten die Ausgabe nach der signifikanten Stelle formatieren, so können sie die Formatierungsmethode wie folgt nutzen:\n",
        "```\n",
        "# print(\" Die Geschwindigkeit ist = {:6.3f} m/s\".format(velocity))\n",
        "```\n",
        "Sie erhalten nun Folgendes: (Probieren Sie es aus!)\n",
        "\n",
        "```\n",
        "# Die Geschwindigkeit ist = 25.432 m/s\n",
        "```\n",
        "Mit der Notation {:6.3f} kann die Anzahl der Ziffern und der Dezimalstellen, welche von Python ausgegeben werden, bestimmt werden.\n",
        "Das Format `6.3f` nach dem Doppelpunkt `:` , gibt an, dass der Wert mit 6 Stellen (einschließlich der Dezimalstellen) und 3 Nachkommastellen angegeben werden muss.\n",
        "Wenn Sie eine ganze Zahl erhalten wollen, z.B. `514`, können Sie 'd' in {:d} verwenden:\n",
        "```\n",
        "# print(\"Die Zahl ist:{:d}\".format(velocity))\n",
        "\n",
        "```\n",
        "Um den obigen Geschwindigkeitswert in wissenschaftlicher Notation auzugeben, nutzen Sie {:6.3e}:\n",
        "\n",
        "\n",
        "```\n",
        "# print(\" Die Geschwindigkeit ist = {:6.3e} m/s\".format(velocity))\n",
        "```\n",
        "\n",
        "Bei Interesse können Sie (**optional**) die folgende tiefere Einführung in die **Format**-Methode lesen.\n",
        "Die **Format**-Methode ist sehr nützlich, aber etwas kompliziert und zu zeitaufwendig für diesen Kurs.\n",
        "Wenn Sie sich dafür weiter interessieren, empfehlen wir Ihnen zum Beispiel die Seite [format method](https://python-course.eu/python-tutorial/formatted-output.php) (aus welcher die folgende Abbildung entnommen ist) oder Sie hier informieren sich für zusätzliche Details weiter unter: https://pyformat.info\n",
        "\n",
        "![format method](https://python-course.eu/images/python-tutorial/format_method_positional_parameters_600w.webp)\n"
      ]
    },
    {
      "cell_type": "code",
      "execution_count": null,
      "metadata": {
        "colab": {
          "base_uri": "https://localhost:8080/"
        },
        "id": "6pyXWfxnG0SR",
        "outputId": "c064fde0-b80c-4fc3-e516-c449a3601181",
        "trusted": true
      },
      "outputs": [
        {
          "name": "stdout",
          "output_type": "stream",
          "text": [
            "Das Volumen des Zylinders beträgt=62.83 m^3\n"
          ]
        }
      ],
      "source": [
        "# Wir zeigen hier die obige Loesung mit der soeben erlaeuterten \"String\"-Formatmethode\n",
        "\n",
        "def volume(radius, height):\n",
        "    \"\"\" Radius in Meter, Höhe in Meter, die Funktion gibt das Volumen des Zylinders zurück \"\"\"\n",
        "    vol = np.pi * radius**2 * height\n",
        "    return print(\"Das Volumen des Zylinders beträgt={:5.2f} m^3\".format(vol))  #\n",
        "\n",
        "volume(2, 5)"
      ]
    },
    {
      "cell_type": "markdown",
      "metadata": {
        "id": "hEAHeHuWgLTL"
      },
      "source": [
        "**Übung 7:**\n",
        "\n",
        "Geben Sie ein Volumen von 75,73 $m^3$ an und drücken Sie es mit allen signifikanten Stellen und in wissenschaftlicher Notation aus."
      ]
    },
    {
      "cell_type": "markdown",
      "metadata": {
        "id": "gqRAiM3bvMn3"
      },
      "source": [
        "## Meine ersten Plots\n",
        "Es soll nun gezeigt werden, wie man ein einfaches 2D-Diagramm erstellt. Für das graphische Darstellen muss die **matplotlib**-Bibliothek importiert werden.\n",
        "Wie bereits erwähnt, importieren wir in der Regel alle Module am Anfang des Notizbuchs. In den meisten Fällen werden wir die folgenden Module benötigen:\n",
        "```python\n",
        "import numpy as np\n",
        "import matplotlib.pyplot as plt\n",
        "import pandas as pd\n",
        "import scipy\n",
        "```\n",
        "**Numpy**  ist das Standardpaket für wissenschaftliche Berechnungen mit Python.\n",
        "\n",
        "\n",
        "**Scipy** erweitert die mathematischen Funktionen und numerischen Routinen.\n",
        "\n",
        "**Matplotlib** ist das Standardpaket zur Erstellung von Plots.\n",
        "\n",
        "\n",
        "**Pandas** verwendet Datenstrukturen, welche denen von Excel ähneln, und bietet eine Reihe von mächtigen Datenmanipulations- und Analysewerkzeugen. Die Struktur von **Pandas** kann anfangs ein wenig schwierig sein. Allerdings überwiegt die Nützlichkeit von **Pandas** definitiv die Anstrengungen.\n",
        "\n",
        "So müssen Sie in Zukunft nur noch die obige Importliste an den Anfang Ihres Notizbuches kopieren."
      ]
    },
    {
      "cell_type": "code",
      "execution_count": null,
      "metadata": {
        "id": "WvNQqI1Wdv9L",
        "trusted": true
      },
      "outputs": [],
      "source": [
        "import numpy as np\n",
        "import matplotlib.pyplot as plt\n",
        "import pandas as pd\n",
        "import scipy"
      ]
    },
    {
      "cell_type": "markdown",
      "metadata": {
        "id": "BWCAH6_U_0lb"
      },
      "source": [
        "Betrachten wir x und y als Liste der Koordinaten von 5 Punkten, können wir ein Diagramm erstellen:"
      ]
    },
    {
      "cell_type": "code",
      "execution_count": null,
      "metadata": {
        "colab": {
          "base_uri": "https://localhost:8080/",
          "height": 279
        },
        "id": "PIQYfLvnvMn4",
        "outputId": "e86902dd-d4c2-4848-c597-b823795ad4b8",
        "trusted": true
      },
      "outputs": [
        {
          "data": {
            "image/png": "[encoded data removed]",
            "text/plain": [
              "<pyolite.display.Image at 0x49074b8>"
            ]
          },
          "metadata": {},
          "output_type": "display_data"
        }
      ],
      "source": [
        "x = [1.1, 1.5, 2.4, 3.3, 4.6]\n",
        "y = [0.2, 0.27, 0.37, 0.6, 0.8]\n",
        "\n",
        "plt.plot(x,y,'kx')  # hier 'kx', 'k' steht für die Farbe Schwarz und 'x' für das Markierungssymbol x\n",
        "plt.xlabel('Länge (cm)')\n",
        "plt.ylabel('Kraft (N)')\n",
        "plt.show()"
      ]
    },
    {
      "cell_type": "markdown",
      "metadata": {
        "id": "MNok-h-nxi1c"
      },
      "source": [
        "Mit einem weiteren Datensatz z lassen sich mehrere Datenreihen auf denselben Achsen darstellen, wie im folgenden Beispiel zu sehen:"
      ]
    },
    {
      "cell_type": "code",
      "execution_count": null,
      "metadata": {
        "id": "JWBXRGr3x0JH",
        "trusted": true
      },
      "outputs": [],
      "source": [
        "z=[0.3,0.34,0.56,0.77,0.9]"
      ]
    },
    {
      "cell_type": "code",
      "execution_count": null,
      "metadata": {
        "colab": {
          "base_uri": "https://localhost:8080/",
          "height": 295
        },
        "id": "9Dl3KwwDvMn4",
        "outputId": "21253f9f-a2cc-491d-feb9-96d08095190a",
        "trusted": true
      },
      "outputs": [
        {
          "data": {
            "image/png": "[encoded data removed]",
            "text/plain": [
              "<pyolite.display.Image at 0x43c98f8>"
            ]
          },
          "metadata": {},
          "output_type": "display_data"
        }
      ],
      "source": [
        "plt.plot(x,y,'kx')  # hier 'kx', 'k' steht für die Farbe Schwarz- 'x' für das Datenpunksymbol x\n",
        "plt.plot(x,z,'bo')  # hier 'bo', 'b' steht für die Farbe Blau- 'o' für das Datenpunksymbol o\n",
        "plt.xlabel(' Länge (cm)')  # x-Achsen Beschriftung\n",
        "plt.ylabel(' Kraft (N)')   # y-Achsen Beschriftung\n",
        "plt.title('Meine zweiter Plot mit zwei Datenreihen')\n",
        "plt.show()"
      ]
    },
    {
      "cell_type": "markdown",
      "metadata": {
        "id": "EQZ6SUqENUjR"
      },
      "source": [
        "#### In der nächsten Lektion werden wir unsere Fähigkeiten zur Erstellung von Plots mit matplotlib verbessern..."
      ]
    },
    {
      "cell_type": "markdown",
      "metadata": {
        "id": "Y9ldMC9TaW3f"
      },
      "source": [
        "## **Achtung:**\n",
        "\n",
        "Vergessen Sie nicht, ihr Notebook zu speichern, bevor Sie es schließen!!!\n",
        "\n",
        "Zum Konvertieren das Notebooks in eine PDF gibt es verschiedene Wege, welche sich je nach Umgebung unterscheiden. Wir stellen hier die drei Möglichkeiten für Anaconda/Jupiter-Notebooks, Google Colab sowie für die Browser-Anwendung von Jupyter.org/JupyterLab vor.\n",
        "\n",
        "**Anaconda/JupyterNotebooks:** Zum Speichern des Notebooks gehen Sie auf 'Files'/'Datei' und dort auf 'Download as Notebook (.ipynb)'/'Speichern als Notebook (.ipynb)'. Um das Notebook zu PDF zu konvertieren, wählen Sie 'Files'/'Datei' an, anschließend 'print preview' und drucken es als PDF.  \n",
        "\n",
        "**Google Colab:** Zum Herunterladen des Notebooks gehen Sie auf 'Files' und wählen 'download .ipynb' aus. Um das Notebook zu PDF zu konvertieren, wählen Sie 'Files'/'Datei', dann 'print preview' und drucken es anschließend als PDF.\n",
        "\n",
        "**Webbrowser Anwedung Jupyter.org (Hier sollten Sie JupyterLab verwenden!!!!)**: Zum Herunterladen des Notebooks wählen Sie 'Files' und anschließend 'download'. Um das Notebook zu PDF zu konvertieren, gehen Sie erst auf 'File', dort auf 'print' und weiter auf 'print pdf'."
      ]
    },
    {
      "cell_type": "code",
      "execution_count": null,
      "metadata": {
        "id": "q-HX11wKZkml"
      },
      "outputs": [],
      "source": [
        "For Instructors only\n",
        "\n",
        "Thank you for your interest in our activities and publications. We hope these notebooks will be helpful. If you decide to use them, we would appreciate being informed. Please don't hesitate to reach out for any additional information or clarification."
      ]
    }
  ],
  "metadata": {
    "colab": {
      "provenance": []
    },
    "kernelspec": {
      "display_name": "Python (Pyodide)",
      "language": "python",
      "name": "python"
    },
    "language_info": {
      "codemirror_mode": {
        "name": "python",
        "version": 3
      },
      "file_extension": ".py",
      "mimetype": "text/x-python",
      "name": "python",
      "nbconvert_exporter": "python",
      "pygments_lexer": "ipython3",
      "version": "3.8"
    }
  },
  "nbformat": 4,
  "nbformat_minor": 0
}
