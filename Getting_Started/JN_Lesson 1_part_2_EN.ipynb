{
  "cells": [
    {
      "cell_type": "markdown",
      "metadata": {
        "id": "16NA0Ho6Y42j"
      },
      "source": [
        "# Introduction to Jupiter Notebook Lesson 1 Part 2\n",
        "developed and designed by Eugenio Tufino and Micol Alemani"
      ]
    },
    {
      "cell_type": "markdown",
      "metadata": {
        "id": "hCeMn_JzY8de"
      },
      "source": [
        "In this notebook we will use only the Numpy module/packet and reference it under the alias `np`.\n",
        "\n",
        "In general we recommend to import all needed modules at the beginning of the notebook."
      ]
    },
    {
      "cell_type": "code",
      "execution_count": 35,
      "metadata": {
        "id": "zQ0DgRnfuCVl"
      },
      "outputs": [],
      "source": [
        " import numpy as np"
      ]
    },
    {
      "cell_type": "markdown",
      "metadata": {
        "id": "yHnSpXgyZB0A"
      },
      "source": [
        "## Data types\n",
        "The standard data types in Python are numbers, strings, lists, booleans, etc. We will use only some of these types in this notebook."
      ]
    },
    {
      "cell_type": "markdown",
      "metadata": {
        "id": "BnOKbHpcZHD-"
      },
      "source": [
        "### Strings\n",
        "Strings are lists of characters (data type char). In Python, these are identified by single ' ' or double quotation marks \" \". The string can be printed using the print function.\n",
        "```python\n",
        "print(\"I like Python\")\n",
        "```"
      ]
    },
    {
      "cell_type": "markdown",
      "metadata": {
        "id": "YAPh7z6uZOhA"
      },
      "source": [
        "**Example**:\n",
        "\n",
        "Assign the string \"I like Python\" to the variable x and use the **type** function to verify that it is a string"
      ]
    },
    {
      "cell_type": "code",
      "execution_count": 36,
      "metadata": {
        "colab": {
          "base_uri": "https://localhost:8080/"
        },
        "id": "p6iGbNdNeFcv",
        "outputId": "df55b9d2-b15b-4e65-8227-1ee33272158b",
        "trusted": true
      },
      "outputs": [
        {
          "data": {
            "text/plain": [
              "str"
            ]
          },
          "execution_count": 36,
          "metadata": {},
          "output_type": "execute_result"
        }
      ],
      "source": [
        "x=\"I like Python\"\n",
        "type(x) # here we ask to print out the type of data for the variable x\n",
        "\n"
      ]
    },
    {
      "cell_type": "markdown",
      "metadata": {
        "id": "i8fxE1UHZS3X"
      },
      "source": [
        "Since each string is a list of letters you can retrieve the length of a string using the predefined function **len**.\n",
        "\n",
        "len(x) returns the length of a string. Note that the spaces are also counted as characters."
      ]
    },
    {
      "cell_type": "code",
      "execution_count": 37,
      "metadata": {
        "colab": {
          "base_uri": "https://localhost:8080/"
        },
        "id": "3AroIXdoeZfZ",
        "outputId": "6236fd04-b62e-419b-e217-043d95eacc14",
        "trusted": true
      },
      "outputs": [
        {
          "data": {
            "text/plain": [
              "13"
            ]
          },
          "execution_count": 37,
          "metadata": {},
          "output_type": "execute_result"
        }
      ],
      "source": [
        "len(x)"
      ]
    },
    {
      "cell_type": "markdown",
      "metadata": {
        "id": "n-GTb9AfZXye"
      },
      "source": [
        "### Numbers\n",
        "\n",
        "There are three numeric data types in Python (https://docs.python.org/3/library/stdtypes.html#numeric-types-int-float-complex):\n",
        "\n",
        "**integers** are integers. If you write `11` without a (decimal) point, Python immediately interprets the number as an integer.\n",
        "However, if you want the entered number to be treated as a rational number (float, see below), then you must add a decimal point at the end. e.g. `11.`\n",
        "\n",
        "**float** represent floating point numbers, in other words rational numbers (like 5.786543, 3.4, 2\\**0.5, etc.).\n",
        "\n",
        "**complex** are complex numbers, written as the sum of real and imaginary parts. In Python, the imaginary unit is represented by `j`, so for example: 3+4j"
      ]
    },
    {
      "cell_type": "code",
      "execution_count": 38,
      "metadata": {
        "colab": {
          "base_uri": "https://localhost:8080/"
        },
        "id": "NCuZBwIjJPLH",
        "outputId": "7ed30a7b-d837-4e36-e38e-96db9be53e39",
        "trusted": true
      },
      "outputs": [
        {
          "name": "stdout",
          "output_type": "stream",
          "text": [
            "the numbers x,y,z are:  3 3.0 (2+5j)\n"
          ]
        }
      ],
      "source": [
        "x = 3   # this is a integer number\n",
        "y = 3.  # this is a real number\n",
        "z = 2+5j # this is a complex number, j represents the imaginary unit\n",
        "print(\"the numbers x,y,z are: \",x,y,z)"
      ]
    },
    {
      "cell_type": "markdown",
      "metadata": {
        "id": "2wZFnS8nZiPw"
      },
      "source": [
        "Sometimes it can be handy to check the type of a variable. This can be done using the **type()** function:"
      ]
    },
    {
      "cell_type": "code",
      "execution_count": 39,
      "metadata": {
        "colab": {
          "base_uri": "https://localhost:8080/"
        },
        "id": "j5H5ctNiJbKq",
        "outputId": "8f1ebc55-afc8-40d2-e756-3cda89b0f39c",
        "trusted": true
      },
      "outputs": [
        {
          "name": "stdout",
          "output_type": "stream",
          "text": [
            "<class 'int'>\n"
          ]
        },
        {
          "data": {
            "text/plain": [
              "complex"
            ]
          },
          "execution_count": 39,
          "metadata": {},
          "output_type": "execute_result"
        }
      ],
      "source": [
        "# example of using the type function\n",
        "type(x)\n",
        "print(type(x))\n",
        "type(z)"
      ]
    },
    {
      "cell_type": "markdown",
      "metadata": {
        "id": "3aCLbdUVZvLh"
      },
      "source": [
        "**Exercise 1:**\n",
        "Assign the value of $\\pi$ to the variable x (use 3 significant digits) and find out what data type x has:"
      ]
    },
    {
      "cell_type": "markdown",
      "metadata": {
        "id": "UTsc3F_LZzKV"
      },
      "source": [
        "### Lists\n",
        "Another type of data structure in python is the **list**. A list can be defined using square brackets `[ ]`, where the elements of the list are separated using commas. Lists can contain all data types: Numbers, strings, etc. You can use lists to represent multiple data types, for example."
      ]
    },
    {
      "cell_type": "code",
      "execution_count": 40,
      "metadata": {
        "id": "h1Fgip_kgVz1",
        "trusted": true
      },
      "outputs": [],
      "source": [
        "# Example of defining a list_1 with 4 numerical values:\n",
        "list_1= [1, 2, 3, 4]"
      ]
    },
    {
      "cell_type": "code",
      "execution_count": 41,
      "metadata": {
        "id": "Z7nr31aghaYY",
        "trusted": true
      },
      "outputs": [],
      "source": [
        "# Example of defining a list_2 with numerical values and string:\n",
        "list_2 = [1, 2, \"car\", \"boat\"]"
      ]
    },
    {
      "cell_type": "markdown",
      "metadata": {
        "id": "vfU0NO6oZ5Po"
      },
      "source": [
        "**Comment**:\n",
        "\n",
        "Each element of a list can be accessed using an index. Note that Python starts counting indexes at 0, not 1."
      ]
    },
    {
      "cell_type": "markdown",
      "metadata": {
        "id": "cgcOoRxAZ9va"
      },
      "source": [
        "**Exercise 2:**\n",
        "Use the syntax `x[i]` to access the i-th element of the list x. Find out how to access the first of the two lists above. Try to call elements with negative indices, for example `x[-1]`. Describe in your own words what happened."
      ]
    },
    {
      "cell_type": "markdown",
      "metadata": {
        "id": "Ayu41lb5aCce"
      },
      "source": [
        "We will now use two functions, **sum** and **len**. The sum function adds all the elements of an 'iterable' (which can be a list of numbers, for example) and returns the sum. If you write **help(sum)**, you can read the following\n",
        "```\n",
        "sum(iterable, /, start=0)\n",
        "    Return the sum of a 'start' value (default: 0) plus an iterable of numbers\n",
        "```"
      ]
    },
    {
      "cell_type": "markdown",
      "metadata": {
        "id": "MxrvRCaXaHog"
      },
      "source": [
        "**Example**:\n",
        "Calculate the sum of a list of school grades and assign the number to a variable 'total'."
      ]
    },
    {
      "cell_type": "code",
      "execution_count": 42,
      "metadata": {
        "id": "y0P4c2w0gVz2",
        "trusted": true
      },
      "outputs": [],
      "source": [
        "# Example: Given the list of grades below, calculate the sum of the grades and assign it to the variable total.\n",
        "grades=[69,85,56,91]"
      ]
    },
    {
      "cell_type": "code",
      "execution_count": 43,
      "metadata": {
        "colab": {
          "base_uri": "https://localhost:8080/"
        },
        "id": "PMlJSCpbENS4",
        "outputId": "e76ab100-b2d5-4323-8682-258155a272b5",
        "trusted": true
      },
      "outputs": [
        {
          "name": "stdout",
          "output_type": "stream",
          "text": [
            "301\n"
          ]
        }
      ],
      "source": [
        "# Solution\n",
        "total=sum(grades)\n",
        "print(total)"
      ]
    },
    {
      "cell_type": "markdown",
      "metadata": {
        "id": "Zu2sUaOLaNCH"
      },
      "source": [
        "The description of the **len** command is obtained by writing **help(len)**.\n",
        "```\n",
        "len(obj, /)\n",
        "    Return the number of items in a container.\n",
        "```"
      ]
    },
    {
      "cell_type": "markdown",
      "metadata": {
        "id": "cS5Oysgshhfx"
      },
      "source": [
        "**Example**:\n",
        "\n",
        "**Calculate** the average of the notes in the list with the predefined functions sum and len."
      ]
    },
    {
      "cell_type": "code",
      "execution_count": 44,
      "metadata": {
        "colab": {
          "base_uri": "https://localhost:8080/"
        },
        "id": "ik0iSkcegVz2",
        "outputId": "2d380781-b2c0-476c-8958-47931944a32e"
      },
      "outputs": [
        {
          "name": "stdout",
          "output_type": "stream",
          "text": [
            "75.25\n"
          ]
        }
      ],
      "source": [
        "# Example: Calculate the mean of the number in the grades list with the built-in functions sum and len\n",
        "\n",
        "mean=sum(grades)/len(grades)\n",
        "print(mean)"
      ]
    },
    {
      "cell_type": "markdown",
      "metadata": {
        "id": "NhFNPKPghlx0"
      },
      "source": [
        "## Conditional and loops\n",
        "To perform repetitive tasks use the **while** and **for** commands. For conditional statements one uses the **if** command.\n",
        "To write the code block correctly, Python uses indentation with spaces (space or tab) to define the scope.  \n",
        "The indentation is necessary to define the scope of logical statements, loops, functions and classes."
      ]
    },
    {
      "cell_type": "code",
      "execution_count": 45,
      "metadata": {
        "colab": {
          "base_uri": "https://localhost:8080/"
        },
        "id": "JeEe5NblHv_U",
        "outputId": "a4acfb8f-1123-4005-92a8-ccb430730b45"
      },
      "outputs": [
        {
          "name": "stdout",
          "output_type": "stream",
          "text": [
            "operation is correct\n"
          ]
        }
      ],
      "source": [
        "# Example with if condition\n",
        "if 5 > 2: # attention to the : symbol and indentation\n",
        "    print(\"operation is correct\")"
      ]
    },
    {
      "cell_type": "markdown",
      "metadata": {
        "id": "cZD8VZFXhq-7"
      },
      "source": [
        "Without indentations: Try to execute the code (delete # symbols)"
      ]
    },
    {
      "cell_type": "code",
      "execution_count": 46,
      "metadata": {
        "id": "qAk6RCKuJXj_"
      },
      "outputs": [],
      "source": [
        "#if 5 > 2:\n",
        "#print(\"operation is correct\")"
      ]
    },
    {
      "cell_type": "markdown",
      "metadata": {
        "id": "CxHXsa8Whwt2"
      },
      "source": [
        "### **If** command\n",
        "Below is sample code for using an **If** command"
      ]
    },
    {
      "cell_type": "code",
      "execution_count": 47,
      "metadata": {
        "colab": {
          "base_uri": "https://localhost:8080/"
        },
        "id": "ewN5l90crTJL",
        "outputId": "b42e2257-ad4b-4cfd-f68f-f905acce933d",
        "trusted": true
      },
      "outputs": [
        {
          "name": "stdout",
          "output_type": "stream",
          "text": [
            "x > 10\n"
          ]
        }
      ],
      "source": [
        "# if\n",
        "x = 10\n",
        "if x > 1: # attention to the : symbol and indentation\n",
        "\n",
        "    print(\"x > 10\")"
      ]
    },
    {
      "cell_type": "markdown",
      "metadata": {
        "id": "y8L_xv6ph1Kb"
      },
      "source": [
        "Among them are examples of other structures **if**, **elif**, **else**."
      ]
    },
    {
      "cell_type": "code",
      "execution_count": 48,
      "metadata": {
        "colab": {
          "base_uri": "https://localhost:8080/"
        },
        "id": "o_vE_I6zrxE4",
        "outputId": "2421e2f8-4da8-452d-9a65-53f562570729",
        "trusted": true
      },
      "outputs": [
        {
          "name": "stdout",
          "output_type": "stream",
          "text": [
            "x > 10\n"
          ]
        }
      ],
      "source": [
        "# if und elif\n",
        "x = 11\n",
        "if x > 10:\n",
        "    print(\"x > 10\")\n",
        "elif x == 10:\n",
        "    print(\"x = 10\")\n",
        "else:\n",
        "    print(\"x < 10\")"
      ]
    },
    {
      "cell_type": "markdown",
      "metadata": {
        "id": "f5xmg8AUiBAC"
      },
      "source": [
        "### **While** command\n",
        "Below is an example code for the use of a **while** command"
      ]
    },
    {
      "cell_type": "code",
      "execution_count": 49,
      "metadata": {
        "colab": {
          "base_uri": "https://localhost:8080/"
        },
        "id": "C0e79JON2SiS",
        "outputId": "b39fccae-5778-4847-c57f-dca7e01d62c2",
        "trusted": true
      },
      "outputs": [
        {
          "name": "stdout",
          "output_type": "stream",
          "text": [
            "0\n",
            "1\n",
            "2\n",
            "3\n",
            "4\n",
            "5\n",
            "6\n",
            "7\n",
            "8\n",
            "9\n"
          ]
        }
      ],
      "source": [
        "i = 0\n",
        "while i <10:\n",
        "  print(i)\n",
        "  i += 1 # with this command we add one to the actual value of i=i+1 until the condition i<10 is true"
      ]
    },
    {
      "cell_type": "markdown",
      "metadata": {
        "id": "2DaYnwDmiJPG"
      },
      "source": [
        "### **For** command\n",
        "Before we discuss the **for** loop, let's discuss the **range** function, which will be very useful."
      ]
    },
    {
      "cell_type": "markdown",
      "metadata": {
        "id": "9j3hhoHqiOCI"
      },
      "source": [
        "#### The **range** function\n",
        "\n",
        "A useful predefined function is **range**. This function returns an object that produces a sequence of integers from the start point (inclusive) to the end point (exclusive) with specified step size. Unless further specified, the default start point is zero and the default step size is one. In its simplest implementation, the function has only one argument: the end point."
      ]
    },
    {
      "cell_type": "code",
      "execution_count": 50,
      "metadata": {
        "colab": {
          "base_uri": "https://localhost:8080/"
        },
        "id": "hogQ81psEX5p",
        "outputId": "ebd68998-63d2-4c3a-a90c-665d63f0fe6f",
        "trusted": true
      },
      "outputs": [
        {
          "name": "stdout",
          "output_type": "stream",
          "text": [
            "0\n",
            "1\n",
            "2\n",
            "3\n",
            "4\n",
            "5\n",
            "6\n",
            "7\n",
            "8\n",
            "9\n"
          ]
        }
      ],
      "source": [
        "x=range(10) # the range() function returns a sequence of numbers, starting from 0 by default,\n",
        "# and increments by 1 (by default), and stops before a specified number -in this case 10-.\n",
        "for i in x:\n",
        "  print(i)"
      ]
    },
    {
      "cell_type": "markdown",
      "metadata": {
        "id": "smuZvFYniaey"
      },
      "source": [
        "**Examples**:\n",
        "\n",
        "Here are some examples of how to use the **range** function"
      ]
    },
    {
      "cell_type": "code",
      "execution_count": 51,
      "metadata": {
        "colab": {
          "base_uri": "https://localhost:8080/"
        },
        "id": "mL_5iPgmQfVk",
        "outputId": "7b6d6b5f-d0de-4bfb-95a7-b47027afc6b1",
        "trusted": true
      },
      "outputs": [
        {
          "data": {
            "text/plain": [
              "[0, 1, 2, 3, 4, 5, 6, 7, 8, 9, 10, 11, 12, 13, 14, 15, 16, 17, 18, 19]"
            ]
          },
          "execution_count": 51,
          "metadata": {},
          "output_type": "execute_result"
        }
      ],
      "source": [
        "#Example of range\n",
        "list(range(20)) # this way we create a list from zero to 19, with increment step =1"
      ]
    },
    {
      "cell_type": "code",
      "execution_count": 52,
      "metadata": {
        "colab": {
          "base_uri": "https://localhost:8080/"
        },
        "id": "4CS5kh3oQs39",
        "outputId": "5b24dc42-ea79-4fa9-d391-3d9cabf94fed",
        "trusted": true
      },
      "outputs": [
        {
          "data": {
            "text/plain": [
              "[3, 5, 7, 9]"
            ]
          },
          "execution_count": 52,
          "metadata": {},
          "output_type": "execute_result"
        }
      ],
      "source": [
        "list(range(3,10,2)) # this way we create a list from 3 to 10 with increment step =2"
      ]
    },
    {
      "cell_type": "markdown",
      "metadata": {
        "id": "A1pKyq3cigip"
      },
      "source": [
        "Above we used the **list** command together with the **range** function, because the **range** function does not create a list. Range is a so-called **iterator**, i.e. a collection of values which are not stored in memory but calculated during runtime."
      ]
    },
    {
      "cell_type": "code",
      "execution_count": 53,
      "metadata": {
        "colab": {
          "base_uri": "https://localhost:8080/"
        },
        "id": "GTHeE_x9rLMR",
        "outputId": "27da3ed0-3e28-461d-a0dc-b988afa5b2d7",
        "trusted": true
      },
      "outputs": [
        {
          "name": "stdout",
          "output_type": "stream",
          "text": [
            "3\n",
            "9\n",
            "27\n",
            "81\n",
            "243\n",
            "729\n",
            "2187\n",
            "6561\n",
            "19683\n",
            "59049\n"
          ]
        }
      ],
      "source": [
        "#Example: Print out the first ten powers of 3\n",
        "for n in range(1,11):\n",
        "  print(3**n)"
      ]
    },
    {
      "cell_type": "markdown",
      "metadata": {
        "id": "QFrbLW5viknQ"
      },
      "source": [
        "**Example**:\n",
        "\n",
        "Suppose we want to calculate the following sum using a **for** loop and the **range** function:\n",
        "\n",
        "$$\n",
        "\\begin{align}\n",
        "\\sum_{k=1}^{100} (1/k)\n",
        "\\end{align}\n",
        "$$"
      ]
    },
    {
      "cell_type": "code",
      "execution_count": 54,
      "metadata": {
        "colab": {
          "base_uri": "https://localhost:8080/"
        },
        "id": "i3dV7NYfqRV9",
        "outputId": "ef18809c-a1c2-4f13-e64d-ac03d864968c",
        "trusted": true
      },
      "outputs": [
        {
          "name": "stdout",
          "output_type": "stream",
          "text": [
            "The sum is 1.0\n",
            "The sum is 1.5\n",
            "The sum is 1.8333333333333333\n",
            "The sum is 2.083333333333333\n",
            "The sum is 2.283333333333333\n",
            "The sum is 2.4499999999999997\n",
            "The sum is 2.5928571428571425\n",
            "The sum is 2.7178571428571425\n",
            "The sum is 2.8289682539682537\n",
            "The sum is 2.9289682539682538\n",
            "The sum is 3.0198773448773446\n",
            "The sum is 3.103210678210678\n",
            "The sum is 3.180133755133755\n",
            "The sum is 3.251562326562327\n",
            "The sum is 3.3182289932289937\n",
            "The sum is 3.3807289932289937\n",
            "The sum is 3.439552522640758\n",
            "The sum is 3.4951080781963135\n",
            "The sum is 3.547739657143682\n",
            "The sum is 3.597739657143682\n",
            "The sum is 3.6453587047627294\n",
            "The sum is 3.690813250217275\n",
            "The sum is 3.73429151108684\n",
            "The sum is 3.7759581777535067\n",
            "The sum is 3.8159581777535068\n",
            "The sum is 3.854419716215045\n",
            "The sum is 3.8914567532520823\n",
            "The sum is 3.927171038966368\n",
            "The sum is 3.9616537975870574\n",
            "The sum is 3.9949871309203906\n",
            "The sum is 4.02724519543652\n",
            "The sum is 4.05849519543652\n",
            "The sum is 4.08879822573955\n",
            "The sum is 4.118209990445433\n",
            "The sum is 4.146781419016861\n",
            "The sum is 4.174559196794639\n",
            "The sum is 4.201586223821666\n",
            "The sum is 4.22790201329535\n",
            "The sum is 4.2535430389363755\n",
            "The sum is 4.278543038936376\n",
            "The sum is 4.302933282838815\n",
            "The sum is 4.326742806648339\n",
            "The sum is 4.349998620601827\n",
            "The sum is 4.3727258933290996\n",
            "The sum is 4.394948115551322\n",
            "The sum is 4.416687245986104\n",
            "The sum is 4.4379638417307845\n",
            "The sum is 4.4587971750641175\n",
            "The sum is 4.4792053383294235\n",
            "The sum is 4.499205338329423\n",
            "The sum is 4.518813181466678\n",
            "The sum is 4.538043950697447\n",
            "The sum is 4.556911875225749\n",
            "The sum is 4.575430393744267\n",
            "The sum is 4.593612211926086\n",
            "The sum is 4.611469354783229\n",
            "The sum is 4.6290132144323515\n",
            "The sum is 4.646254593742697\n",
            "The sum is 4.6632037462850695\n",
            "The sum is 4.679870412951736\n",
            "The sum is 4.696263855574687\n",
            "The sum is 4.712392887832752\n",
            "The sum is 4.7282659037057675\n",
            "The sum is 4.7438909037057675\n",
            "The sum is 4.759275519090383\n",
            "The sum is 4.774427034241898\n",
            "The sum is 4.789352407376227\n",
            "The sum is 4.804058289729168\n",
            "The sum is 4.818551043352357\n",
            "The sum is 4.832836757638071\n",
            "The sum is 4.846921264680325\n",
            "The sum is 4.860810153569214\n",
            "The sum is 4.8745087837062\n",
            "The sum is 4.888022297219713\n",
            "The sum is 4.901355630553047\n",
            "The sum is 4.914513525289889\n",
            "The sum is 4.927500538276902\n",
            "The sum is 4.940321051097415\n",
            "The sum is 4.9529792789455165\n",
            "The sum is 4.965479278945517\n",
            "The sum is 4.977824957957862\n",
            "The sum is 4.9900200799090815\n",
            "The sum is 5.002068272680166\n",
            "The sum is 5.013973034584928\n",
            "The sum is 5.025737740467281\n",
            "The sum is 5.037365647444025\n",
            "The sum is 5.048859900317588\n",
            "The sum is 5.0602235366812245\n",
            "The sum is 5.0714594917374045\n",
            "The sum is 5.082570602848516\n",
            "The sum is 5.0935596138375265\n",
            "The sum is 5.104429179054918\n",
            "The sum is 5.115181867226961\n",
            "The sum is 5.125820165099301\n",
            "The sum is 5.136346480888775\n",
            "The sum is 5.146763147555442\n",
            "The sum is 5.157072425905957\n",
            "The sum is 5.1672765075386105\n",
            "The sum is 5.177377517639621\n",
            "The sum is 5.187377517639621\n"
          ]
        }
      ],
      "source": [
        "# A possibile solution for this example is the following\n",
        "s=0.0\n",
        "for k in range(1,101):\n",
        "  s+=1/k  # this is equivalent to the assignment: s=s+1/k\n",
        "  print(\"The sum is\" , s) # here the print is inside the for loop"
      ]
    },
    {
      "cell_type": "markdown",
      "metadata": {
        "id": "IbmspQLqivk1"
      },
      "source": [
        "**Exercise 3:**\n",
        "\n",
        "Try writing the print command outside the **for** block."
      ]
    },
    {
      "cell_type": "markdown",
      "metadata": {
        "id": "Ca3WRLbIizAV"
      },
      "source": [
        "**Example:**\n",
        "\n",
        "You can use the **for** loop to implement a **flowing average**, this is used to \"smooth\" noisy data.\n",
        "\n",
        "An example with its application can be found in a separate notebook on Moodle."
      ]
    },
    {
      "cell_type": "markdown",
      "metadata": {
        "id": "Ux9NxrgVi33S"
      },
      "source": [
        "## Defining functions\n",
        "\n",
        "You can define custom functions using the **def** command and a **colon**. The colon must be followed by an indentation. Below is an example"
      ]
    },
    {
      "cell_type": "code",
      "execution_count": 55,
      "metadata": {
        "id": "nbO4WhDM254V",
        "trusted": true
      },
      "outputs": [],
      "source": [
        "def square(x):  # the semicolon is necessary\n",
        "  return x**2   # indentation is necessary"
      ]
    },
    {
      "cell_type": "code",
      "execution_count": 56,
      "metadata": {
        "colab": {
          "base_uri": "https://localhost:8080/"
        },
        "id": "6LBOunPn3NIl",
        "outputId": "14a251b6-ffed-48b4-bbc5-b8cc52816ccf",
        "trusted": true
      },
      "outputs": [
        {
          "data": {
            "text/plain": [
              "1156"
            ]
          },
          "execution_count": 56,
          "metadata": {},
          "output_type": "execute_result"
        }
      ],
      "source": [
        "square(34)   # here we are calling the function 'square' that we defined above"
      ]
    },
    {
      "cell_type": "markdown",
      "metadata": {
        "id": "6wUFo8Eti8h_"
      },
      "source": [
        "**Example**:\n",
        "\n",
        "We define a function that converts polar coordinates (r, $\\theta$) to Cartesian coordinates.\n",
        "For this we use the sin and cos functions of the numpy package (we assume that this has already been imported)"
      ]
    },
    {
      "cell_type": "code",
      "execution_count": 57,
      "metadata": {
        "id": "MdlgIBZTs_iV",
        "trusted": true
      },
      "outputs": [],
      "source": [
        "import numpy as np\n",
        "\n",
        "def cartesian(r,theta):\n",
        "  \"\"\"function that converts from polar coordinates to cartesian coordinates\n",
        "  theta is in rad\n",
        "  \"\"\"\n",
        "  x= r * np.cos(theta)\n",
        "  y= r * np.sin(theta)\n",
        "  return (x,y)"
      ]
    },
    {
      "cell_type": "code",
      "execution_count": 58,
      "metadata": {
        "colab": {
          "base_uri": "https://localhost:8080/"
        },
        "id": "GhAwW4ljsRpn",
        "outputId": "0ca3ffd9-6193-4eba-b6e3-24051aefd87d",
        "trusted": true
      },
      "outputs": [
        {
          "data": {
            "text/plain": [
              "(0.5403023058681398, 0.8414709848078965)"
            ]
          },
          "execution_count": 58,
          "metadata": {},
          "output_type": "execute_result"
        }
      ],
      "source": [
        "cartesian(1,1)  # Radius r=1 and angle $\\theta$=1 rad"
      ]
    },
    {
      "cell_type": "markdown",
      "metadata": {
        "id": "xlxDNKiFjB1U"
      },
      "source": [
        "**Note:**\n",
        "\n",
        "The string in the function is important for the documentation. This can be called using help(cartesian) (Try it!)"
      ]
    },
    {
      "cell_type": "markdown",
      "metadata": {
        "id": "rFlinR9mjG-s"
      },
      "source": [
        "**Example:**\n",
        "\n",
        "Define a function which calculates the distance between point A=$(x_A,y_A)$ and point B=$(x_B,y_B)$. <br>\n",
        "Hint: Use the sqrt function which can be found in the numpy module (we assume that this has already been imported)."
      ]
    },
    {
      "cell_type": "code",
      "execution_count": 59,
      "metadata": {
        "colab": {
          "base_uri": "https://localhost:8080/"
        },
        "id": "aOZebBLlwJcE",
        "outputId": "ee8da5de-1fa3-4236-911d-b1d5f68a4af6",
        "trusted": true
      },
      "outputs": [
        {
          "data": {
            "text/plain": [
              "3.606"
            ]
          },
          "execution_count": 59,
          "metadata": {},
          "output_type": "execute_result"
        }
      ],
      "source": [
        "#solution\n",
        "def distance(pointA, pointB):\n",
        "  \"\"\" function for calculate the euclidean distance\n",
        "   between two points in the plane\n",
        "   \"\"\"\n",
        "  d=np.sqrt((pointB[0]-pointA[0])**2+(pointB[1]-pointA[1])**2) # here we calculate the distance\n",
        "  return round(d,3)  # round is a built in function that return a number in a given precision\n",
        "distance((1,2),(3,5))  # example of using the function 'distance' to calculate the distance betweeen two points"
      ]
    },
    {
      "cell_type": "markdown",
      "metadata": {
        "id": "bfDRijNtj8Ff"
      },
      "source": [
        "**Exercise 4:**\n",
        "\n",
        "Define a function to find the average of four numbers."
      ]
    },
    {
      "cell_type": "markdown",
      "metadata": {
        "id": "5IFQN-wvkBRP"
      },
      "source": [
        "**Exercise 5**\n",
        "\n",
        "Define a function that calculates the standard deviation of the four numbers you chose above.\n",
        "$$\n",
        " \\sigma = \\sqrt{\\frac{1}{N-1} \\sum_{i=1}^N (x_i - \\overline{x})^2}\n",
        "$$\n",
        "with $\\overline{x}$ the mean of the N data.\n",
        "\n",
        "**Always** check the numerical results"
      ]
    },
    {
      "cell_type": "markdown",
      "metadata": {
        "id": "2A02OrD0kGsk"
      },
      "source": [
        "**Note:**\n",
        "\n",
        "Everything defined inside a function stays inside the function. This means that variables initialized within the scope of the function (like the mu above) are invisible to other parts of the program."
      ]
    },
    {
      "cell_type": "markdown",
      "metadata": {
        "id": "a6fgjXuBkVM_"
      },
      "source": [
        "**Example:**\n",
        "\n",
        "Define a function that adds the first n natural numbers using a while loop.\n",
        "As you may know, the scientist Gauss solved the following problem (for n=100) at a very young age using a mathematical trick."
      ]
    },
    {
      "cell_type": "code",
      "execution_count": 60,
      "metadata": {
        "id": "Up0vt9E23qP0",
        "trusted": true
      },
      "outputs": [],
      "source": [
        "def sum_of_n(n):\n",
        "  \"\"\"sum of the first n numbers, n has to be positive\n",
        "  \"\"\"\n",
        "  sum, i=0,1    # assign initial values to the sum and to i\n",
        "  while i<=n:\n",
        "    sum+=i   # compact version of sum=sum+i assignment\n",
        "    i +=1   ## compact version of i=i+1 assignment\n",
        "  print(\"the sum is =\", sum)"
      ]
    },
    {
      "cell_type": "code",
      "execution_count": 61,
      "metadata": {
        "colab": {
          "base_uri": "https://localhost:8080/"
        },
        "id": "BX5gdOdy3-9v",
        "outputId": "4c0b51b9-39b0-4914-83b3-4af86e6a7962",
        "trusted": true
      },
      "outputs": [
        {
          "name": "stdout",
          "output_type": "stream",
          "text": [
            "the sum is = 5050\n"
          ]
        }
      ],
      "source": [
        "sum_of_n(100)   # call and use the function sum_of_n"
      ]
    },
    {
      "cell_type": "markdown",
      "metadata": {
        "id": "1JGTDlrrkjRp"
      },
      "source": [
        "**Exercise 6:**\n",
        "\n",
        "Define a function that returns the sum of the squares of the first n natural numbers."
      ]
    },
    {
      "cell_type": "markdown",
      "metadata": {
        "id": "FQsPMruPkoz8"
      },
      "source": [
        "**Example:**\n",
        "\n",
        "Define a function with two variables as input (radius and height of a cylinder) and return the volume of the cylinder with these values."
      ]
    },
    {
      "cell_type": "code",
      "execution_count": 62,
      "metadata": {
        "colab": {
          "base_uri": "https://localhost:8080/"
        },
        "id": "bDJZNNJ1F94G",
        "outputId": "94854591-a21e-402c-fb2e-2f10b09b0be1",
        "trusted": true
      },
      "outputs": [
        {
          "name": "stdout",
          "output_type": "stream",
          "text": [
            "The volume of cilinder is=   62.832 m^3\n"
          ]
        }
      ],
      "source": [
        "#Solution\n",
        "def volume(radius, height):\n",
        "    \"\"\" radius in meter, height in meter the function return volume of cylinder \"\"\"\n",
        "    vol = np.pi * radius**2 * height\n",
        "    return print(\"The volume of cilinder is=  \", round(vol,3),\"m^3\")\n",
        "\n",
        "volume(2, 5)"
      ]
    },
    {
      "cell_type": "markdown",
      "metadata": {
        "id": "IrkmrV7Jkyg_"
      },
      "source": [
        "## String formatting\n",
        "\n",
        "So far, we have only used the **round()** function to output numbers with given precision. Instead of using the round function, you can also learn how to format the output (that is, how to use the **format** function).\n",
        "Suppose the output of your exercise is a velocity of 25.43217896545 m/s, which is stored in the variable velocity, and\n",
        "You want to format the output after the significant digit. You can use the format method to do the following:\n",
        "\n",
        "```\n",
        "# print(\" The velocity is = {:6.3f} m/s\".format(velocity))\n",
        "```\n",
        "The output in this case (try it!) is:\n",
        "\n",
        "```\n",
        "# The velocity is = 25.432 m/s\n",
        "```\n",
        "{:6.3f} is a placeholder that determines where and in what format the value of the variable is inserted into the output string.\n",
        "The format 6.3f after the colon : , indicates that the value must be printed with 6 digits (including decimal places) and 3 decimal places.\n",
        "If you want to print a whole number, for example 514, you can use 'd' in {:d}:\n",
        "```\n",
        "# print(\"The number is:{:d}\".format(velocity))\n",
        "\n",
        "```\n",
        "To print the above velocity value in scientific notation: {:6.3e}\n",
        "\n",
        "\n",
        "```\n",
        "# print(\" The velocity is = {:6.3e} m/s\".format(velocity))\n",
        "```\n",
        "If you are interested, you can read (**optional**) the following deeper introduction to the *Format* method. The **format** method is very useful, but a bit complicated and too time consuming for this course.\n",
        "If you are interested in it, we recommend, for example, the [format method](https://python-course.eu/python-tutorial/formatted-output.php) page (from which the following figure is taken) or look here for all the details: https://pyformat.info\n",
        "\n",
        "![format method](https://python-course.eu/images/python-tutorial/format_method_positional_parameters_600w.webp)"
      ]
    },
    {
      "cell_type": "code",
      "execution_count": 63,
      "metadata": {
        "colab": {
          "base_uri": "https://localhost:8080/"
        },
        "id": "6pyXWfxnG0SR",
        "outputId": "18113b7b-0bab-4d3b-8add-76fa6535682c",
        "trusted": true
      },
      "outputs": [
        {
          "name": "stdout",
          "output_type": "stream",
          "text": [
            "The volume of cylinder is=62.83 m^3\n"
          ]
        }
      ],
      "source": [
        "# We report here the above solution with the \"string\" format method just explained\n",
        "\n",
        "def volume(radius, height):\n",
        "    \"\"\" radius in meter, height in meter the function return volume of cylinder \"\"\"\n",
        "    vol = np.pi * radius**2 * height\n",
        "    return print(\"The volume of cylinder is={:5.2f} m^3\".format(vol))  #\n",
        "\n",
        "volume(2, 5)"
      ]
    },
    {
      "cell_type": "markdown",
      "metadata": {
        "id": "SxkU_MpilmCf"
      },
      "source": [
        "**Exercise 7:**\n",
        "\n",
        "Write a volume of 75.73 $m^3$ and express it (with all significant figures) and in scientific notation."
      ]
    },
    {
      "cell_type": "markdown",
      "metadata": {
        "id": "uqndZVlhltPu"
      },
      "source": [
        "## My first plots\n",
        "We will now see how to create a simple 2D plot. For plotting, we need to import the **matplotlib** library.\n",
        "As mentioned before, we usually import all the modules at the beginning of the notebook, and in most cases we will import the following modules:\n",
        "```python\n",
        "import numpy as np\n",
        "import matplotlib.pyplot as plt\n",
        "import pandas as pd\n",
        "import scipy\n",
        "```\n",
        "**Numpy** is the standard package for scientific calculations with Python.\n",
        "\n",
        "\n",
        "**Scipy** further extends the mathematical functions and numerical routines.\n",
        "\n",
        "**Matplotlib** is the standard package for creating plots.\n",
        "\n",
        "\n",
        "**Pandas** uses data structures similar to Excel and provides a set of powerful data manipulation and analysis tools. The structure of **Pandas** can be a little difficult at first, but the power of **Pandas** definitely outweighs the effort.\n",
        "\n",
        "So in the future, all you have to do is copy the above import list to the top of your notebook."
      ]
    },
    {
      "cell_type": "code",
      "execution_count": 64,
      "metadata": {
        "id": "WvNQqI1Wdv9L",
        "trusted": true
      },
      "outputs": [],
      "source": [
        "import numpy as np\n",
        "import matplotlib.pyplot as plt\n",
        "import pandas as pd\n",
        "import scipy"
      ]
    },
    {
      "cell_type": "markdown",
      "metadata": {
        "id": "yHDITPZsl4w_"
      },
      "source": [
        "If we consider x and y as a list of coordinates of 5 points, we can create a diagram:"
      ]
    },
    {
      "cell_type": "code",
      "execution_count": 65,
      "metadata": {
        "colab": {
          "base_uri": "https://localhost:8080/",
          "height": 279
        },
        "id": "PIQYfLvnvMn4",
        "outputId": "e86902dd-d4c2-4848-c597-b823795ad4b8",
        "trusted": true
      },
      "outputs": [
        {
          "data": {
            "image/png": "[encoded data removed]",
            "text/plain": [
              "<Figure size 432x288 with 1 Axes>"
            ]
          },
          "metadata": {
            "needs_background": "light"
          },
          "output_type": "display_data"
        }
      ],
      "source": [
        "x = [1.1, 1.5, 2.4, 3.3, 4.6]\n",
        "y = [0.2, 0.27, 0.37, 0.6, 0.8]\n",
        "\n",
        "plt.plot(x,y,'kx')  # In 'kx', 'k' means the colour black - 'x' refers to data point symbol x\n",
        "plt.xlabel('Length (cm)')\n",
        "plt.ylabel('Force (N)')\n",
        "plt.show()"
      ]
    },
    {
      "cell_type": "markdown",
      "metadata": {
        "id": "wsOv8JL3l9YL"
      },
      "source": [
        "Given another set of data points z, multiple graphs can be created on the same axes, as in the following example:"
      ]
    },
    {
      "cell_type": "code",
      "execution_count": 66,
      "metadata": {
        "id": "JWBXRGr3x0JH",
        "trusted": true
      },
      "outputs": [],
      "source": [
        "z=[0.3,0.34,0.56,0.77,0.9]"
      ]
    },
    {
      "cell_type": "code",
      "execution_count": 67,
      "metadata": {
        "colab": {
          "base_uri": "https://localhost:8080/",
          "height": 295
        },
        "id": "9Dl3KwwDvMn4",
        "outputId": "21253f9f-a2cc-491d-feb9-96d08095190a",
        "trusted": true
      },
      "outputs": [
        {
          "data": {
            "image/png": "[encoded data removed]",
            "text/plain": [
              "<Figure size 432x288 with 1 Axes>"
            ]
          },
          "metadata": {
            "needs_background": "light"
          },
          "output_type": "display_data"
        }
      ],
      "source": [
        "plt.plot(x,y,'kx')  # In 'kx', 'k' means black - 'x' refers to data point symbol x\n",
        "plt.plot(x,z,'bo')  # In 'bo', 'b' means blue- 'o' to data point symbol o\n",
        "plt.xlabel(' Length (cm)')  # x axis label\n",
        "plt.ylabel(' Force (N)')   # y axis label\n",
        "plt.title('My second plot of two data point sets')\n",
        "plt.show()"
      ]
    },
    {
      "cell_type": "markdown",
      "metadata": {
        "id": "Xh2bUYXumDtp"
      },
      "source": [
        "#### In the next lesson, we will improve our plot creation skills using matlplotlib...."
      ]
    },
    {
      "cell_type": "markdown",
      "metadata": {
        "id": "bKmL1_sGmJ18"
      },
      "source": [
        "## **Attention:**\n",
        "\n",
        "Don't forget to save your notebook before you close it!!! After you have saved the notebook, the notebook must be converted to a PDF. Upload both files PDF and the original Jupiter Notebook (The file extension is '.ipynb') to Moodle.\n",
        "\n",
        "There are several ways to convert the notebook to PDF, each of which differs by environment. We present here the three ways, for Anaconda/Jupiter notebooks, Google Colab as well as for the browser application of Jupyter.org/JupyterLab.\n",
        "\n",
        "**Anaconda/JupyterNotebooks:** To save the notebook click on 'Files'/'File' and there on 'Download as Notebook (.ipynb)'/'Save as Notebook (.ipynb)'. To convert the notebook to PDF click on 'Files'/'File' and there press 'print preview' and then print it as PDF.  \n",
        "\n",
        "**Google Colab:** To download the notebook click here on 'Files' and select 'download .ipynb'. To convert the notebook to PDF click on 'Files'/'File' and press 'print preview' there and then print it as PDF.\n",
        "\n",
        "**Webbrowser application Jupyter.org (Here you should use JupyterLab!!!!)**: To download the notebook click on 'Files' and select 'download'. To convert it to a PDF go to 'File', select 'print' and then 'print pdf'."
      ]
    },
    {
      "cell_type": "code",
      "execution_count": null,
      "metadata": {
        "id": "q-HX11wKZkml"
      },
      "outputs": [],
      "source": []
    }
  ],
  "metadata": {
    "colab": {
      "provenance": []
    },
    "kernelspec": {
      "display_name": "base",
      "language": "python",
      "name": "python3"
    },
    "language_info": {
      "codemirror_mode": {
        "name": "ipython",
        "version": 3
      },
      "file_extension": ".py",
      "mimetype": "text/x-python",
      "name": "python",
      "nbconvert_exporter": "python",
      "pygments_lexer": "ipython3",
      "version": "3.9.12"
    }
  },
  "nbformat": 4,
  "nbformat_minor": 0
}
