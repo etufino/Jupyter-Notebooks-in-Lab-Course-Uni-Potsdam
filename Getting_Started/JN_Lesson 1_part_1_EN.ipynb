{
  "cells": [
    {
      "cell_type": "markdown",
      "metadata": {
        "id": "rmUPT5Uhe1uJ"
      },
      "source": [
        "# Tutorial Lesson 1 Part 1: Introduction in Jupyter Notebooks with Python\n",
        "developed and designed by Eugenio Tufino and Micol Alemani\n",
        "\n",
        "**Introduction:**\n",
        "\n",
        "This is your first Jupiter Notebook written in the [Anaconda environment](https://www.anaconda.com/products/distribution). You will find Anaconda pre-installed on the computers in the lab. You can install Anaconda on your computer for free if you wish. If you have a Google account already, you can open and run all the notebooks you get in the basic lab with [Google Colab](https://colab.research.google.com/) as well. Colab is already pre-installed in your Google Drive by Google. However, a Google account is required for Google Colab. If you do not want to install Anaconda and you do not have a Google account, you have the option of running the notebooks in a browser. To do this, go to the [Jupyter](https://jupyter.org) page and click on \"Try\" and there on \"Jupiter Notebook\" or go directly to [JupyterTry](https://jupyter.org/try). In the following we refer to Jupiter **Notebooks with Anaconda** using JupyterLab.\n",
        "\n",
        "**Literature:**\n",
        "\n",
        "At the end of this notebook you will find a list of useful literature on programming with Python and on the scientific use of Jupiter Notebooks.\n",
        "\n",
        "**Let's start :-)...**\n",
        "\n",
        "A notebook consists of several types of cells (cell types). On the one hand, there are code cells which can be filled with programme code. On the other hand, text cells which can be filled with text, formulas and images. You can change the cell type by selecting a cell and choosing **\"Markdown \"** for text cells or **\"Code \"** for code cells in the bar at the top.  \n",
        "\n",
        "To edit a Markdown cell, double-click on it. Insert your text and press SHIFT and ENTER while selecting the cell. Alternatively, you can press \"Run\" in the menu bar (the arrow in the top bar if you are using Jupiter Notebooks)."
      ]
    },
    {
      "cell_type": "markdown",
      "metadata": {
        "id": "U3soAhbThF8u"
      },
      "source": [
        "## My first code in the Jupyter Notebook\n",
        "As usual, we start with the Hello World programme which simply outputs the sentence \"Hello World\".\n",
        "\n",
        "In code cells you use the hash # to comment the code. Anything commented is not executed in the program. You should get into the habit of commenting your code. This makes your work comprehensible for you and for others, even long after you have written the code."
      ]
    },
    {
      "cell_type": "code",
      "execution_count": null,
      "metadata": {
        "colab": {
          "base_uri": "https://localhost:8080/"
        },
        "id": "sYMB9MB20GE5",
        "outputId": "100c63da-abe2-4819-9381-3069eb6f795b"
      },
      "outputs": [
        {
          "name": "stdout",
          "output_type": "stream",
          "text": [
            "Hello World\n"
          ]
        }
      ],
      "source": [
        "print(\"Hello World\")    #press SHIFT + ENTER to execute the cell"
      ]
    },
    {
      "cell_type": "markdown",
      "metadata": {
        "id": "ri1LafUvhPz3"
      },
      "source": [
        "## Use Python as a calculator\n",
        "In this section you will learn how to use the notebooks as a scientific calculator.\n",
        "\n",
        "\n",
        "In Python, to assign a value to a variable, you use the assigment operator **=**.\n",
        "\n",
        "For example:\n",
        "\n",
        "`a=10`\n",
        "\n",
        "we store the number 10 in the variable `a`.\n",
        "\n",
        "**Important comment:**\n",
        "Python uses line breaks to end a command. Each statement must start on a new line.\n",
        "\n",
        "The most important symbols for arithmetic operations are:\n",
        "\n",
        "- $+$ for addition\n",
        "- \\- for subtraction\n",
        "- $*$ for multiplication\n",
        "- / for division\n",
        "- ** for exponents\n",
        "- // for integer division (divides the numbers, but rounded to whole numbers)\n",
        "- % for modulo (returns the remainder when dividing)"
      ]
    },
    {
      "cell_type": "code",
      "execution_count": null,
      "metadata": {
        "colab": {
          "base_uri": "https://localhost:8080/"
        },
        "id": "55TUDuq_gLjG",
        "outputId": "3549f026-b9a2-4a6b-d402-259bfb7686a7",
        "trusted": true
      },
      "outputs": [
        {
          "data": {
            "text/plain": [
              "18.200000000000003"
            ]
          },
          "execution_count": 1,
          "metadata": {},
          "output_type": "execute_result"
        }
      ],
      "source": [
        "# Example of simple calculation, press SHIFT and ENTER or click the arrow on the left to execute the code\n",
        "3*5.4+2"
      ]
    },
    {
      "cell_type": "code",
      "execution_count": null,
      "metadata": {
        "colab": {
          "base_uri": "https://localhost:8080/"
        },
        "id": "56qUJjZugLjI",
        "outputId": "c0e9bebb-12bf-403d-b59d-d19b9e01bdae",
        "trusted": true
      },
      "outputs": [
        {
          "name": "stdout",
          "output_type": "stream",
          "text": [
            "30\n"
          ]
        }
      ],
      "source": [
        "# Assign values to the variables x and y\n",
        "x = 10\n",
        "y = 3\n",
        "c=x*y # assign to the variable c the result of a mathematical operation like for example multiplication\n",
        "print(c) # with this command you ask to return the result of the operation"
      ]
    },
    {
      "cell_type": "code",
      "execution_count": null,
      "metadata": {
        "colab": {
          "base_uri": "https://localhost:8080/"
        },
        "id": "49_pXPGwFvq-",
        "outputId": "632de52f-0379-4a7d-b1d6-3557b937b612"
      },
      "outputs": [
        {
          "name": "stdout",
          "output_type": "stream",
          "text": [
            "w= 1.464\n"
          ]
        }
      ],
      "source": [
        "z=3/4+5/7  # you can also calculate the sum of some fractions\n",
        "w=round(z,3)  # with this function 'round' you round the number z to 3 decimal places\n",
        "print(\"w=\",w) # with this command you ask to return the result of the operation and add some text that indicates want you have calculated"
      ]
    },
    {
      "cell_type": "code",
      "execution_count": null,
      "metadata": {
        "colab": {
          "base_uri": "https://localhost:8080/"
        },
        "id": "AAWYjAqKLXLd",
        "outputId": "9b1043eb-8062-4aaa-9922-416ca2a617d2"
      },
      "outputs": [
        {
          "name": "stdout",
          "output_type": "stream",
          "text": [
            "Die Summe von x und y ist:  13\n"
          ]
        }
      ],
      "source": [
        "# An other example of operation\n",
        "print(\"Sum of x and y is: \",x+y)"
      ]
    },
    {
      "cell_type": "code",
      "execution_count": null,
      "metadata": {
        "colab": {
          "base_uri": "https://localhost:8080/"
        },
        "id": "T1MQunLIuEHF",
        "outputId": "cd913823-7c09-473c-ee0c-5c5c8d42c2ab",
        "trusted": true
      },
      "outputs": [
        {
          "name": "stdout",
          "output_type": "stream",
          "text": [
            "9\n"
          ]
        }
      ],
      "source": [
        "# Exponentiation: To calculate the \"square\" of a number a, one writes in python a**2  , with two asterisks\n",
        "d=y**2  # exponentiation\n",
        "print(d)  # print the result"
      ]
    },
    {
      "cell_type": "code",
      "execution_count": null,
      "metadata": {
        "colab": {
          "base_uri": "https://localhost:8080/"
        },
        "id": "Gs3dV5JUm4nU",
        "outputId": "473551c9-7fd7-486d-9de9-baf97aeeafec",
        "trusted": true
      },
      "outputs": [
        {
          "name": "stdout",
          "output_type": "stream",
          "text": [
            "81\n"
          ]
        }
      ],
      "source": [
        "# Exponentiation with other powers\n",
        "y=3**4 # this indicates the operation 3 elevated to the 4th power\n",
        "print(y)"
      ]
    },
    {
      "cell_type": "markdown",
      "metadata": {
        "id": "Fg_zTYY4hZxo"
      },
      "source": [
        "### Scientific notation (shorthand)\n",
        "\n",
        "Suppose you have the following number: 2.51 x 10$^{-5}$.\n",
        "This can be written as:\n",
        "\n",
        "\n",
        "```\n",
        "# 2.51*10**-5\n",
        "```\n",
        "or you use the compact syntax with the letter \"e\" followed by the exponent in the decimal system as a whole number:\n",
        "\n",
        "\n",
        "\n",
        "```\n",
        "# 2.51e-05\n",
        "\n",
        "```"
      ]
    },
    {
      "cell_type": "markdown",
      "metadata": {
        "id": "FfEcwB24zk-b"
      },
      "source": [
        "**Exercise 1:**\n",
        "Write the number 2.99x10$^8$ m/s in both notations"
      ]
    },
    {
      "cell_type": "markdown",
      "metadata": {
        "id": "o04YWR-Pzgep"
      },
      "source": [
        "**Example:**\n",
        "\n",
        "Determine the amount of gravitational force between the Earth and you, assuming that you have a mass of 60.0kg. Use the mass of the Earth as $5.97×10^{24}$ kg and the radius of 6370 km."
      ]
    },
    {
      "cell_type": "markdown",
      "metadata": {
        "id": "k1wXDG2azqHl"
      },
      "source": [
        "We will look at the significant parts of the result later."
      ]
    },
    {
      "cell_type": "markdown",
      "metadata": {
        "id": "Qlqqnsa0zvTa"
      },
      "source": [
        "**Exercise 2:**\n",
        "\n",
        "Calculate the gravitational force between the Earth and the Sun, given the mass of the Earth is $5.97×10^{24} kg$ and that of the Sun is $1.99×10^{30} kg$. The average distance between the two objects is $1.5×10^{11} m$ . The gravitational constant is $6.674×10^{-11} N*m^2⋅kg^{-2}.$"
      ]
    },
    {
      "cell_type": "markdown",
      "metadata": {
        "id": "MoMGr2orz1jU"
      },
      "source": [
        "## Math and Numpy modules\n",
        "\n",
        "There are several modules in Python that contain predefined functions. You can choose which modules you want to use depending on your needs. The **math module** contains most common mathematical functions. For documentation see here: [math module](https://docs.python.org/3/library/math.html). There is also the **Sympy module** which allows symbolic arithmetic, for example simplification of terms, derivatives, matrix multiplication, etc. For further examples see here: [Sympy](https://docs.sympy.org/latest/index.html).\n",
        "\n",
        "In this course we will not use Sympy any further.\n",
        "\n",
        "In the basic practical we will instead focus on two very powerful modules. The so-called [**NumPy**](https://numpy.org/) module (NumPy stands for \"Numerical Python\") and the **SciPy** module. You will learn about SciPy later in the course.\n",
        "\n",
        "To use a function in a specific module, you must import the module with the following command:"
      ]
    },
    {
      "cell_type": "code",
      "execution_count": null,
      "metadata": {
        "colab": {
          "base_uri": "https://localhost:8080/"
        },
        "id": "7xOoa2ySuQ_U",
        "outputId": "a471a26e-74b4-49c6-b30c-017993dfe018",
        "trusted": true
      },
      "outputs": [
        {
          "data": {
            "text/plain": [
              "3.0"
            ]
          },
          "execution_count": 7,
          "metadata": {},
          "output_type": "execute_result"
        }
      ],
      "source": [
        "import math   # here we import the math module\n",
        "math.sqrt(9)      # here we use the square root function in the math module"
      ]
    },
    {
      "cell_type": "markdown",
      "metadata": {
        "id": "TJvs2EcV0EMC"
      },
      "source": [
        "**Comment:**\n",
        "\n",
        "The above method is the best way to import functions.\n",
        "Another method is the following:\n",
        "```python\n",
        "from numpy import *\n",
        "numpy.sqrt(2)\n",
        "```\n",
        "where the asterisk stands for 'everything'\n",
        "\n",
        "Here's another method:\n",
        "```python\n",
        "from numpy import sqrt\n",
        "sqrt(2)\n",
        "```\n",
        "This instruction `sqrt` instead of `numpy.sqrt` is written quickly, but can lead to problems if several modules are used in a notebook at the same time, as it is not clear which function is meant. For example, the function `sqrt` can come from the **math** or **numpy** module.\n",
        "\n",
        "We therefore strongly recommend calling the functions with the following syntax: `module name.function name`."
      ]
    },
    {
      "cell_type": "markdown",
      "metadata": {
        "id": "zyY0EDdg0Qq-"
      },
      "source": [
        "**Example:**\n",
        "\n",
        "Calculate the uncertainty of the reading of a digital scale with a resolution of a=0.1g"
      ]
    },
    {
      "cell_type": "code",
      "execution_count": null,
      "metadata": {
        "colab": {
          "base_uri": "https://localhost:8080/"
        },
        "id": "Ci1t1il-k1zE",
        "outputId": "feffc657-b180-48bb-f21c-34839516560b",
        "trusted": true
      },
      "outputs": [
        {
          "name": "stdout",
          "output_type": "stream",
          "text": [
            "0.02886751345948129\n"
          ]
        }
      ],
      "source": [
        "import numpy\n",
        "u=(0.1)/(2* (numpy.sqrt(3))) #in g\n",
        "print (u) #in g"
      ]
    },
    {
      "cell_type": "markdown",
      "metadata": {
        "id": "eayFrlUK0WNK"
      },
      "source": [
        "**Important:**\n",
        "\n",
        "In the lab course we will often introduce the alias **np** for the numpy module. For this we write the following:\n",
        "\n",
        "\n",
        "```python\n",
        "import numpy as np\n",
        "```"
      ]
    },
    {
      "cell_type": "markdown",
      "metadata": {
        "id": "Rgkx3O7p0drO"
      },
      "source": [
        "So the example from above becomes:"
      ]
    },
    {
      "cell_type": "code",
      "execution_count": null,
      "metadata": {
        "colab": {
          "base_uri": "https://localhost:8080/"
        },
        "id": "L__YEEwajSAX",
        "outputId": "cf62399a-eb14-4217-8c84-e54eb231dda5",
        "trusted": true
      },
      "outputs": [
        {
          "name": "stdout",
          "output_type": "stream",
          "text": [
            "0.02886751345948129\n"
          ]
        }
      ],
      "source": [
        "import numpy as np\n",
        "u=(0.1)/(2* (np.sqrt(3))) #in g\n",
        "print (u) #in g"
      ]
    },
    {
      "cell_type": "markdown",
      "metadata": {
        "id": "EdfgvA-903oP"
      },
      "source": [
        "**Exercise 3:**\n",
        "\n",
        "Calculate the area of a circle with radius=3.0cm in m^2.\n",
        "\n",
        "Note: $\\pi$ can be loaded from `np.pi` the numpy module."
      ]
    },
    {
      "cell_type": "markdown",
      "metadata": {
        "id": "qmto54pV0wx_"
      },
      "source": [
        "## Getting Help\n",
        "\n",
        "The most direct method to call the help/documentation is the built-in function **help**.\n",
        "For example, `help(maths)` can be used to retrieve information about the maths module. The **help** function can be used to retrieve the documentation of modules, functions, classes and key-words, etc.\n",
        "\n",
        "To call all functions in the math or NumPy module, write `help(math)` or `help(np)`. To call the help for a function within a module one can write the following:\n",
        "\n",
        "```\n",
        "# help(np.sin)\n",
        "```\n",
        "or\n",
        "\n",
        "\n",
        "```\n",
        "# np.sin?   # in the Jupiter notebook environment\n",
        "```"
      ]
    },
    {
      "cell_type": "markdown",
      "metadata": {
        "id": "Oup8uTO71vki"
      },
      "source": [
        "**Exercise 4:**\n",
        "\n",
        "Try calling the help for the cos function in the np module using both methods."
      ]
    },
    {
      "cell_type": "markdown",
      "metadata": {
        "id": "Maeyj_6711Dj"
      },
      "source": [
        "**Exercise 5:**\n",
        "\n",
        "In a right triangle the side y opposite to the angle $θ$ is y=3.2 cm, while the adjacent side x=2.4 cm. Calculate the angle $θ$ in radians and degrees. Use the module **math** to solve this problem."
      ]
    },
    {
      "cell_type": "markdown",
      "metadata": {
        "id": "889WyhoF2ABq"
      },
      "source": [
        "**From here on, all 'Lesson1_part1' tasks are optional. If you want to do these tasks, you should do them outside the lab course. In the lab you should do the tasks 'Lesson1_part2'**."
      ]
    },
    {
      "cell_type": "markdown",
      "metadata": {
        "id": "ldSpXRfx2Gqg"
      },
      "source": [
        "## **Attention:**\n",
        "\n",
        "Do not forget to save your notebook before you close it! After you have saved the notebook, the notebook must be converted to a PDF. Upload both files, the PDF and the original Jupiter Notebook (the file extension is '.ipynb') to Moodle.\n",
        "\n",
        "There are several ways to convert the notebook to PDF, each of which varies by environment. We present here the three options, for Anaconda/Jupiter notebooks, Google Colab as well as for the browser application of Jupyter.org/JupyterLab.\n",
        "\n",
        "**Anaconda/JupyterNotebooks:** To save the notebook click on 'Files'/'File' and there on 'Download as Notebook (.ipynb)'/'Save as Notebook (.ipynb)'. To convert the notebook to PDF click on 'Files'/'File' and press 'print preview' and then print it as PDF.  \n",
        "\n",
        "**Google Colab:** To download the notebook click here on 'Files' and select 'download .ipynb'. To convert the notebook to PDF click on 'Files'/'File' and press 'print preview' and then print it as PDF.\n",
        "\n",
        "**Web browser application Jupyter.org (Here you should use JupyterLab!!!!)**: To download the notebook click on 'Files' and select 'download'. To convert it to a PDF go to 'File', select 'print' and then 'print pdf'."
      ]
    },
    {
      "cell_type": "markdown",
      "metadata": {
        "id": "7Y4FYwVv2PbV"
      },
      "source": [
        "# Markdown\n",
        "\n",
        "This cell contains so-called \"Markdown\".\n",
        "\n",
        "You can use the Markdown cells to add text to your notebooks.\n",
        "\n",
        "If you are using Jupyter Notebook you can learn more about text formatting by clicking on 'Help' > 'Markdown' > 'Basic Writing and Formatting Text'. At the end of the list you will find a tutorial where you can practice in depth how to format text in the Markdown cells of Jupyter Notebooks. Alternatively, you can use this link: [formatting the markdown text](https://help.github.com/articles/basic-writing-and-formatting-syntax/)\n",
        "\n",
        "For Google colab notebooks you can follow this link: [markdown text in Colab](https://colab.research.google.com/notebooks/markdown_guide.ipynb#scrollTo=w86a4I4fmkvD). The differences are very small.\n",
        "\n",
        "Formulas can be written using $\\LaTeX$ by using \"`$`\" symbols:\n",
        "\n",
        "For example: $\\sqrt{x}+x^2$ or\n",
        "\n",
        "$\\cos (2\\theta) = \\cos^2 \\theta - \\sin^2 \\theta$  \n",
        "\n",
        "$\\sqrt{\\frac{a}{b}}$\n",
        "\n",
        "$\\int_1^5 \\frac{1}{x^n}\\,\\mathrm{d}x$\n",
        "\n",
        "To write equations on their own lines and separate them from the rest of the text, use blocks separated by `$$`:\n",
        "\n",
        "$$\n",
        "\\int_1^5 \\frac{1}{x^n}\\,\\mathrm{d}x\n",
        "$$\n",
        "\n",
        "For a reference to mathematics in $\\LaTeX$ you can use the following link [here](https://en.wikibooks.org/wiki/LaTeX/Mathematics)"
      ]
    },
    {
      "cell_type": "markdown",
      "metadata": {
        "id": "kdxTRCqV2Wnp"
      },
      "source": [
        "**Exercise:**\n",
        "\n",
        "Write this sentence **bold** and **italic**: \"I learn a lot in the lab course\"."
      ]
    },
    {
      "cell_type": "markdown",
      "metadata": {
        "id": "vq7CtQAI0GF3"
      },
      "source": [
        "### Solution\n",
        "*I learn a lot in the lab course.*"
      ]
    },
    {
      "cell_type": "markdown",
      "metadata": {
        "id": "pocdoXyU2gU6"
      },
      "source": [
        "If you do not agree, you can use the strike-through formatting ~~ ~~."
      ]
    },
    {
      "cell_type": "markdown",
      "metadata": {
        "id": "52gFP4FS2nsf"
      },
      "source": [
        "~~I learn a lot in the lab course~~"
      ]
    },
    {
      "cell_type": "markdown",
      "metadata": {
        "id": "XzPgsgS426nb"
      },
      "source": [
        "**Exercise:**\n",
        "\n",
        "Write in latex the displacement-time law $s(t)$ for uniformly accelerated motion in the general case."
      ]
    },
    {
      "cell_type": "markdown",
      "metadata": {
        "id": "bsNxboJr3bSZ"
      },
      "source": [
        "Solution\n",
        "\n",
        "\n",
        "```\n",
        "# $x=v_{0}+a*t$\n",
        "This text here is wrong\n",
        "$s(t) = \\frac{1}{2}at^2 + v_0 t + s_0$\n",
        "\n",
        "```\n",
        "\n",
        "\n",
        "$x=v_{0}+a*t$\n",
        "$s(t) = \\frac{1}{2}at^2 + v_0 t + s_0$"
      ]
    },
    {
      "cell_type": "markdown",
      "metadata": {
        "id": "AnbuSmPg3oRa"
      },
      "source": [
        "## HyperLinks\n",
        "\n",
        "To insert links into the notebook use the following code:\n",
        "\n",
        "```\n",
        "# [Wikipedia](https://www.wikipedia.org)\n",
        "```\n",
        "\n",
        "[Wikipedia](https://www.wikipedia.org)\n",
        "\n",
        "\n",
        "## How to embed an image?\n",
        "\n",
        "### (A) Image from File (case of a .jpg image in the same folder as the notebook).\n",
        "Just write in a Markdown:\n",
        "````\n",
        "![](FileName.jpg)\n",
        "\n",
        "````\n",
        "\n",
        "\n",
        "### (B) Image from a link\n",
        "\n",
        "Embedding an image is similar to hyperlinks. Just put an exclamation mark '!' in front of the square brackets.\n",
        "\n",
        "```\n",
        "# ![Uni logo picture](https://www.uni-potsdam.de/typo3conf/ext/up_template/Resources/Public/Images/logos/up_logo_university_2.png)\n",
        "```\n",
        "\n",
        "\n",
        "\n",
        "![Uni logo picture](https://www.uni-potsdam.de/typo3conf/ext/up_template/Resources/Public/Images/logos/up_logo_university_2.png)"
      ]
    },
    {
      "cell_type": "markdown",
      "metadata": {
        "id": "d-nk8_ADh48D"
      },
      "source": [
        "**Example:**\n",
        "\n",
        "Insert a Markdown cell below this. It should contain a link to the Wikipedia article on Albert Einstein."
      ]
    },
    {
      "cell_type": "markdown",
      "metadata": {
        "id": "xWKqqZs_VeRh"
      },
      "source": [
        "Solution\n",
        "\n",
        "Link:\n",
        "[wikipedia link](https://en.wikipedia.org/wiki/Albert_Einstein#:~:text=Albert%20Einstein%20(%2F%CB%88a%C9%AAn,influential%20physicists%20of%20all%20time.)\n",
        "\n",
        "\n",
        "![wikipedia link](https://upload.wikimedia.org/wikipedia/commons/thumb/3/3e/Einstein_1921_by_F_Schmutzer_-_restoration.jpg/800px-Einstein_1921_by_F_Schmutzer_-_restoration.jpg)"
      ]
    },
    {
      "cell_type": "markdown",
      "metadata": {
        "id": "-PQfpCMRhtdm"
      },
      "source": [
        "## References\n",
        "\n",
        "- The official Python documentation [www.python.org/doc](https://www.python.org/doc)\n",
        "\n",
        "- A website where you can find answers to problems [stackoverflow](https://www.stackoverflow.com)\n",
        "\n",
        "### Books about physics with Python:\n",
        "- Lew Classen, Mit Jupyter durchs Physikpraktikum, Springer Spektrum Wiesbaden\n",
        "[www.link.springer.com/book/10.1007/978-3-658-37723-6](https://link.springer.com/book/10.1007/978-3-658-37723-6)\n",
        "\n",
        "- Jesse Kinder, Philip Nelson, A Guide to Python for Physical Modeling, Princeton University Press\n",
        "\n",
        "- Svein Linge, Hans Petter Langtangen, Programming for Computations - Python. A Gentle Introduction to Numerical Simulations with Python 3.6\n",
        "\n",
        "- Anders Malthe-Sørenssen, Elementary Mechanics Using Python"
      ]
    },
    {
      "cell_type": "code",
      "execution_count": null,
      "metadata": {
        "id": "vnNn2u1bKl5o"
      },
      "outputs": [],
      "source": []
    }
  ],
  "metadata": {
    "colab": {
      "provenance": []
    },
    "kernelspec": {
      "display_name": "Python (Pyodide)",
      "language": "python",
      "name": "python"
    },
    "language_info": {
      "codemirror_mode": {
        "name": "python",
        "version": 3
      },
      "file_extension": ".py",
      "mimetype": "text/x-python",
      "name": "python",
      "nbconvert_exporter": "python",
      "pygments_lexer": "ipython3",
      "version": "3.8"
    }
  },
  "nbformat": 4,
  "nbformat_minor": 0
}
